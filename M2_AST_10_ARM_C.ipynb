{
  "cells": [
    {
      "cell_type": "markdown",
      "metadata": {
        "id": "view-in-github",
        "colab_type": "text"
      },
      "source": [
        "<a href=\"https://colab.research.google.com/github/Srividhyak2011/Demo-Datascienceproject/blob/main/M2_AST_10_ARM_C.ipynb\" target=\"_parent\"><img src=\"https://colab.research.google.com/assets/colab-badge.svg\" alt=\"Open In Colab\"/></a>"
      ]
    },
    {
      "cell_type": "markdown",
      "source": [
        "# Applied Data Science and Machine Intelligence\n",
        "## A program by IITM and TalentSprint\n",
        "### Assignment 10: Association Rule Minining"
      ],
      "metadata": {
        "id": "9b7hXkl7Mn4n"
      },
      "id": "9b7hXkl7Mn4n"
    },
    {
      "cell_type": "markdown",
      "metadata": {
        "id": "innocent-wiring"
      },
      "source": [
        "## Learning Objectives"
      ],
      "id": "innocent-wiring"
    },
    {
      "cell_type": "markdown",
      "metadata": {
        "id": "actual-tiger"
      },
      "source": [
        "At the end of the experiment, you will be able to\n",
        "\n",
        "* perform exhasutive EDA\n",
        "* visualize the data distributions\n",
        "* understand and implement Assocation Rule Mining"
      ],
      "id": "actual-tiger"
    },
    {
      "cell_type": "markdown",
      "metadata": {
        "id": "7KIL-FBcvmDB"
      },
      "source": [
        "### Setup Steps:"
      ],
      "id": "7KIL-FBcvmDB"
    },
    {
      "cell_type": "code",
      "metadata": {
        "id": "xWMVQWk58aXm"
      },
      "source": [
        "#@title Please enter your registration id to start: { run: \"auto\", display-mode: \"form\" }\n",
        "Id = \"\" #@param {type:\"string\"}"
      ],
      "execution_count": null,
      "outputs": [],
      "id": "xWMVQWk58aXm"
    },
    {
      "cell_type": "code",
      "metadata": {
        "id": "cwqosl928dBA"
      },
      "source": [
        "#@title Please enter your password (normally your phone number) to continue: { run: \"auto\", display-mode: \"form\" }\n",
        "password = \"\" #@param {type:\"string\"}"
      ],
      "execution_count": null,
      "outputs": [],
      "id": "cwqosl928dBA"
    },
    {
      "cell_type": "code",
      "execution_count": null,
      "metadata": {
        "cellView": "form",
        "id": "8ptIQOnnbwbz"
      },
      "outputs": [],
      "source": [
        "#@title Run this cell to complete the setup for this Notebook\n",
        "from IPython import get_ipython\n",
        "\n",
        "ipython = get_ipython()\n",
        "  \n",
        "notebook= \"M2_AST_10_ARM_C\" #name of the notebook\n",
        "\n",
        "def setup():\n",
        "#  ipython.magic(\"sx pip3 install torch\")  \n",
        "\n",
        "    from IPython.display import HTML, display\n",
        "    ipython.magic(\"sx wget https://cdn.extras.talentsprint.com/ADSMI/Datasets/marketing_campaign.zip\")\n",
        "    ipython.magic(\"sx unzip marketing_campaign.zip\")\n",
        "    display(HTML('<script src=\"https://dashboard.talentsprint.com/aiml/record_ip.html?traineeId={0}&recordId={1}\"></script>'.format(getId(),submission_id)))\n",
        "    print(\"Setup completed successfully\")\n",
        "    return\n",
        "\n",
        "def submit_notebook():\n",
        "    ipython.magic(\"notebook -e \"+ notebook + \".ipynb\")\n",
        "    \n",
        "    import requests, json, base64, datetime\n",
        "\n",
        "    url = \"https://dashboard.talentsprint.com/xp/app/save_notebook_attempts\"\n",
        "    if not submission_id:\n",
        "      data = {\"id\" : getId(), \"notebook\" : notebook, \"mobile\" : getPassword()}\n",
        "      r = requests.post(url, data = data)\n",
        "      r = json.loads(r.text)\n",
        "\n",
        "      if r[\"status\"] == \"Success\":\n",
        "          return r[\"record_id\"]\n",
        "      elif \"err\" in r:        \n",
        "        print(r[\"err\"])\n",
        "        return None        \n",
        "      else:\n",
        "        print (\"Something is wrong, the notebook will not be submitted for grading\")\n",
        "        return None\n",
        "    \n",
        "    elif getAnswer() and getComplexity() and getAdditional() and getConcepts() and getComments() and getMentorSupport():\n",
        "      f = open(notebook + \".ipynb\", \"rb\")\n",
        "      file_hash = base64.b64encode(f.read())\n",
        "\n",
        "      data = {\"complexity\" : Complexity, \"additional\" :Additional, \n",
        "              \"concepts\" : Concepts, \"record_id\" : submission_id, \n",
        "              \"answer\" : Answer, \"id\" : Id, \"file_hash\" : file_hash,\n",
        "              \"notebook\" : notebook,\n",
        "              \"feedback_experiments_input\" : Comments,\n",
        "              \"feedback_mentor_support\": Mentor_support}\n",
        "      r = requests.post(url, data = data)\n",
        "      r = json.loads(r.text)\n",
        "      if \"err\" in r:        \n",
        "        print(r[\"err\"])\n",
        "        return None   \n",
        "      else:\n",
        "        print(\"Your submission is successful.\")\n",
        "        print(\"Ref Id:\", submission_id)\n",
        "        print(\"Date of submission: \", r[\"date\"])\n",
        "        print(\"Time of submission: \", r[\"time\"])\n",
        "        print(\"View your submissions: https://adsmi-iitm.talentsprint.com/notebook_submissions\")\n",
        "        #print(\"For any queries/discrepancies, please connect with mentors through the chat icon in LMS dashboard.\")\n",
        "        return submission_id\n",
        "    else: submission_id\n",
        "    \n",
        "\n",
        "def getAdditional():\n",
        "  try:\n",
        "    if not Additional: \n",
        "      raise NameError\n",
        "    else:\n",
        "      return Additional  \n",
        "  except NameError:\n",
        "    print (\"Please answer Additional Question\")\n",
        "    return None\n",
        "\n",
        "def getComplexity():\n",
        "  try:\n",
        "    if not Complexity:\n",
        "      raise NameError\n",
        "    else:\n",
        "      return Complexity\n",
        "  except NameError:\n",
        "    print (\"Please answer Complexity Question\")\n",
        "    return None\n",
        "  \n",
        "def getConcepts():\n",
        "  try:\n",
        "    if not Concepts:\n",
        "      raise NameError\n",
        "    else:\n",
        "      return Concepts\n",
        "  except NameError:\n",
        "    print (\"Please answer Concepts Question\")\n",
        "    return None\n",
        "  \n",
        "  \n",
        "# def getWalkthrough():\n",
        "#   try:\n",
        "#     if not Walkthrough:\n",
        "#       raise NameError\n",
        "#     else:\n",
        "#       return Walkthrough\n",
        "#   except NameError:\n",
        "#     print (\"Please answer Walkthrough Question\")\n",
        "#     return None\n",
        "  \n",
        "def getComments():\n",
        "  try:\n",
        "    if not Comments:\n",
        "      raise NameError\n",
        "    else:\n",
        "      return Comments\n",
        "  except NameError:\n",
        "    print (\"Please answer Comments Question\")\n",
        "    return None\n",
        "  \n",
        "\n",
        "def getMentorSupport():\n",
        "  try:\n",
        "    if not Mentor_support:\n",
        "      raise NameError\n",
        "    else:\n",
        "      return Mentor_support\n",
        "  except NameError:\n",
        "    print (\"Please answer Mentor support Question\")\n",
        "    return None\n",
        "\n",
        "def getAnswer():\n",
        "  try:\n",
        "    if not Answer:\n",
        "      raise NameError \n",
        "    else: \n",
        "      return Answer\n",
        "  except NameError:\n",
        "    print (\"Please answer Question\")\n",
        "    return None\n",
        "  \n",
        "\n",
        "def getId():\n",
        "  try: \n",
        "    return Id if Id else None\n",
        "  except NameError:\n",
        "    return None\n",
        "\n",
        "def getPassword():\n",
        "  try:\n",
        "    return password if password else None\n",
        "  except NameError:\n",
        "    return None\n",
        "\n",
        "submission_id = None\n",
        "### Setup \n",
        "if getPassword() and getId():\n",
        "  submission_id = submit_notebook()\n",
        "  if submission_id:\n",
        "    setup() \n",
        "else:\n",
        "  print (\"Please complete Id and Password cells before running setup\")"
      ],
      "id": "8ptIQOnnbwbz"
    },
    {
      "cell_type": "markdown",
      "source": [
        "## Information"
      ],
      "metadata": {
        "id": "TQBmS5bGNMzd"
      },
      "id": "TQBmS5bGNMzd"
    },
    {
      "cell_type": "markdown",
      "id": "bb1ca516",
      "metadata": {
        "id": "bb1ca516",
        "papermill": {
          "duration": 0.075738,
          "end_time": "2022-02-10T11:12:20.997000",
          "exception": false,
          "start_time": "2022-02-10T11:12:20.921262",
          "status": "completed"
        },
        "tags": []
      },
      "source": [
        "#### Problem Statement : CONSUMER BUYING BEHAVIOUR ANALYSIS\n",
        "\n",
        "Customer buying behaviour Analysis is a detailed analysis of a company’s ideal customers. It helps a business to better understand its customers and makes it easier for them to modify products according to the specific needs, behaviors and concerns of different types of customers.\n",
        "\n",
        "This analysis helps a business to modify its product based on its target customers from different types of customer segments. For example, instead of spending money to market a new product to every customer in the company’s database, a company can analyze which customer segment is most likely to buy the product and then market the product only on that particular segment.\n",
        "\n"
      ]
    },
    {
      "cell_type": "markdown",
      "id": "7499ecb0-53c5-4623-b35a-29fa7afb7470",
      "metadata": {
        "tags": [],
        "id": "7499ecb0-53c5-4623-b35a-29fa7afb7470"
      },
      "source": [
        "#### **Association Rule Mining**\n",
        "\n",
        "\n",
        "Association Rule Mining or Association Rule based Learning is an unsupervised pattern recognition ML algorithm. It works by identifying different variables that appear frequently.\n",
        "\n",
        "If $object_1$ and $object_2$ occur together then the $object_k$ and/or $object_m$ would be in the associated list.\n",
        "\n",
        "- Example - 1\n",
        "\n",
        "If a person watches Lord of The Rings and Harry Potter, s/he would prefer watching Alice in Wonderland movie, rather than Matrix series.\n",
        "\n",
        "- Example - 2\n",
        "\n",
        "In a supermarket, if a person purchases Tennis Racket and a ball, s/he is likely to purchase shoes, rather than a knife.\n",
        "\n",
        "This technique isused mainly in pattern recognition tasks and recommendation systems.\n",
        "\n",
        "\n",
        "In this algorithmm, it works by mapping relationships between the variables, either through if-else or through a tree. For few objects it is very simple. For hundreds and thousands of objects, it becomes complicated and metrics are require\n",
        "![](https://upload.wikimedia.org/wikipedia/commons/c/c0/Association_Rule_Mining_Venn_Diagram.png)"
      ]
    },
    {
      "cell_type": "markdown",
      "id": "3295f5e4-8dd6-47aa-b6d7-2f29eed3162c",
      "metadata": {
        "id": "3295f5e4-8dd6-47aa-b6d7-2f29eed3162c"
      },
      "source": [
        "\n",
        "#### **Association Rule Mining Metrics**\n",
        "\n",
        "There are three commonly used metrics in Association Rule Mining.\n",
        "\n",
        "\n",
        "1.   Support\n",
        "2.   Confidence\n",
        "3.   Lift\n",
        "\n",
        "To define the above metrics, consider two elements A and B. These could be products in a supermarket, for example.\n",
        "\n",
        "**Support** is the frequency of A or how frequently an item appears in the dataset. It is defined as the fraction of the transaction T that contains the itemset X. If there are X datasets, then for transactions T, it can be written as:\n",
        "\n",
        "$$ Support(X) = \\frac{frequency(X)}{T} $$\n",
        "\n",
        "\n",
        "**Confidence** indicates how often the rule has been found to be true. Or how often the items X and Y occur together in the dataset when the occurrence of X is already given. It is the ratio of the transaction that contains X and Y to the number of records that contain X.\n",
        "\n",
        "$$ Confidence(X) = \\frac{frequency(X, Y)}{frequency(X)} $$\n",
        "\n",
        "\n",
        "**Lift** measures the strength of the rule.\n",
        "\n",
        "$$ Lift(X) = \\frac{Support(X,Y)}{Support(X) Support(Y)} $$\n",
        "\n",
        "It is the ratio of the observed support measure and expected support if X and Y are independent of each other. It has three possible values:\n",
        "\n",
        "- If Lift= 1: The probability of occurrence of A and B is independent of each other.\n",
        "\n",
        "- Lift>1: It determines the degree to which the two itemsets are dependent to each other.\n",
        "\n",
        "- Lift<1: It tells us that one item is a substitute for other items, which means one item has a negative effect on another."
      ]
    },
    {
      "cell_type": "markdown",
      "metadata": {
        "id": "hungry-accident"
      },
      "source": [
        "### Import required packages"
      ],
      "id": "hungry-accident"
    },
    {
      "cell_type": "code",
      "execution_count": null,
      "id": "233d04c0-909e-4e9a-bc55-648510d2bb58",
      "metadata": {
        "id": "233d04c0-909e-4e9a-bc55-648510d2bb58"
      },
      "outputs": [],
      "source": [
        "%%capture\n",
        "!pip install plotly\n",
        "!pip install mlxtend"
      ]
    },
    {
      "cell_type": "code",
      "execution_count": null,
      "id": "08fdc059",
      "metadata": {
        "id": "08fdc059",
        "papermill": {
          "duration": 1.089607,
          "end_time": "2022-02-10T11:12:22.317525",
          "exception": false,
          "start_time": "2022-02-10T11:12:21.227918",
          "status": "completed"
        },
        "tags": []
      },
      "outputs": [],
      "source": [
        "import numpy as np                               \n",
        "import pandas as pd                               \n",
        "\n",
        "import seaborn as sns\n",
        "import plotly.graph_objects as go\n",
        "import matplotlib.pyplot as plt\n",
        "\n",
        "import warnings\n",
        "warnings.filterwarnings('ignore')\n",
        "\n",
        "from sklearn.metrics import confusion_matrix,classification_report\n",
        "from sklearn.metrics import silhouette_score\n",
        "from sklearn.cluster import KMeans\n",
        "from math import sqrt\n",
        "from sklearn.preprocessing import LabelEncoder\n",
        "from sklearn import preprocessing\n",
        "\n",
        "from sklearn.metrics import classification_report\n",
        "from sklearn.metrics import accuracy_score,confusion_matrix,f1_score\n",
        "from sklearn.linear_model import LogisticRegression\n",
        "from sklearn.model_selection import train_test_split\n",
        "from sklearn.preprocessing import StandardScaler\n",
        "\n",
        "pd.set_option('display.max_columns', None)\n",
        "pd.set_option('display.max_rows', None)\n",
        "pd.set_option('display.max_colwidth', 999)\n",
        "pd.options.display.float_format = \"{:.3f}\".format\n",
        "\n",
        "from mlxtend.frequent_patterns import apriori\n",
        "from mlxtend.frequent_patterns import association_rules"
      ]
    },
    {
      "cell_type": "markdown",
      "id": "b70afbe7",
      "metadata": {
        "id": "b70afbe7",
        "papermill": {
          "duration": 0.074397,
          "end_time": "2022-02-10T11:12:23.392675",
          "exception": false,
          "start_time": "2022-02-10T11:12:23.318278",
          "status": "completed"
        },
        "tags": []
      },
      "source": [
        "### Importing Data"
      ]
    },
    {
      "cell_type": "code",
      "execution_count": null,
      "id": "a1d17e83",
      "metadata": {
        "id": "a1d17e83",
        "papermill": {
          "duration": 0.136692,
          "end_time": "2022-02-10T11:12:23.603895",
          "exception": false,
          "start_time": "2022-02-10T11:12:23.467203",
          "status": "completed"
        },
        "tags": []
      },
      "outputs": [],
      "source": [
        "# Import the Dataset\n",
        "df = pd.read_csv(\"marketing_campaign.csv\", sep=\"\\t\")\n",
        "df.head()"
      ]
    },
    {
      "cell_type": "markdown",
      "id": "0c98ddb1-4320-42cd-b913-8be881a085e9",
      "metadata": {
        "id": "0c98ddb1-4320-42cd-b913-8be881a085e9"
      },
      "source": [
        "##### **People**\n",
        "\n",
        "\n",
        "ID: Customer's unique identifier\n",
        "\n",
        "Year_Birth: Customer's birth year\n",
        "\n",
        "Education: Customer's education level\n",
        "\n",
        "Marital_Status: Customer's marital status\n",
        "\n",
        "Income: Customer's yearly household income\n",
        "\n",
        "Kidhome: Number of children in customer's household\n",
        "\n",
        "Teenhome: Number of teenagers in customer's household\n",
        "\n",
        "Dt_Customer: Date of customer's enrollment with the company\n",
        "\n",
        "Recency: Number of days since customer's last purchase\n",
        "\n",
        "Complain: 1 if customer complained in the last 2 years, 0 otherwise\n",
        "\n",
        "\n",
        "\n",
        "\n",
        "##### **Products**\n",
        "\n",
        "MntWines: Amount spent on wine in last 2 years\n",
        "\n",
        "MntFruits: Amount spent on fruits in last 2 years\n",
        "\n",
        "MntMeatProducts: Amount spent on meat in last 2 years\n",
        "\n",
        "MntFishProducts: Amount spent on fish in last 2 years\n",
        "\n",
        "MntSweetProducts: Amount spent on sweets in last 2 years\n",
        "\n",
        "MntGoldProds: Amount spent on gold in last 2 year\n",
        "\n",
        "\n",
        "\n",
        "##### **Promotion**\n",
        "\n",
        "NumDealsPurchases: Number of purchases made with a discount\n",
        "\n",
        "AcceptedCmp1: 1 if customer accepted the offer in the 1st campaign, 0 otherwise\n",
        "\n",
        "AcceptedCmp2: 1 if customer accepted the offer in the 2nd campaign, 0 otherwise\n",
        "\n",
        "AcceptedCmp3: 1 if customer accepted the offer in the 3rd campaign, 0 otherwise\n",
        "\n",
        "AcceptedCmp4: 1 if customer accepted the offer in the 4th campaign, 0 otherwise\n",
        "\n",
        "AcceptedCmp5: 1 if customer accepted the offer in the 5th campaign, 0 otherwise\n",
        "\n",
        "Response: 1 if customer accepted the offer in the last campaign, 0 otherwise\n",
        "\n",
        "\n",
        "\n",
        "##### **Place**\n",
        "\n",
        "NumWebPurchases: Number of purchases made through the company’s web site\n",
        "\n",
        "NumCatalogPurchases: Number of purchases made using a catalogue\n",
        "\n",
        "NumStorePurchases: Number of purchases made directly in stores\n",
        "\n",
        "NumWebVisitsMonth: Number of visits to company’s web site in the last month\n",
        "\n"
      ]
    },
    {
      "cell_type": "markdown",
      "id": "73460362-672e-4d7d-826d-7dd7dce0cf76",
      "metadata": {
        "id": "73460362-672e-4d7d-826d-7dd7dce0cf76"
      },
      "source": [
        "### EDA - Exploratory Data Analysis\n",
        "\n",
        "Perform Visualization\n",
        "\n",
        "1.   Perfrom Feature Elimination\n",
        "2.   Perform Feature Engineering\n",
        "3.   Prepare the Data"
      ]
    },
    {
      "cell_type": "code",
      "execution_count": null,
      "id": "1bbd6750",
      "metadata": {
        "id": "1bbd6750",
        "papermill": {
          "duration": 0.102343,
          "end_time": "2022-02-10T11:12:23.784313",
          "exception": false,
          "start_time": "2022-02-10T11:12:23.681970",
          "status": "completed"
        },
        "tags": []
      },
      "outputs": [],
      "source": [
        "print(df.shape)\n",
        "\n",
        "df.info()\n",
        "# observation -> here, total 2240 samples and 29 attributes"
      ]
    },
    {
      "cell_type": "markdown",
      "id": "1c3e0d5e",
      "metadata": {
        "id": "1c3e0d5e",
        "papermill": {
          "duration": 0.076641,
          "end_time": "2022-02-10T11:12:23.937002",
          "exception": false,
          "start_time": "2022-02-10T11:12:23.860361",
          "status": "completed"
        },
        "tags": []
      },
      "source": [
        "Let's look at the summary statistics of the data. We can see that the maximum income is much higher than the income at the 3rd quatile (almost 10 times greater). Also, the maximum amount spent on wines and meat products (i.e. MntWines, MntMeatProduct) are significantly greater than the one spent on other products."
      ]
    },
    {
      "cell_type": "code",
      "execution_count": null,
      "id": "01cf95a4",
      "metadata": {
        "id": "01cf95a4",
        "papermill": {
          "duration": 0.148274,
          "end_time": "2022-02-10T11:12:24.161733",
          "exception": false,
          "start_time": "2022-02-10T11:12:24.013459",
          "status": "completed"
        },
        "tags": []
      },
      "outputs": [],
      "source": [
        "df.describe()"
      ]
    },
    {
      "cell_type": "code",
      "execution_count": null,
      "id": "6137b32a-3d29-475e-bf64-4b0a603d6b07",
      "metadata": {
        "id": "6137b32a-3d29-475e-bf64-4b0a603d6b07"
      },
      "outputs": [],
      "source": [
        "# CHECK FOR DATA REDUNDANCY (whether the feature has multiple categories)\n",
        "df.nunique()"
      ]
    },
    {
      "cell_type": "code",
      "source": [
        "df['Marital_Status'].unique()\n"
      ],
      "metadata": {
        "id": "dfBhwXCnu5nZ"
      },
      "id": "dfBhwXCnu5nZ",
      "execution_count": null,
      "outputs": []
    },
    {
      "cell_type": "code",
      "execution_count": null,
      "id": "df44362e",
      "metadata": {
        "id": "df44362e",
        "papermill": {
          "duration": 0.09847,
          "end_time": "2022-02-10T11:12:25.432112",
          "exception": false,
          "start_time": "2022-02-10T11:12:25.333642",
          "status": "completed"
        },
        "tags": []
      },
      "outputs": [],
      "source": [
        "# Feature Elimination\n",
        "\n",
        "# we can see that two columns 'Z_CostContact' and 'Z_Revenue' which haven't been described by the data\n",
        "df = df.drop(['Z_CostContact', 'Z_Revenue'],axis=1)\n",
        "df.head()"
      ]
    },
    {
      "cell_type": "code",
      "execution_count": null,
      "id": "fd546ee1",
      "metadata": {
        "id": "fd546ee1",
        "papermill": {
          "duration": 2.745657,
          "end_time": "2022-02-10T11:12:28.573213",
          "exception": false,
          "start_time": "2022-02-10T11:12:25.827556",
          "status": "completed"
        },
        "tags": []
      },
      "outputs": [],
      "source": [
        "# CHECKING HIGHLY CORRELATED FEATURES\n",
        "\n",
        "# creating mask\n",
        "mask = np.triu(np.ones_like(df.corr()))\n",
        "\n",
        "plt.figure(figsize=(18,12))\n",
        "sns.heatmap(df.corr(), annot=True, mask=mask)\n",
        "plt.show()"
      ]
    },
    {
      "cell_type": "code",
      "source": [
        "data_corr = df.corr()"
      ],
      "metadata": {
        "id": "xUvOyHsvwg5X"
      },
      "id": "xUvOyHsvwg5X",
      "execution_count": null,
      "outputs": []
    },
    {
      "cell_type": "code",
      "source": [
        "data_corr.shape\n",
        "data_corr"
      ],
      "metadata": {
        "id": "uz90zDL-wlRU"
      },
      "id": "uz90zDL-wlRU",
      "execution_count": null,
      "outputs": []
    },
    {
      "cell_type": "code",
      "source": [
        "def col_corr_number(df_corr,thresh):\n",
        "    '''\n",
        "    The function returns the number of features having coreelation >thresh\n",
        "    '''\n",
        "    return np.sum(np.triu(df_corr.to_numpy()>thresh,k=1))\n",
        "\n",
        "for thresh in [0.3,0.5,0.7,0.9]:\n",
        "    print(f'Number of attributes having correlation > {thresh} is {col_corr_number(data_corr,thresh)}')\n"
      ],
      "metadata": {
        "id": "HRo5nGSHxaKX"
      },
      "id": "HRo5nGSHxaKX",
      "execution_count": null,
      "outputs": []
    },
    {
      "cell_type": "code",
      "source": [
        "def col_corr_number_simpler(df_corr,thresh):\n",
        "    '''\n",
        "    The function returns the number of features having coreelation >thresh\n",
        "    '''\n",
        "    return (np.sum(df_corr.to_numpy()>thresh)-24)/2\n",
        "\n",
        "for thresh in [0.3,0.5,0.7,0.9]:\n",
        "    print(f'Number of attributes having correlation > {thresh:.4f} is {col_corr_number_simpler(data_corr,thresh)}')\n"
      ],
      "metadata": {
        "id": "5D6PGDls1uZG"
      },
      "id": "5D6PGDls1uZG",
      "execution_count": null,
      "outputs": []
    },
    {
      "cell_type": "markdown",
      "id": "68ccd779",
      "metadata": {
        "id": "68ccd779",
        "papermill": {
          "duration": 0.091951,
          "end_time": "2022-02-10T11:12:28.758557",
          "exception": false,
          "start_time": "2022-02-10T11:12:28.666606",
          "status": "completed"
        },
        "tags": []
      },
      "source": [
        "No two columns exhibit coorealtion beyond 0.9. So we can safely retain all the variables."
      ]
    },
    {
      "cell_type": "markdown",
      "id": "0baa3505",
      "metadata": {
        "id": "0baa3505",
        "papermill": {
          "duration": 0.093353,
          "end_time": "2022-02-10T11:12:29.518542",
          "exception": false,
          "start_time": "2022-02-10T11:12:29.425189",
          "status": "completed"
        },
        "tags": []
      },
      "source": [
        "### Data Preparation"
      ]
    },
    {
      "cell_type": "code",
      "execution_count": null,
      "id": "ea3fcad8-5bde-4979-9461-0db99739f03a",
      "metadata": {
        "id": "ea3fcad8-5bde-4979-9461-0db99739f03a"
      },
      "outputs": [],
      "source": [
        "# CHECK FOR NULL VALUES\n",
        "df.isna().sum()"
      ]
    },
    {
      "cell_type": "code",
      "execution_count": null,
      "id": "1917665f",
      "metadata": {
        "id": "1917665f",
        "papermill": {
          "duration": 0.104926,
          "end_time": "2022-02-10T11:12:29.900766",
          "exception": false,
          "start_time": "2022-02-10T11:12:29.795840",
          "status": "completed"
        },
        "tags": []
      },
      "outputs": [],
      "source": [
        "df['Income'] = df['Income'].fillna(df['Income'].mean())\n",
        "df.isna().any() "
      ]
    },
    {
      "cell_type": "code",
      "execution_count": null,
      "id": "f6fdf29b",
      "metadata": {
        "id": "f6fdf29b",
        "papermill": {
          "duration": 0.114412,
          "end_time": "2022-02-10T11:12:30.110385",
          "exception": false,
          "start_time": "2022-02-10T11:12:29.995973",
          "status": "completed"
        },
        "tags": []
      },
      "outputs": [],
      "source": [
        "df.head()"
      ]
    },
    {
      "cell_type": "code",
      "execution_count": null,
      "id": "ede68e36",
      "metadata": {
        "id": "ede68e36",
        "papermill": {
          "duration": 0.288014,
          "end_time": "2022-02-10T11:12:30.878772",
          "exception": false,
          "start_time": "2022-02-10T11:12:30.590758",
          "status": "completed"
        },
        "tags": []
      },
      "outputs": [],
      "source": [
        "sns.countplot(x=df.Marital_Status)\n",
        "sns.set(rc={'figure.figsize':(4,4)})\n",
        "plt.show()"
      ]
    },
    {
      "cell_type": "code",
      "execution_count": null,
      "id": "56f28e25-fb87-4b7e-b9ba-a6cf4b63d2bc",
      "metadata": {
        "id": "56f28e25-fb87-4b7e-b9ba-a6cf4b63d2bc"
      },
      "outputs": [],
      "source": [
        "# FEATURE ENGINEERING\n",
        "\n",
        "# Lets bucketize the Marital_Status into Relationship and Single for easy categorization.\n",
        "df['Marital_Status'] = df['Marital_Status'].replace(['Married', 'Together'],'relationship')\n",
        "df['Marital_Status'] = df['Marital_Status'].replace(['Divorced', 'Widow', 'Alone', 'YOLO', 'Absurd'],'Single')"
      ]
    },
    {
      "cell_type": "code",
      "execution_count": null,
      "id": "7a449f38",
      "metadata": {
        "id": "7a449f38",
        "papermill": {
          "duration": 0.280617,
          "end_time": "2022-02-10T11:12:32.034556",
          "exception": false,
          "start_time": "2022-02-10T11:12:31.753939",
          "status": "completed"
        },
        "tags": []
      },
      "outputs": [],
      "source": [
        "sns.countplot(x=df.Marital_Status)\n",
        "sns.set(rc={'figure.figsize':(4,4)})\n",
        "plt.show()"
      ]
    },
    {
      "cell_type": "markdown",
      "id": "188d1bff",
      "metadata": {
        "id": "188d1bff",
        "papermill": {
          "duration": 0.098211,
          "end_time": "2022-02-10T11:12:32.230361",
          "exception": false,
          "start_time": "2022-02-10T11:12:32.132150",
          "status": "completed"
        },
        "tags": []
      },
      "source": [
        "#### Separating Products to different Dataframe for Association Rule Mining"
      ]
    },
    {
      "cell_type": "code",
      "execution_count": null,
      "id": "e949a9ba",
      "metadata": {
        "id": "e949a9ba",
        "papermill": {
          "duration": 0.18384,
          "end_time": "2022-02-10T11:12:32.512558",
          "exception": false,
          "start_time": "2022-02-10T11:12:32.328718",
          "status": "completed"
        },
        "tags": []
      },
      "outputs": [],
      "source": [
        "product_data = []\n",
        "for i in range(0, len(df)):\n",
        "  productdata = [df['MntWines'][i], df['MntFruits'][i], \n",
        "                  df['MntMeatProducts'][i], df['MntFishProducts'][i], \n",
        "                  df['MntSweetProducts'][i], df['MntGoldProds'][i]]\n",
        "  product_data.append(productdata)\n",
        "Products_DF = pd.DataFrame(product_data, columns = ['Wines', 'Fruits', 'Meat', 'Fish', 'Sweets', 'Gold'])\n",
        "Products_DF.head()"
      ]
    },
    {
      "cell_type": "code",
      "execution_count": null,
      "id": "42a42111",
      "metadata": {
        "id": "42a42111",
        "papermill": {
          "duration": 0.114717,
          "end_time": "2022-02-10T11:12:32.950865",
          "exception": false,
          "start_time": "2022-02-10T11:12:32.836148",
          "status": "completed"
        },
        "tags": []
      },
      "outputs": [],
      "source": [
        "# Feature Engineering (Done Manually)\n",
        "\n",
        "df['Kids'] = df['Kidhome'] + df['Teenhome']\n",
        "df['Expenses'] = df['MntWines'] + df['MntFruits'] + df['MntMeatProducts'] + df['MntFishProducts'] + df['MntSweetProducts'] + df['MntGoldProds']\n",
        "df['TotalAcceptedCmp'] = df['AcceptedCmp1'] + df['AcceptedCmp2'] + df['AcceptedCmp3'] + df['AcceptedCmp4'] + df['AcceptedCmp5'] + df['Response']\n",
        "df['NumTotalPurchases'] = df['NumWebPurchases'] + df['NumCatalogPurchases'] + df['NumStorePurchases'] + df['NumDealsPurchases']"
      ]
    },
    {
      "cell_type": "code",
      "execution_count": null,
      "id": "fbd744dc",
      "metadata": {
        "id": "fbd744dc",
        "papermill": {
          "duration": 0.120971,
          "end_time": "2022-02-10T11:12:33.397562",
          "exception": false,
          "start_time": "2022-02-10T11:12:33.276591",
          "status": "completed"
        },
        "tags": []
      },
      "outputs": [],
      "source": [
        "# Feature Elimination\n",
        "\n",
        "col_del = [\"AcceptedCmp1\" , \"AcceptedCmp2\", \"AcceptedCmp3\" , \"AcceptedCmp4\",\"AcceptedCmp5\", \"Response\",\"NumWebVisitsMonth\", \"NumWebPurchases\",\"NumCatalogPurchases\",\"NumStorePurchases\",\"NumDealsPurchases\" , \"Kidhome\", \"Teenhome\",\"MntWines\", \"MntFruits\", \"MntMeatProducts\", \"MntFishProducts\", \"MntSweetProducts\", \"MntGoldProds\"]\n",
        "df=df.drop(columns=col_del,axis=1)\n",
        "df.head()"
      ]
    },
    {
      "cell_type": "code",
      "execution_count": null,
      "id": "b7e18aaf",
      "metadata": {
        "id": "b7e18aaf",
        "papermill": {
          "duration": 0.105193,
          "end_time": "2022-02-10T11:12:33.822773",
          "exception": false,
          "start_time": "2022-02-10T11:12:33.717580",
          "status": "completed"
        },
        "tags": []
      },
      "outputs": [],
      "source": [
        "# Adding a column \"Age\" in the dataframe\n",
        "df['Age'] = 2015 - df[\"Year_Birth\"]"
      ]
    },
    {
      "cell_type": "code",
      "execution_count": null,
      "id": "c8137c32",
      "metadata": {
        "id": "c8137c32",
        "papermill": {
          "duration": 0.106226,
          "end_time": "2022-02-10T11:12:34.219715",
          "exception": false,
          "start_time": "2022-02-10T11:12:34.113489",
          "status": "completed"
        },
        "tags": []
      },
      "outputs": [],
      "source": [
        "#Count of different values present in Education\n",
        "df['Education'].value_counts()"
      ]
    },
    {
      "cell_type": "code",
      "execution_count": null,
      "id": "cff2140d",
      "metadata": {
        "id": "cff2140d",
        "papermill": {
          "duration": 0.105853,
          "end_time": "2022-02-10T11:12:34.614595",
          "exception": false,
          "start_time": "2022-02-10T11:12:34.508742",
          "status": "completed"
        },
        "tags": []
      },
      "outputs": [],
      "source": [
        "# Changing category into UG and PG only\n",
        "df['Education'] = df['Education'].replace(['PhD','2n Cycle','Graduation', 'Master'],'PG')  \n",
        "df['Education'] = df['Education'].replace(['Basic'], 'UG')"
      ]
    },
    {
      "cell_type": "code",
      "execution_count": null,
      "id": "c19ca673",
      "metadata": {
        "id": "c19ca673",
        "papermill": {
          "duration": 0.111613,
          "end_time": "2022-02-10T11:12:35.016596",
          "exception": false,
          "start_time": "2022-02-10T11:12:34.904983",
          "status": "completed"
        },
        "tags": []
      },
      "outputs": [],
      "source": [
        "# Number of days a customer was engaged with company\n",
        "# Changing Dt_customer into timestamp format\n",
        "\n",
        "df['Dt_Customer'] = pd.to_datetime(df.Dt_Customer)\n",
        "df['first_day'] = '01-01-2015'\n",
        "df['first_day'] = pd.to_datetime(df.first_day)\n",
        "df['day_engaged'] = (df['first_day'] - df['Dt_Customer']).dt.days"
      ]
    },
    {
      "cell_type": "code",
      "execution_count": null,
      "id": "ba5f8f22",
      "metadata": {
        "id": "ba5f8f22",
        "papermill": {
          "duration": 0.107199,
          "end_time": "2022-02-10T11:12:35.221104",
          "exception": false,
          "start_time": "2022-02-10T11:12:35.113905",
          "status": "completed"
        },
        "tags": []
      },
      "outputs": [],
      "source": [
        "df=df.drop(columns=[\"ID\", \"Dt_Customer\", \"first_day\", \"Year_Birth\", \"Dt_Customer\", \"Recency\", \"Complain\"],axis=1)\n",
        "df.shape"
      ]
    },
    {
      "cell_type": "code",
      "execution_count": null,
      "id": "050b4252",
      "metadata": {
        "id": "050b4252",
        "papermill": {
          "duration": 0.111219,
          "end_time": "2022-02-10T11:12:35.432290",
          "exception": false,
          "start_time": "2022-02-10T11:12:35.321071",
          "status": "completed"
        },
        "tags": []
      },
      "outputs": [],
      "source": [
        "df.head()"
      ]
    },
    {
      "cell_type": "markdown",
      "id": "f9209bbc",
      "metadata": {
        "id": "f9209bbc",
        "papermill": {
          "duration": 0.097105,
          "end_time": "2022-02-10T11:12:35.625750",
          "exception": false,
          "start_time": "2022-02-10T11:12:35.528645",
          "status": "completed"
        },
        "tags": []
      },
      "source": [
        "#### **Visualization**"
      ]
    },
    {
      "cell_type": "markdown",
      "id": "1bf27679",
      "metadata": {
        "id": "1bf27679",
        "papermill": {
          "duration": 0.096402,
          "end_time": "2022-02-10T11:12:35.818830",
          "exception": false,
          "start_time": "2022-02-10T11:12:35.722428",
          "status": "completed"
        },
        "tags": []
      },
      "source": [
        "Let us look at the categorical distributions of education level and the marital status of the customers. We can see that majority of the customers have a graduation degree, and most of them are in relationship or married"
      ]
    },
    {
      "cell_type": "code",
      "execution_count": null,
      "id": "9d1a8531",
      "metadata": {
        "id": "9d1a8531",
        "papermill": {
          "duration": 0.105977,
          "end_time": "2022-02-10T11:12:36.021465",
          "exception": false,
          "start_time": "2022-02-10T11:12:35.915488",
          "status": "completed"
        },
        "tags": []
      },
      "outputs": [],
      "source": [
        "plt.rcParams.update(plt.rcParamsDefault)"
      ]
    },
    {
      "cell_type": "code",
      "execution_count": null,
      "id": "dc77dd89",
      "metadata": {
        "id": "dc77dd89",
        "papermill": {
          "duration": 0.451419,
          "end_time": "2022-02-10T11:12:36.763924",
          "exception": false,
          "start_time": "2022-02-10T11:12:36.312505",
          "status": "completed"
        },
        "tags": []
      },
      "outputs": [],
      "source": [
        "# Correlation between Marital Status and Expenses as a function of Education\n",
        "plt.figure(figsize=(8,8))\n",
        "sns.barplot(x=df['Marital_Status'], y=df['Expenses'], hue = df[\"Education\"])\n",
        "plt.title(\"Analysis of the Correlation between Marital Status and Expenses with respect to Education\")\n",
        "plt.show()"
      ]
    },
    {
      "cell_type": "markdown",
      "id": "231fc200",
      "metadata": {
        "id": "231fc200",
        "papermill": {
          "duration": 0.099083,
          "end_time": "2022-02-10T11:12:36.962840",
          "exception": false,
          "start_time": "2022-02-10T11:12:36.863757",
          "status": "completed"
        },
        "tags": []
      },
      "source": [
        "Observation: Less number of single customers and very high expenses for single customers."
      ]
    },
    {
      "cell_type": "markdown",
      "id": "a5be5f76",
      "metadata": {
        "id": "a5be5f76",
        "papermill": {
          "duration": 0.09813,
          "end_time": "2022-02-10T11:12:37.160500",
          "exception": false,
          "start_time": "2022-02-10T11:12:37.062370",
          "status": "completed"
        },
        "tags": []
      },
      "source": [
        "#### Analyzing correlation between Marital Status and Expenses"
      ]
    },
    {
      "cell_type": "code",
      "execution_count": null,
      "id": "e5451e24",
      "metadata": {
        "id": "e5451e24",
        "papermill": {
          "duration": 0.363136,
          "end_time": "2022-02-10T11:12:37.621888",
          "exception": false,
          "start_time": "2022-02-10T11:12:37.258752",
          "status": "completed"
        },
        "tags": []
      },
      "outputs": [],
      "source": [
        "plt.figure(figsize=(8,8))\n",
        "sns.barplot(x=df['Marital_Status'], y=df['Expenses'])\n",
        "plt.title(\"Analysis of the Correlation between Marital Status and Expenses\")\n",
        "plt.show()"
      ]
    },
    {
      "cell_type": "markdown",
      "id": "b87b7697",
      "metadata": {
        "id": "b87b7697",
        "papermill": {
          "duration": 0.099025,
          "end_time": "2022-02-10T11:12:37.820749",
          "exception": false,
          "start_time": "2022-02-10T11:12:37.721724",
          "status": "completed"
        },
        "tags": []
      },
      "source": [
        "#### Analyzing Distribution of expenses with respect to Marital Status"
      ]
    },
    {
      "cell_type": "code",
      "execution_count": null,
      "id": "8887fcf5",
      "metadata": {
        "id": "8887fcf5",
        "papermill": {
          "duration": 0.359435,
          "end_time": "2022-02-10T11:12:38.279591",
          "exception": false,
          "start_time": "2022-02-10T11:12:37.920156",
          "status": "completed"
        },
        "tags": []
      },
      "outputs": [],
      "source": [
        "plt.figure(figsize=(8,8))\n",
        "plt.hist(\"Expenses\", data = df[df[\"Marital_Status\"] == \"relationship\"], alpha = 0.5, label = \"relationship\")\n",
        "plt.hist(\"Expenses\", data = df[df[\"Marital_Status\"] == \"Single\"], alpha = 0.5, label = \"Single\")\n",
        "plt.title(\"Distribution of Expenses with respect to Marital Status\")\n",
        "plt.xlabel(\"Expenses\")\n",
        "plt.legend(title = \"Marital Status\")\n",
        "plt.show()"
      ]
    },
    {
      "cell_type": "code",
      "execution_count": null,
      "id": "742e84fb",
      "metadata": {
        "id": "742e84fb",
        "papermill": {
          "duration": 0.355009,
          "end_time": "2022-02-10T11:12:38.936077",
          "exception": false,
          "start_time": "2022-02-10T11:12:38.581068",
          "status": "completed"
        },
        "tags": []
      },
      "outputs": [],
      "source": [
        "# DISTRIBUTION OF EXPENSES WITH RESPECT TO EDUCATION\n",
        "plt.figure(figsize=(8,8))\n",
        "plt.hist(\"Expenses\", data = df[df[\"Education\"] == \"PG\"], alpha = 0.5, label = \"PG\")\n",
        "plt.hist(\"Expenses\", data = df[df[\"Education\"] == \"UG\"], alpha = 0.5, label = \"UG\")\n",
        "plt.title(\"Distribution of Expenses with respect to Education\")\n",
        "plt.xlabel(\"Expenses\")\n",
        "plt.legend(title = \"Education\")\n",
        "plt.show()"
      ]
    },
    {
      "cell_type": "code",
      "execution_count": null,
      "id": "81d57edd",
      "metadata": {
        "id": "81d57edd",
        "papermill": {
          "duration": 0.348747,
          "end_time": "2022-02-10T11:12:39.592454",
          "exception": false,
          "start_time": "2022-02-10T11:12:39.243707",
          "status": "completed"
        },
        "tags": []
      },
      "outputs": [],
      "source": [
        "#DISTRIBUTION OF NUMBER OF TOTAL EXPENSES WITH RESPECT TO EDUCATION\n",
        "plt.figure(figsize=(8,8))\n",
        "plt.hist(\"NumTotalPurchases\", data = df[df[\"Education\"] == \"PG\"], alpha = 0.5, label = \"PG\")\n",
        "plt.hist(\"NumTotalPurchases\", data = df[df[\"Education\"] == \"UG\"], alpha = 0.5, label = \"UG\")\n",
        "plt.title(\"Distribution of Number of Total Purchases with respect to Education\")\n",
        "plt.xlabel(\"Number of Total Purchases\")\n",
        "plt.legend(title = \"Education\")\n",
        "plt.show()"
      ]
    },
    {
      "cell_type": "code",
      "execution_count": null,
      "id": "73375726",
      "metadata": {
        "id": "73375726",
        "papermill": {
          "duration": 0.354037,
          "end_time": "2022-02-10T11:12:40.255394",
          "exception": false,
          "start_time": "2022-02-10T11:12:39.901357",
          "status": "completed"
        },
        "tags": []
      },
      "outputs": [],
      "source": [
        "#DISTRIBUTION OF AGE WITH RESPECT TO MARITAL STATUS\n",
        "plt.figure(figsize=(8,8))\n",
        "plt.hist(\"Age\", data = df[df[\"Marital_Status\"] == \"relationship\"], alpha = 0.5, label = \"relationship\")\n",
        "plt.hist(\"Age\", data = df[df[\"Marital_Status\"] == \"Single\"], alpha = 0.5, label = \"Single\")\n",
        "plt.title(\"Distribution of Age with respect to Marital Status\")\n",
        "plt.xlabel(\"Age\")\n",
        "plt.legend(title = \"Marital Status\")\n",
        "plt.show()"
      ]
    },
    {
      "cell_type": "markdown",
      "id": "45932fc3",
      "metadata": {
        "id": "45932fc3",
        "papermill": {
          "duration": 0.107351,
          "end_time": "2022-02-10T11:12:41.805634",
          "exception": false,
          "start_time": "2022-02-10T11:12:41.698283",
          "status": "completed"
        },
        "tags": []
      },
      "source": [
        "35% of the customer are single whereas more 64% are in relationship."
      ]
    },
    {
      "cell_type": "markdown",
      "id": "452c5e53",
      "metadata": {
        "id": "452c5e53",
        "papermill": {
          "duration": 0.106953,
          "end_time": "2022-02-10T11:12:42.019858",
          "exception": false,
          "start_time": "2022-02-10T11:12:41.912905",
          "status": "completed"
        },
        "tags": []
      },
      "source": [
        "#### Analyzing distribution of perople according to their Education"
      ]
    },
    {
      "cell_type": "code",
      "execution_count": null,
      "id": "2bd5c029",
      "metadata": {
        "id": "2bd5c029",
        "papermill": {
          "duration": 0.332443,
          "end_time": "2022-02-10T11:12:42.460373",
          "exception": false,
          "start_time": "2022-02-10T11:12:42.127930",
          "status": "completed"
        },
        "tags": []
      },
      "outputs": [],
      "source": [
        "plt.figure(figsize=(8,8))\n",
        "plt.pie(df[\"Education\"].value_counts(), labels = [\"PG\", \"UG\"], autopct='%1.1f%%', counterclock=False)\n",
        "plt.legend()\n",
        "plt.show()"
      ]
    },
    {
      "cell_type": "markdown",
      "id": "7b29ccb2",
      "metadata": {
        "id": "7b29ccb2",
        "papermill": {
          "duration": 0.107154,
          "end_time": "2022-02-10T11:12:42.675555",
          "exception": false,
          "start_time": "2022-02-10T11:12:42.568401",
          "status": "completed"
        },
        "tags": []
      },
      "source": [
        "More than 97% customer are from PG background. and Approx. 2% are from UG."
      ]
    },
    {
      "cell_type": "code",
      "execution_count": null,
      "id": "8f0af35c",
      "metadata": {
        "id": "8f0af35c",
        "papermill": {
          "duration": 0.35127,
          "end_time": "2022-02-10T11:12:43.348195",
          "exception": false,
          "start_time": "2022-02-10T11:12:42.996925",
          "status": "completed"
        },
        "tags": []
      },
      "outputs": [],
      "source": [
        "#DISTRIBUTION OF EXPENSES BASED ON EDUCATION\n",
        "sns.barplot(x = df['Expenses'],y = df['Education']);\n",
        "plt.title('Total Expense based on the Education Level');\n",
        "plt.show()"
      ]
    },
    {
      "cell_type": "code",
      "execution_count": null,
      "id": "ce1e8bfd",
      "metadata": {
        "id": "ce1e8bfd",
        "papermill": {
          "duration": 0.344107,
          "end_time": "2022-02-10T11:12:44.019562",
          "exception": false,
          "start_time": "2022-02-10T11:12:43.675455",
          "status": "completed"
        },
        "tags": []
      },
      "outputs": [],
      "source": [
        "#INCOME BASED ON EDUCATION LEVEL\n",
        "sns.barplot(x = df['Income'],y = df['Education']);\n",
        "plt.title('Total Income based on the Education Level');\n",
        "plt.show()"
      ]
    },
    {
      "cell_type": "code",
      "execution_count": null,
      "id": "de49de0f",
      "metadata": {
        "id": "de49de0f",
        "papermill": {
          "duration": 0.13984,
          "end_time": "2022-02-10T11:12:44.269634",
          "exception": false,
          "start_time": "2022-02-10T11:12:44.129794",
          "status": "completed"
        },
        "tags": []
      },
      "outputs": [],
      "source": [
        "df.describe()"
      ]
    },
    {
      "cell_type": "code",
      "execution_count": null,
      "id": "0d66b384",
      "metadata": {
        "id": "0d66b384",
        "papermill": {
          "duration": 0.135689,
          "end_time": "2022-02-10T11:12:44.742883",
          "exception": false,
          "start_time": "2022-02-10T11:12:44.607194",
          "status": "completed"
        },
        "tags": []
      },
      "outputs": [],
      "source": [
        "\n",
        "#LABEL ENCODING\n",
        "categories = []\n",
        "for i in df.columns:\n",
        "    if (df[i].dtypes == \"object\"):\n",
        "        categories.append(i)\n",
        "\n",
        "print(categories)"
      ]
    },
    {
      "cell_type": "code",
      "execution_count": null,
      "id": "ca473b38",
      "metadata": {
        "id": "ca473b38",
        "papermill": {
          "duration": 0.120077,
          "end_time": "2022-02-10T11:12:45.323797",
          "exception": false,
          "start_time": "2022-02-10T11:12:45.203720",
          "status": "completed"
        },
        "tags": []
      },
      "outputs": [],
      "source": [
        "lbl_encode = LabelEncoder()\n",
        "for i in categories:\n",
        "    df[i]=df[[i]].apply(lbl_encode.fit_transform)"
      ]
    },
    {
      "cell_type": "code",
      "execution_count": null,
      "id": "f018a8f4",
      "metadata": {
        "id": "f018a8f4",
        "papermill": {
          "duration": 0.115867,
          "end_time": "2022-02-10T11:12:45.548702",
          "exception": false,
          "start_time": "2022-02-10T11:12:45.432835",
          "status": "completed"
        },
        "tags": []
      },
      "outputs": [],
      "source": [
        "df1 = df.copy()"
      ]
    },
    {
      "cell_type": "code",
      "execution_count": null,
      "id": "def2fd2a",
      "metadata": {
        "id": "def2fd2a",
        "papermill": {
          "duration": 0.18066,
          "end_time": "2022-02-10T11:12:45.838738",
          "exception": false,
          "start_time": "2022-02-10T11:12:45.658078",
          "status": "completed"
        },
        "tags": []
      },
      "outputs": [],
      "source": [
        "df1.head(3)"
      ]
    },
    {
      "cell_type": "markdown",
      "id": "1184eb99",
      "metadata": {
        "id": "1184eb99",
        "papermill": {
          "duration": 0.112047,
          "end_time": "2022-02-10T11:12:46.061186",
          "exception": false,
          "start_time": "2022-02-10T11:12:45.949139",
          "status": "completed"
        },
        "tags": []
      },
      "source": [
        "### Detection of Outliers"
      ]
    },
    {
      "cell_type": "code",
      "execution_count": null,
      "id": "421eec16",
      "metadata": {
        "id": "421eec16",
        "papermill": {
          "duration": 0.393935,
          "end_time": "2022-02-10T11:12:46.575020",
          "exception": false,
          "start_time": "2022-02-10T11:12:46.181085",
          "status": "completed"
        },
        "tags": []
      },
      "outputs": [],
      "source": [
        "# check for outliers\n",
        "plt.figure(figsize=(5,5))\n",
        "ax = sns.boxplot(data=df1 , orient=\"h\")\n",
        "plt.title('A boxplot: Outliers in the dataset', color = 'blue')\n",
        "plt.xlabel('Count/ Frequency')\n",
        "plt.show()"
      ]
    },
    {
      "cell_type": "code",
      "execution_count": null,
      "id": "8b057299",
      "metadata": {
        "id": "8b057299",
        "papermill": {
          "duration": 0.129662,
          "end_time": "2022-02-10T11:12:46.816060",
          "exception": false,
          "start_time": "2022-02-10T11:12:46.686398",
          "status": "completed"
        },
        "tags": []
      },
      "outputs": [],
      "source": [
        "# Drop Outliers\n",
        "q3 = df1.quantile(0.75)\n",
        "q1 = df1.quantile(0.25)\n",
        "iqr = q3-q1\n",
        "lower_range = q1 - (1.5 * iqr)\n",
        "upper_range = q3 + (1.5 * iqr)\n",
        "\n",
        "df1 = df1[~( (df1 < lower_range)|(df1 > upper_range) ).any(axis=1)]"
      ]
    },
    {
      "cell_type": "markdown",
      "id": "235ce5a6",
      "metadata": {
        "id": "235ce5a6",
        "papermill": {
          "duration": 0.114005,
          "end_time": "2022-02-10T11:12:47.043236",
          "exception": false,
          "start_time": "2022-02-10T11:12:46.929231",
          "status": "completed"
        },
        "tags": []
      },
      "source": [
        "### **K-Means Clustering**"
      ]
    },
    {
      "cell_type": "markdown",
      "id": "487235b7",
      "metadata": {
        "id": "487235b7",
        "papermill": {
          "duration": 0.118358,
          "end_time": "2022-02-10T11:13:10.358506",
          "exception": false,
          "start_time": "2022-02-10T11:13:10.240148",
          "status": "completed"
        },
        "tags": []
      },
      "source": [
        "#### Silhouette Score\n",
        "\n",
        "We shall consider the Silhouette Score"
      ]
    },
    {
      "cell_type": "code",
      "source": [
        "df1 = df1.dropna()"
      ],
      "metadata": {
        "id": "ENHyRTT4InaZ"
      },
      "id": "ENHyRTT4InaZ",
      "execution_count": null,
      "outputs": []
    },
    {
      "cell_type": "code",
      "execution_count": null,
      "id": "99ca0964",
      "metadata": {
        "id": "99ca0964",
        "papermill": {
          "duration": 33.135653,
          "end_time": "2022-02-10T11:13:44.073691",
          "exception": false,
          "start_time": "2022-02-10T11:13:10.938038",
          "status": "completed"
        },
        "tags": []
      },
      "outputs": [],
      "source": [
        "silhouette_scores = []\n",
        "for i in range(2,10):\n",
        "    m1=KMeans(n_clusters=i, random_state=42)\n",
        "    c = m1.fit_predict(df1)\n",
        "    silhouette_scores.append(silhouette_score(df1, m1.fit_predict(df1))) \n",
        "plt.bar(range(2,10), silhouette_scores) \n",
        "plt.xlabel('Number of clusters', fontsize = 20) \n",
        "plt.ylabel('S(i)', fontsize = 20) \n",
        "plt.show()"
      ]
    },
    {
      "cell_type": "code",
      "execution_count": null,
      "id": "32d006c2",
      "metadata": {
        "id": "32d006c2",
        "papermill": {
          "duration": 0.123,
          "end_time": "2022-02-10T11:13:44.543449",
          "exception": false,
          "start_time": "2022-02-10T11:13:44.420449",
          "status": "completed"
        },
        "tags": []
      },
      "outputs": [],
      "source": [
        "# Display the Silhouette score to measure the value of K\n",
        "\n",
        "silhouette_scores"
      ]
    },
    {
      "cell_type": "code",
      "execution_count": null,
      "id": "2f2009c7",
      "metadata": {
        "id": "2f2009c7",
        "papermill": {
          "duration": 0.123077,
          "end_time": "2022-02-10T11:13:44.780379",
          "exception": false,
          "start_time": "2022-02-10T11:13:44.657302",
          "status": "completed"
        },
        "tags": []
      },
      "outputs": [],
      "source": [
        "# Getting the maximum value of silhouette score and adding 2 in index because index starts from 2.\n",
        "sc=max(silhouette_scores)\n",
        "number_of_clusters=silhouette_scores.index(sc)+2\n",
        "print(\"Number of Cluster Required is : \", number_of_clusters)"
      ]
    },
    {
      "cell_type": "markdown",
      "id": "3788ccaa",
      "metadata": {
        "id": "3788ccaa",
        "papermill": {
          "duration": 0.114991,
          "end_time": "2022-02-10T11:13:45.011359",
          "exception": false,
          "start_time": "2022-02-10T11:13:44.896368",
          "status": "completed"
        },
        "tags": []
      },
      "source": [
        "### Modelling\n"
      ]
    },
    {
      "cell_type": "code",
      "execution_count": null,
      "id": "ce4db263",
      "metadata": {
        "id": "ce4db263",
        "papermill": {
          "duration": 1.50536,
          "end_time": "2022-02-10T11:13:46.633325",
          "exception": false,
          "start_time": "2022-02-10T11:13:45.127965",
          "status": "completed"
        },
        "tags": []
      },
      "outputs": [],
      "source": [
        "# Training a predicting using K-Means Algorithm.\n",
        "\n",
        "kmeans=KMeans(n_clusters=number_of_clusters, random_state=42).fit(df1)\n",
        "pred=kmeans.predict(df1)\n",
        "\n",
        "\n",
        "# Appending those cluster value into main dataframe (without standard-scalar)\n",
        "\n",
        "df1['cluster'] = pred + 1"
      ]
    },
    {
      "cell_type": "code",
      "execution_count": null,
      "id": "da0f7710",
      "metadata": {
        "id": "da0f7710",
        "papermill": {
          "duration": 0.164354,
          "end_time": "2022-02-10T11:13:46.945530",
          "exception": false,
          "start_time": "2022-02-10T11:13:46.781176",
          "status": "completed"
        },
        "tags": []
      },
      "outputs": [],
      "source": [
        "df1.head()"
      ]
    },
    {
      "cell_type": "markdown",
      "id": "bfbb2f95",
      "metadata": {
        "id": "bfbb2f95",
        "papermill": {
          "duration": 0.115582,
          "end_time": "2022-02-10T11:13:47.197076",
          "exception": false,
          "start_time": "2022-02-10T11:13:47.081494",
          "status": "completed"
        },
        "tags": []
      },
      "source": [
        "#### Clustering"
      ]
    },
    {
      "cell_type": "code",
      "execution_count": null,
      "id": "28901d82",
      "metadata": {
        "id": "28901d82",
        "papermill": {
          "duration": 0.124627,
          "end_time": "2022-02-10T11:13:47.436597",
          "exception": false,
          "start_time": "2022-02-10T11:13:47.311970",
          "status": "completed"
        },
        "tags": []
      },
      "outputs": [],
      "source": [
        "df1['cluster'].value_counts()"
      ]
    },
    {
      "cell_type": "code",
      "execution_count": null,
      "id": "51502db0",
      "metadata": {
        "id": "51502db0",
        "papermill": {
          "duration": 0.284428,
          "end_time": "2022-02-10T11:13:47.835627",
          "exception": false,
          "start_time": "2022-02-10T11:13:47.551199",
          "status": "completed"
        },
        "tags": []
      },
      "outputs": [],
      "source": [
        "pl = sns.countplot(x=df1[\"cluster\"])\n",
        "pl.set_title(\"Distribution Of The Clusters\")\n",
        "plt.show()"
      ]
    },
    {
      "cell_type": "markdown",
      "id": "379e33ea",
      "metadata": {
        "id": "379e33ea",
        "papermill": {
          "duration": 0.116453,
          "end_time": "2022-02-10T11:13:48.068042",
          "exception": false,
          "start_time": "2022-02-10T11:13:47.951589",
          "status": "completed"
        },
        "tags": []
      },
      "source": [
        "\n",
        "As we can see here that weightage of customer are more in cluster 1 as compare to other."
      ]
    },
    {
      "cell_type": "code",
      "execution_count": null,
      "id": "bc3a3d17",
      "metadata": {
        "id": "bc3a3d17",
        "papermill": {
          "duration": 4.814783,
          "end_time": "2022-02-10T11:13:52.998926",
          "exception": false,
          "start_time": "2022-02-10T11:13:48.184143",
          "status": "completed"
        },
        "tags": []
      },
      "outputs": [],
      "source": [
        "# Clusters interpretation \n",
        "# sns.set(rc={'axes.facecolor':'black', 'figure.facecolor':'black', 'axes.grid' : False, 'font.family': 'Ubuntu'})\n",
        "\n",
        "plt.rcParams.update(plt.rcParamsDefault)\n",
        "\n",
        "for i in df1:\n",
        "    diag = sns.FacetGrid(df1, col = \"cluster\", hue = \"cluster\", palette = \"Set1\")\n",
        "    diag.map(plt.hist, i, bins=6) \n",
        "    diag.set_xticklabels(rotation=25, color = 'k')\n",
        "    diag.set_yticklabels(color = 'k')\n",
        "    diag.set_xlabels(size=16, color = 'k')\n",
        "    diag.set_titles(size=16, color = 'k', fontweight=\"bold\")\n",
        "    diag.fig.set_figheight(2)\n",
        "\n",
        "plt.show()"
      ]
    },
    {
      "cell_type": "markdown",
      "id": "13d6cd17",
      "metadata": {
        "id": "13d6cd17",
        "papermill": {
          "duration": 0.124129,
          "end_time": "2022-02-10T11:13:53.248834",
          "exception": false,
          "start_time": "2022-02-10T11:13:53.124705",
          "status": "completed"
        },
        "tags": []
      },
      "source": [
        "\n",
        "### OBSERVATIONS: \n",
        "\n",
        "Based on above information we can divide customer into 2 parts:-\n",
        "Highly Active Customer :- These customers belong to cluster one.\n",
        "\n",
        "Least Active Customer :- These customers belong to cluster two.\n",
        "\n",
        "### 1.Characteristics of Highly Active Customer\n",
        "**In terms of Education**\n",
        "Highly Active Customer are from PG background\n",
        "\n",
        "**In terms of Marital_status**\n",
        "Number of people in relationship are approx. two times of single people\n",
        "\n",
        "**In terms of Income**\n",
        "Income of Highly active customer are little less as compare to least active customer.\n",
        "\n",
        "**In terms of Kids**\n",
        "Highly active customer have more number of children as compare to other customer ( avg. of 1 child ).\n",
        "\n",
        "**In terms of Expenses**\n",
        "Expenses of Highly Active customer are less as compare to least.\n",
        "These customer spent avg. of approx. 100-200 unit money.\n",
        "\n",
        "**In terms of Age**\n",
        "Age of these customer are between 25 to 75.\n",
        "Maximum customer age are between 40 to 50.\n",
        "\n",
        "**In terms of day_engaged**\n",
        "Highly Active customer are more loyal as they engaged with company for longer period of time.\n",
        "\n",
        "\n",
        "#### 2.Characteristics of Least Active Customer\n",
        "**In terms of Education**\n",
        "Least Active Customer are from UG backgroud\n",
        "\n",
        "**In terms of Marital_status**\n",
        "Number of people in relationship are approx. equal to single people\n",
        "\n",
        "**In terms of Income**\n",
        "Income of Least active customer are very less or say negligible.\n",
        "\n",
        "**In terms of Kids**\n",
        "Only few of these customer have child.\n",
        "\n",
        "**In terms of Expenses**\n",
        "Expenses of Least Active customer are very less or say negligible.\n",
        "\n",
        "**In terms of Age**\n",
        "Age of these customer are between 15 to 30.\n",
        "\n",
        "**In terms of day_engaged**\n",
        "Least Active customer are not much enrolled with company for longer time"
      ]
    },
    {
      "cell_type": "markdown",
      "id": "3e3668a4",
      "metadata": {
        "id": "3e3668a4",
        "papermill": {
          "duration": 0.125737,
          "end_time": "2022-02-10T11:13:54.406702",
          "exception": false,
          "start_time": "2022-02-10T11:13:54.280965",
          "status": "completed"
        },
        "tags": []
      },
      "source": [
        "### Model Evaluation"
      ]
    },
    {
      "cell_type": "code",
      "execution_count": null,
      "id": "5fc6bfa5",
      "metadata": {
        "id": "5fc6bfa5",
        "papermill": {
          "duration": 0.142576,
          "end_time": "2022-02-10T11:13:54.676952",
          "exception": false,
          "start_time": "2022-02-10T11:13:54.534376",
          "status": "completed"
        },
        "tags": []
      },
      "outputs": [],
      "source": [
        "#kmeans\n",
        "\n",
        "print(\"ConfusionMatrix \\n\",confusion_matrix(kmeans.labels_, pred))\n",
        "print(\"classification report \\n\", classification_report(kmeans.labels_, pred))"
      ]
    },
    {
      "cell_type": "markdown",
      "id": "e981a6bb",
      "metadata": {
        "id": "e981a6bb",
        "papermill": {
          "duration": 0.125517,
          "end_time": "2022-02-10T11:13:54.928858",
          "exception": false,
          "start_time": "2022-02-10T11:13:54.803341",
          "status": "completed"
        },
        "tags": []
      },
      "source": [
        "### **Association Rule Mining: APRIORI Algorithm**"
      ]
    },
    {
      "cell_type": "markdown",
      "id": "cae0f3bb",
      "metadata": {
        "id": "cae0f3bb",
        "papermill": {
          "duration": 0.124892,
          "end_time": "2022-02-10T11:13:55.430380",
          "exception": false,
          "start_time": "2022-02-10T11:13:55.305488",
          "status": "completed"
        },
        "tags": []
      },
      "source": [
        "The Apriori algorithm is the simplest technique to identify the underlying relationships between different types of elements."
      ]
    },
    {
      "cell_type": "markdown",
      "id": "5da82294",
      "metadata": {
        "id": "5da82294",
        "papermill": {
          "duration": 0.12528,
          "end_time": "2022-02-10T11:13:55.680762",
          "exception": false,
          "start_time": "2022-02-10T11:13:55.555482",
          "status": "completed"
        },
        "tags": []
      },
      "source": [
        "Here we use this algorithm to find out which customers are best suited for a given item. Thereby helping businesses promote the right target customers to increase efficiency and save costs."
      ]
    },
    {
      "cell_type": "code",
      "execution_count": null,
      "id": "fba32a03",
      "metadata": {
        "id": "fba32a03",
        "papermill": {
          "duration": 0.145051,
          "end_time": "2022-02-10T11:14:07.955584",
          "exception": false,
          "start_time": "2022-02-10T11:14:07.810533",
          "status": "completed"
        },
        "tags": []
      },
      "outputs": [],
      "source": [
        "#Data Preparation for Apriori Algorithm\n",
        "data = df1.copy()\n",
        "data.head()"
      ]
    },
    {
      "cell_type": "code",
      "execution_count": null,
      "id": "de96fb8d",
      "metadata": {
        "id": "de96fb8d",
        "papermill": {
          "duration": 0.147166,
          "end_time": "2022-02-10T11:14:08.232343",
          "exception": false,
          "start_time": "2022-02-10T11:14:08.085177",
          "status": "completed"
        },
        "tags": []
      },
      "outputs": [],
      "source": [
        "#Create Age segment\n",
        "cut_labels_Age    = ['Young', 'Adult', 'Mature', 'Senior']\n",
        "cut_bins          = [0, 30, 45, 65, 120]\n",
        "data['Age_group'] = pd.cut(data['Age'], bins=cut_bins, labels=cut_labels_Age)\n",
        "\n",
        "\n",
        "#Create Income segment\n",
        "cut_labels_Income    = ['Low income', 'Low to medium income', 'Medium to high income', 'High income']\n",
        "data['Income_group'] = pd.qcut(data['Income'], q=4, labels=cut_labels_Income)\n",
        "\n",
        "\n",
        "#Create day engaged segment\n",
        "cut_labels_dayengaged    = ['New customers', 'Discovering customers', 'Experienced customers', 'Old customers']\n",
        "data['dayengaged_group'] = pd.qcut(data['day_engaged'], q=4, labels=cut_labels_dayengaged)\n",
        "data = data.drop(columns=['Age','Income','day_engaged'])"
      ]
    },
    {
      "cell_type": "markdown",
      "id": "96d3a19a",
      "metadata": {
        "id": "96d3a19a",
        "papermill": {
          "duration": 0.13642,
          "end_time": "2022-02-10T11:14:08.498409",
          "exception": false,
          "start_time": "2022-02-10T11:14:08.361989",
          "status": "completed"
        },
        "tags": []
      },
      "source": [
        "Defining new segments according to the spending of customers on each product which will be based on:\n",
        "\n",
        "Cluster 1 - Highly Active Customer\n",
        "\n",
        "Cluster 2 - Least Active Customer\n"
      ]
    },
    {
      "cell_type": "code",
      "execution_count": null,
      "id": "8b217fcc",
      "metadata": {
        "id": "8b217fcc",
        "papermill": {
          "duration": 0.179816,
          "end_time": "2022-02-10T11:14:08.824517",
          "exception": false,
          "start_time": "2022-02-10T11:14:08.644701",
          "status": "completed"
        },
        "tags": []
      },
      "outputs": [],
      "source": [
        "cut_labels = ['Least Active Customer', 'Highly Active Customer']\n",
        "\n",
        "data['Wines_segment']  = pd.qcut(Products_DF['Wines'][Products_DF['Wines']>0],q=[0, 0.5 ,1], labels=cut_labels).astype(\"object\")\n",
        "data['Fruits_segment'] = pd.qcut(Products_DF['Fruits'][Products_DF['Fruits']>0],q=[0, 0.5, 1], labels=cut_labels).astype(\"object\")\n",
        "data['Meat_segment']   = pd.qcut(Products_DF['Meat'][Products_DF['Meat']>0],q=[0, 0.5,1], labels=cut_labels).astype(\"object\")\n",
        "data['Fish_segment']   = pd.qcut(Products_DF['Fish'][Products_DF['Fish']>0],q=[0, 0.5, 1], labels=cut_labels).astype(\"object\")\n",
        "data['Sweets_segment'] = pd.qcut(Products_DF['Sweets'][Products_DF['Sweets']>0],q=[0, 0.5, 1], labels=cut_labels).astype(\"object\")\n",
        "data['Gold_segment']   = pd.qcut(Products_DF['Gold'][Products_DF['Gold']>0],q=[0, 0.5, 1], labels=cut_labels).astype(\"object\")\n",
        "data.replace(np.nan, \"Inactive Customer\",inplace=True)\n",
        "data = data.astype(object)"
      ]
    },
    {
      "cell_type": "code",
      "execution_count": null,
      "id": "38a86e05",
      "metadata": {
        "id": "38a86e05",
        "papermill": {
          "duration": 0.151066,
          "end_time": "2022-02-10T11:14:09.106138",
          "exception": false,
          "start_time": "2022-02-10T11:14:08.955072",
          "status": "completed"
        },
        "tags": []
      },
      "outputs": [],
      "source": [
        "data.head()"
      ]
    },
    {
      "cell_type": "code",
      "execution_count": null,
      "id": "ecb80a04",
      "metadata": {
        "id": "ecb80a04",
        "papermill": {
          "duration": 0.14971,
          "end_time": "2022-02-10T11:14:09.911948",
          "exception": false,
          "start_time": "2022-02-10T11:14:09.762238",
          "status": "completed"
        },
        "tags": []
      },
      "outputs": [],
      "source": [
        "#Applying Apriori Algorithm\n",
        "\n",
        "association = data.copy() \n",
        "association.head()"
      ]
    },
    {
      "cell_type": "code",
      "execution_count": null,
      "id": "ee48fe92",
      "metadata": {
        "id": "ee48fe92",
        "papermill": {
          "duration": 0.151378,
          "end_time": "2022-02-10T11:14:10.192445",
          "exception": false,
          "start_time": "2022-02-10T11:14:10.041067",
          "status": "completed"
        },
        "tags": []
      },
      "outputs": [],
      "source": [
        "association.drop([\"Education\", \"Marital_Status\", \"Kids\", \"Expenses\", \"TotalAcceptedCmp\", \"NumTotalPurchases\", \"cluster\"], axis = 1, inplace = True)\n",
        "association.head()"
      ]
    },
    {
      "cell_type": "code",
      "execution_count": null,
      "id": "92b56cfc",
      "metadata": {
        "id": "92b56cfc",
        "papermill": {
          "duration": 0.241364,
          "end_time": "2022-02-10T11:14:10.836542",
          "exception": false,
          "start_time": "2022-02-10T11:14:10.595178",
          "status": "completed"
        },
        "tags": []
      },
      "outputs": [],
      "source": [
        "# Setting the Association Rules\n",
        "df_ap       = pd.get_dummies(association)\n",
        "min_support = 0.08\n",
        "max_len     = 10\n",
        "frequent_items = apriori(df_ap, use_colnames=True, min_support=min_support, max_len=max_len + 1)\n",
        "rules = association_rules(frequent_items, metric='lift', min_threshold=1)"
      ]
    },
    {
      "cell_type": "code",
      "execution_count": null,
      "id": "404406c9",
      "metadata": {
        "id": "404406c9",
        "papermill": {
          "duration": 0.169395,
          "end_time": "2022-02-10T11:14:11.395140",
          "exception": false,
          "start_time": "2022-02-10T11:14:11.225745",
          "status": "completed"
        },
        "tags": []
      },
      "outputs": [],
      "source": [
        "# Finding the \"Highly Active Customers\" for \"Wines\"\n",
        "product = 'Wines'\n",
        "segment = 'Highly Active Customer'\n",
        "target  = '{\\'%s_segment_%s\\'}' %(product,segment) #F-strings\n",
        "results_personnel_care = rules[rules['consequents'].astype(str).str.contains(target, na=False)].sort_values(by='confidence', ascending=False)\n",
        "results_personnel_care.head()"
      ]
    },
    {
      "cell_type": "markdown",
      "id": "f081f4d9-43ee-423a-bfc0-0d6cc1bd5050",
      "metadata": {
        "id": "f081f4d9-43ee-423a-bfc0-0d6cc1bd5050"
      },
      "source": [
        "In this way, if we can find the Biggest Consumers for a particular product, multiple ways of market these products can be narrowed down to these customers and their categories of purchases. \n",
        "\n",
        "Thus, Apriori Algorithm will help the businesses to plan appropriate Product Pricings, making better decisions on Product Positioning and helping the business owner to work on product assortment and availability of different category of products, all based on the needs of these Highly Active Customers.\n",
        "\n",
        "Also, the less-active customers can be targeted for advertisements and promotions."
      ]
    },
    {
      "cell_type": "markdown",
      "metadata": {
        "id": "mKb-YyXz3wal"
      },
      "source": [
        "### Please answer the questions below to complete the experiment:\n",
        "\n",
        "\n"
      ],
      "id": "mKb-YyXz3wal"
    },
    {
      "cell_type": "code",
      "metadata": {
        "id": "gpa26ATM3wal"
      },
      "source": [
        "# @title Post performing Associated Rule Mining, which of the methods can be applied to see if the customer will buy a certain product P or not? { run: \"auto\", form-width: \"500px\", display-mode: \"form\" }\n",
        "Answer = \"\" #@param [\"\", \"Gaussian Mixture Model\", \"SVM\",\"Ridge Regression\", \"K-Means\"]"
      ],
      "execution_count": null,
      "outputs": [],
      "id": "gpa26ATM3wal"
    },
    {
      "cell_type": "code",
      "metadata": {
        "id": "u0M8jBWR3wam"
      },
      "source": [
        "#@title How was the experiment? { run: \"auto\", form-width: \"500px\", display-mode: \"form\" }\n",
        "Complexity = \"\" #@param [\"\",\"Too Simple, I am wasting time\", \"Good, But Not Challenging for me\", \"Good and Challenging for me\", \"Was Tough, but I did it\", \"Too Difficult for me\"]"
      ],
      "execution_count": null,
      "outputs": [],
      "id": "u0M8jBWR3wam"
    },
    {
      "cell_type": "code",
      "metadata": {
        "id": "Yxc4wbWA3wam"
      },
      "source": [
        "#@title If it was too easy, what more would you have liked to be added? If it was very difficult, what would you have liked to have been removed? { run: \"auto\", display-mode: \"form\" }\n",
        "Additional = \"\" #@param {type:\"string\"}"
      ],
      "execution_count": null,
      "outputs": [],
      "id": "Yxc4wbWA3wam"
    },
    {
      "cell_type": "code",
      "metadata": {
        "id": "iAa54X9k3wam"
      },
      "source": [
        "#@title Can you identify the concepts from the lecture which this experiment covered? { run: \"auto\", vertical-output: true, display-mode: \"form\" }\n",
        "Concepts = \"\" #@param [\"\",\"Yes\", \"No\"]"
      ],
      "execution_count": null,
      "outputs": [],
      "id": "iAa54X9k3wam"
    },
    {
      "cell_type": "code",
      "metadata": {
        "id": "FycMTpgI3wam"
      },
      "source": [
        "#@title  Text and image description/explanation and code comments within the experiment: { run: \"auto\", vertical-output: true, display-mode: \"form\" }\n",
        "Comments = \"\" #@param [\"\",\"Very Useful\", \"Somewhat Useful\", \"Not Useful\", \"Didn't use\"]"
      ],
      "execution_count": null,
      "outputs": [],
      "id": "FycMTpgI3wam"
    },
    {
      "cell_type": "code",
      "metadata": {
        "id": "6NH4_geE3wan"
      },
      "source": [
        "#@title Mentor Support: { run: \"auto\", vertical-output: true, display-mode: \"form\" }\n",
        "Mentor_support = \"\" #@param [\"\",\"Very Useful\", \"Somewhat Useful\", \"Not Useful\", \"Didn't use\"]"
      ],
      "execution_count": null,
      "outputs": [],
      "id": "6NH4_geE3wan"
    },
    {
      "cell_type": "code",
      "metadata": {
        "cellView": "form",
        "id": "Qvn3xqT53wan"
      },
      "source": [
        "#@title Run this cell to submit your notebook for grading { vertical-output: true }\n",
        "try:\n",
        "  if submission_id:\n",
        "      return_id = submit_notebook()\n",
        "      if return_id : submission_id = return_id\n",
        "  else:\n",
        "      print(\"Please complete the setup first.\")\n",
        "except NameError:\n",
        "  print (\"Please complete the setup first.\")"
      ],
      "execution_count": null,
      "outputs": [],
      "id": "Qvn3xqT53wan"
    },
    {
      "cell_type": "markdown",
      "id": "1ee26565",
      "metadata": {
        "id": "1ee26565",
        "papermill": {
          "duration": 0.131152,
          "end_time": "2022-02-10T11:14:11.654904",
          "exception": false,
          "start_time": "2022-02-10T11:14:11.523752",
          "status": "completed"
        },
        "tags": []
      },
      "source": [
        "### Ungraded Exercise: \n",
        "\n",
        "Find  the \"Highly Active Customers\" when it comes to \"Fruits, Meat, Fish, Sweets, Gold\""
      ]
    }
  ],
  "metadata": {
    "kernelspec": {
      "display_name": "Python 3 (ipykernel)",
      "language": "python",
      "name": "python3"
    },
    "language_info": {
      "codemirror_mode": {
        "name": "ipython",
        "version": 3
      },
      "file_extension": ".py",
      "mimetype": "text/x-python",
      "name": "python",
      "nbconvert_exporter": "python",
      "pygments_lexer": "ipython3",
      "version": "3.9.7"
    },
    "papermill": {
      "default_parameters": {},
      "duration": 127.301034,
      "end_time": "2022-02-10T11:14:19.618938",
      "environment_variables": {},
      "exception": null,
      "input_path": "__notebook__.ipynb",
      "output_path": "__notebook__.ipynb",
      "parameters": {},
      "start_time": "2022-02-10T11:12:12.317904",
      "version": "2.3.3"
    },
    "colab": {
      "provenance": [],
      "include_colab_link": true
    }
  },
  "nbformat": 4,
  "nbformat_minor": 5
}