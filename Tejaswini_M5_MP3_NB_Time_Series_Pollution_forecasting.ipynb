{
  "nbformat": 4,
  "nbformat_minor": 0,
  "metadata": {
    "colab": {
      "provenance": [],
      "include_colab_link": true
    },
    "kernelspec": {
      "display_name": "Python 3",
      "name": "python3"
    }
  },
  "cells": [
    {
      "cell_type": "markdown",
      "metadata": {
        "id": "view-in-github",
        "colab_type": "text"
      },
      "source": [
        "<a href=\"https://colab.research.google.com/github/Srividhyak2011/Demo-Datascienceproject/blob/main/Tejaswini_M5_MP3_NB_Time_Series_Pollution_forecasting.ipynb\" target=\"_parent\"><img src=\"https://colab.research.google.com/assets/colab-badge.svg\" alt=\"Open In Colab\"/></a>"
      ]
    },
    {
      "cell_type": "markdown",
      "metadata": {
        "id": "WFBl3DsqB3AE"
      },
      "source": [
        "# Applied Data Science and Machine Intelligence\n",
        "## A program by IIT Madras and TalentSprint\n",
        "### Mini Project Notebook : Time series forecasting of pollution"
      ]
    },
    {
      "cell_type": "markdown",
      "metadata": {
        "id": "k1FerUSj2EkP"
      },
      "source": [
        "## Learning Objectives"
      ]
    },
    {
      "cell_type": "markdown",
      "metadata": {
        "id": "N_tmCSYB39kS"
      },
      "source": [
        "\n",
        "This experiment predicts pollution w.r.t weather conditions.\n",
        "At the end of the experiment, you will be able to:\n",
        "\n",
        "* Perform time series analysis of hourly pollution data\n",
        "* Implement RNN for time series forecasting using Keras\n",
        "\n",
        "\n"
      ]
    },
    {
      "cell_type": "markdown",
      "metadata": {
        "id": "u_y9ilfL4AmW"
      },
      "source": [
        "## Dataset"
      ]
    },
    {
      "cell_type": "code",
      "metadata": {
        "id": "82-MCqP0yFM2",
        "cellView": "form",
        "outputId": "6cee37b9-8290-470d-861f-6e6a357f9cc0",
        "colab": {
          "base_uri": "https://localhost:8080/"
        }
      },
      "source": [
        "#@title Download dataset\n",
        "!gdown \"1aVul315gd8gCRqGVjLOvOc8IwbS9m5MW\""
      ],
      "execution_count": 4,
      "outputs": [
        {
          "output_type": "stream",
          "name": "stdout",
          "text": [
            "Downloading...\n",
            "From: https://drive.google.com/uc?id=1aVul315gd8gCRqGVjLOvOc8IwbS9m5MW\n",
            "To: /content/PRSA_data_2010.1.1-2014.12.31.csv\n",
            "\r  0% 0.00/2.01M [00:00<?, ?B/s]\r100% 2.01M/2.01M [00:00<00:00, 48.3MB/s]\n"
          ]
        }
      ]
    },
    {
      "cell_type": "markdown",
      "metadata": {
        "id": "aW3BNhFQ4EZx"
      },
      "source": [
        "\n",
        "\n",
        "### Description\n",
        "\n",
        "In this experiment we use weather and the level of pollution of US embassy in Beijing, China. This is a dataset that reports on the weather and the level of pollution each hour for five years at the US embassy in Beijing, China.\n",
        "\n",
        "The data includes the date-time, the pollution called PM2.5 concentration, and the weather information including dew point, temperature, pressure, wind direction, wind speed and the cumulative number of hours of snow and rain.\n",
        "\n",
        "The complete feature list in the raw data is as follows:\n",
        "\n",
        "1. No: row number\n",
        "2. year: year of data in this row\n",
        "3. month: month of data in this row\n",
        "4. day: day of data in this row\n",
        "5. hour: hour of data in this row\n",
        "6. pm2.5: PM2.5 concentration\n",
        "7. DEWP: Dew Point\n",
        "8. TEMP: Temperature\n",
        "9. PRES: Pressure\n",
        "10. cbwd: Combined wind direction\n",
        "11. Iws: Cumulated wind speed\n",
        "12. Is: Cumulated hours of snow\n",
        "13. Ir: Cumulated hours of rain\n",
        "\n",
        "We can use this data and frame a forecasting problem where, given the weather conditions and pollution for prior hours, we forecast the pollution at the next hour.\n",
        "\n",
        "This dataset can be used to frame other forecasting problems.\n",
        "\n"
      ]
    },
    {
      "cell_type": "markdown",
      "metadata": {
        "id": "ajcHYHk54LKx"
      },
      "source": [
        "## Domain Information"
      ]
    },
    {
      "cell_type": "markdown",
      "metadata": {
        "id": "ef5ecCOk4NfD"
      },
      "source": [
        " Weather is the state of atmosphere at a particular time and place. It comprises of various components such as wind, temperature, pressure etc. We know from experience that the weather conditions, are similar to the conditions obtaining upto that point of time. In other words, the weather conditions of a day can be predicted by studying the weather conditions of previous days. Hence, it is a perfect example of a time series.\n",
        "\n",
        "Usually the normal dataset only has observations. But, in time series dataset, there must be one time component.This makes it more complicated and challenging to solve.\n",
        "\n",
        "**Note:** People often confuse between understanding a time series dataset and predicting the future through dataset. Understanding a time series dataset requires detailed analysis so that you can answer why a particular approach/algorithm is the best fit. While predicting the future, involves considering approaches/algorithms that were used in the historical dataset so that you can use the same and predict the next hour weather.\n",
        "\n",
        "The power of a time series forecasting model is determined by its performance or accuracy at predicting the future. This is often at the expense of being able to explain why a specific prediction was made, what the confidence intervals are and what are the underlying causes."
      ]
    },
    {
      "cell_type": "markdown",
      "source": [
        "## Recurrent Neural Network (RNN)"
      ],
      "metadata": {
        "id": "9XHNEmsE1-83"
      }
    },
    {
      "cell_type": "markdown",
      "metadata": {
        "id": "Sv6qC6Iv4Up5"
      },
      "source": [
        "**Recurrent Neural Networks:**\n",
        "Humans don’t start their thinking from scratch every second. As you read this essay, you understand each word based on your understanding of previous words. You don’t throw everything away and start thinking from scratch again. Your thoughts have persistence.\n",
        "\n",
        "Traditional neural networks can’t do this, and it seems like a major shortcoming. For example, imagine you want to classify what kind of event is happening at every point in a movie. It’s unclear how a traditional neural network could use its reasoning about previous events in the film to inform later ones.\n",
        "\n",
        "**What is a Recurrent Neural Network (RNN)?**\n",
        "\n",
        "Recurrent neural networks (RNN) are a class of neural networks that are helpful in modeling sequence data. Derived from feedforward networks, RNNs exhibit similar behavior to how human brains function. Simply put: recurrent neural networks produce predictive results in sequential data that other algorithms can’t.\n",
        "\n",
        "\n",
        "Recurrent neural networks (RNN) are the state of the art algorithm for sequential data and are used by Apple's Siri and Google's voice search. It is the first algorithm that remembers its input, due to an internal memory, which makes it perfectly suited for machine learning problems that involve sequential data. It is one of the algorithms behind the scenes of the amazing achievements seen in deep learning over the past few years. In this post, we'll cover the basic concepts of how recurrent neural networks work, what the biggest issues are and how to solve them.\n",
        "\n",
        "**When do you need to use a RNN?**\n",
        "\n",
        "“Whenever there is a sequence of data and that temporal dynamics that connects the data is more important than the spatial content of each individual frame.”"
      ]
    },
    {
      "cell_type": "markdown",
      "metadata": {
        "id": "dg3aMFkn0has"
      },
      "source": [
        "### Importing Required Packages"
      ]
    },
    {
      "cell_type": "code",
      "metadata": {
        "id": "CAqixkMd9sYN"
      },
      "source": [
        "import pandas as pd\n",
        "import numpy as np\n",
        "from matplotlib import pyplot as plt\n",
        "from pandas import read_csv, DataFrame, concat\n",
        "from datetime import datetime\n",
        "from sklearn.preprocessing import LabelEncoder\n",
        "from sklearn.preprocessing import MinMaxScaler\n",
        "from sklearn.metrics import mean_squared_error\n",
        "import datetime\n",
        "import seaborn as sns\n",
        "from keras.models import Sequential\n",
        "from keras.layers import LSTM\n",
        "from keras.layers import Dense, Dropout\n",
        "from sklearn.metrics import r2_score"
      ],
      "execution_count": 69,
      "outputs": []
    },
    {
      "cell_type": "markdown",
      "metadata": {
        "id": "1J4aqPiO1eK1"
      },
      "source": [
        "### **Data Preprocessing ( 1 point)**\n"
      ]
    },
    {
      "cell_type": "markdown",
      "metadata": {
        "id": "ulL81NtW0ha3"
      },
      "source": [
        "\n",
        "\n",
        "\n",
        "- The first step is to consolidate the date-time information into a single date-time so that we can use it as an index in Pandas.\n",
        "\n",
        "- A quick check reveals NA values for pm2.5 for the first 24 hours. We will, therefore, need to remove the first row of data. There are also a few scattered “NA” values later in the dataset. we can mark them with 0 values for now.\n",
        "\n",
        "- The code below loads the raw dataset and parses the date-time information as the Pandas DataFrame index. The “No” column is dropped and then clearer names are specified for each column. Finally, the NA values are replaced with “0” values and the first 24 hours are removed.\n"
      ]
    },
    {
      "cell_type": "code",
      "metadata": {
        "id": "QKdGy1KY0ha4"
      },
      "source": [
        "# Load and preprocess the dataset\n",
        "df=pd.read_csv(\"/content/PRSA_data_2010.1.1-2014.12.31.csv\")"
      ],
      "execution_count": 55,
      "outputs": []
    },
    {
      "cell_type": "code",
      "source": [
        "df.head()"
      ],
      "metadata": {
        "colab": {
          "base_uri": "https://localhost:8080/",
          "height": 206
        },
        "id": "6UI0gVBh-05p",
        "outputId": "7dfd25ff-08c3-4fbc-f677-43fe58deaf08"
      },
      "execution_count": 58,
      "outputs": [
        {
          "output_type": "execute_result",
          "data": {
            "text/plain": [
              "   No  year  month  day  hour  pm2.5  DEWP  TEMP    PRES cbwd    Iws  Is  Ir\n",
              "0   1  2010      1    1     0    NaN   -21 -11.0  1021.0   NW   1.79   0   0\n",
              "1   2  2010      1    1     1    NaN   -21 -12.0  1020.0   NW   4.92   0   0\n",
              "2   3  2010      1    1     2    NaN   -21 -11.0  1019.0   NW   6.71   0   0\n",
              "3   4  2010      1    1     3    NaN   -21 -14.0  1019.0   NW   9.84   0   0\n",
              "4   5  2010      1    1     4    NaN   -20 -12.0  1018.0   NW  12.97   0   0"
            ],
            "text/html": [
              "\n",
              "  <div id=\"df-c8a8a421-e359-4c3b-8a09-daffc3235a9a\" class=\"colab-df-container\">\n",
              "    <div>\n",
              "<style scoped>\n",
              "    .dataframe tbody tr th:only-of-type {\n",
              "        vertical-align: middle;\n",
              "    }\n",
              "\n",
              "    .dataframe tbody tr th {\n",
              "        vertical-align: top;\n",
              "    }\n",
              "\n",
              "    .dataframe thead th {\n",
              "        text-align: right;\n",
              "    }\n",
              "</style>\n",
              "<table border=\"1\" class=\"dataframe\">\n",
              "  <thead>\n",
              "    <tr style=\"text-align: right;\">\n",
              "      <th></th>\n",
              "      <th>No</th>\n",
              "      <th>year</th>\n",
              "      <th>month</th>\n",
              "      <th>day</th>\n",
              "      <th>hour</th>\n",
              "      <th>pm2.5</th>\n",
              "      <th>DEWP</th>\n",
              "      <th>TEMP</th>\n",
              "      <th>PRES</th>\n",
              "      <th>cbwd</th>\n",
              "      <th>Iws</th>\n",
              "      <th>Is</th>\n",
              "      <th>Ir</th>\n",
              "    </tr>\n",
              "  </thead>\n",
              "  <tbody>\n",
              "    <tr>\n",
              "      <th>0</th>\n",
              "      <td>1</td>\n",
              "      <td>2010</td>\n",
              "      <td>1</td>\n",
              "      <td>1</td>\n",
              "      <td>0</td>\n",
              "      <td>NaN</td>\n",
              "      <td>-21</td>\n",
              "      <td>-11.0</td>\n",
              "      <td>1021.0</td>\n",
              "      <td>NW</td>\n",
              "      <td>1.79</td>\n",
              "      <td>0</td>\n",
              "      <td>0</td>\n",
              "    </tr>\n",
              "    <tr>\n",
              "      <th>1</th>\n",
              "      <td>2</td>\n",
              "      <td>2010</td>\n",
              "      <td>1</td>\n",
              "      <td>1</td>\n",
              "      <td>1</td>\n",
              "      <td>NaN</td>\n",
              "      <td>-21</td>\n",
              "      <td>-12.0</td>\n",
              "      <td>1020.0</td>\n",
              "      <td>NW</td>\n",
              "      <td>4.92</td>\n",
              "      <td>0</td>\n",
              "      <td>0</td>\n",
              "    </tr>\n",
              "    <tr>\n",
              "      <th>2</th>\n",
              "      <td>3</td>\n",
              "      <td>2010</td>\n",
              "      <td>1</td>\n",
              "      <td>1</td>\n",
              "      <td>2</td>\n",
              "      <td>NaN</td>\n",
              "      <td>-21</td>\n",
              "      <td>-11.0</td>\n",
              "      <td>1019.0</td>\n",
              "      <td>NW</td>\n",
              "      <td>6.71</td>\n",
              "      <td>0</td>\n",
              "      <td>0</td>\n",
              "    </tr>\n",
              "    <tr>\n",
              "      <th>3</th>\n",
              "      <td>4</td>\n",
              "      <td>2010</td>\n",
              "      <td>1</td>\n",
              "      <td>1</td>\n",
              "      <td>3</td>\n",
              "      <td>NaN</td>\n",
              "      <td>-21</td>\n",
              "      <td>-14.0</td>\n",
              "      <td>1019.0</td>\n",
              "      <td>NW</td>\n",
              "      <td>9.84</td>\n",
              "      <td>0</td>\n",
              "      <td>0</td>\n",
              "    </tr>\n",
              "    <tr>\n",
              "      <th>4</th>\n",
              "      <td>5</td>\n",
              "      <td>2010</td>\n",
              "      <td>1</td>\n",
              "      <td>1</td>\n",
              "      <td>4</td>\n",
              "      <td>NaN</td>\n",
              "      <td>-20</td>\n",
              "      <td>-12.0</td>\n",
              "      <td>1018.0</td>\n",
              "      <td>NW</td>\n",
              "      <td>12.97</td>\n",
              "      <td>0</td>\n",
              "      <td>0</td>\n",
              "    </tr>\n",
              "  </tbody>\n",
              "</table>\n",
              "</div>\n",
              "    <div class=\"colab-df-buttons\">\n",
              "\n",
              "  <div class=\"colab-df-container\">\n",
              "    <button class=\"colab-df-convert\" onclick=\"convertToInteractive('df-c8a8a421-e359-4c3b-8a09-daffc3235a9a')\"\n",
              "            title=\"Convert this dataframe to an interactive table.\"\n",
              "            style=\"display:none;\">\n",
              "\n",
              "  <svg xmlns=\"http://www.w3.org/2000/svg\" height=\"24px\" viewBox=\"0 -960 960 960\">\n",
              "    <path d=\"M120-120v-720h720v720H120Zm60-500h600v-160H180v160Zm220 220h160v-160H400v160Zm0 220h160v-160H400v160ZM180-400h160v-160H180v160Zm440 0h160v-160H620v160ZM180-180h160v-160H180v160Zm440 0h160v-160H620v160Z\"/>\n",
              "  </svg>\n",
              "    </button>\n",
              "\n",
              "  <style>\n",
              "    .colab-df-container {\n",
              "      display:flex;\n",
              "      gap: 12px;\n",
              "    }\n",
              "\n",
              "    .colab-df-convert {\n",
              "      background-color: #E8F0FE;\n",
              "      border: none;\n",
              "      border-radius: 50%;\n",
              "      cursor: pointer;\n",
              "      display: none;\n",
              "      fill: #1967D2;\n",
              "      height: 32px;\n",
              "      padding: 0 0 0 0;\n",
              "      width: 32px;\n",
              "    }\n",
              "\n",
              "    .colab-df-convert:hover {\n",
              "      background-color: #E2EBFA;\n",
              "      box-shadow: 0px 1px 2px rgba(60, 64, 67, 0.3), 0px 1px 3px 1px rgba(60, 64, 67, 0.15);\n",
              "      fill: #174EA6;\n",
              "    }\n",
              "\n",
              "    .colab-df-buttons div {\n",
              "      margin-bottom: 4px;\n",
              "    }\n",
              "\n",
              "    [theme=dark] .colab-df-convert {\n",
              "      background-color: #3B4455;\n",
              "      fill: #D2E3FC;\n",
              "    }\n",
              "\n",
              "    [theme=dark] .colab-df-convert:hover {\n",
              "      background-color: #434B5C;\n",
              "      box-shadow: 0px 1px 3px 1px rgba(0, 0, 0, 0.15);\n",
              "      filter: drop-shadow(0px 1px 2px rgba(0, 0, 0, 0.3));\n",
              "      fill: #FFFFFF;\n",
              "    }\n",
              "  </style>\n",
              "\n",
              "    <script>\n",
              "      const buttonEl =\n",
              "        document.querySelector('#df-c8a8a421-e359-4c3b-8a09-daffc3235a9a button.colab-df-convert');\n",
              "      buttonEl.style.display =\n",
              "        google.colab.kernel.accessAllowed ? 'block' : 'none';\n",
              "\n",
              "      async function convertToInteractive(key) {\n",
              "        const element = document.querySelector('#df-c8a8a421-e359-4c3b-8a09-daffc3235a9a');\n",
              "        const dataTable =\n",
              "          await google.colab.kernel.invokeFunction('convertToInteractive',\n",
              "                                                    [key], {});\n",
              "        if (!dataTable) return;\n",
              "\n",
              "        const docLinkHtml = 'Like what you see? Visit the ' +\n",
              "          '<a target=\"_blank\" href=https://colab.research.google.com/notebooks/data_table.ipynb>data table notebook</a>'\n",
              "          + ' to learn more about interactive tables.';\n",
              "        element.innerHTML = '';\n",
              "        dataTable['output_type'] = 'display_data';\n",
              "        await google.colab.output.renderOutput(dataTable, element);\n",
              "        const docLink = document.createElement('div');\n",
              "        docLink.innerHTML = docLinkHtml;\n",
              "        element.appendChild(docLink);\n",
              "      }\n",
              "    </script>\n",
              "  </div>\n",
              "\n",
              "\n",
              "<div id=\"df-ee39c30f-c348-4cd5-98a6-30bc236636cc\">\n",
              "  <button class=\"colab-df-quickchart\" onclick=\"quickchart('df-ee39c30f-c348-4cd5-98a6-30bc236636cc')\"\n",
              "            title=\"Suggest charts.\"\n",
              "            style=\"display:none;\">\n",
              "\n",
              "<svg xmlns=\"http://www.w3.org/2000/svg\" height=\"24px\"viewBox=\"0 0 24 24\"\n",
              "     width=\"24px\">\n",
              "    <g>\n",
              "        <path d=\"M19 3H5c-1.1 0-2 .9-2 2v14c0 1.1.9 2 2 2h14c1.1 0 2-.9 2-2V5c0-1.1-.9-2-2-2zM9 17H7v-7h2v7zm4 0h-2V7h2v10zm4 0h-2v-4h2v4z\"/>\n",
              "    </g>\n",
              "</svg>\n",
              "  </button>\n",
              "\n",
              "<style>\n",
              "  .colab-df-quickchart {\n",
              "    background-color: #E8F0FE;\n",
              "    border: none;\n",
              "    border-radius: 50%;\n",
              "    cursor: pointer;\n",
              "    display: none;\n",
              "    fill: #1967D2;\n",
              "    height: 32px;\n",
              "    padding: 0 0 0 0;\n",
              "    width: 32px;\n",
              "  }\n",
              "\n",
              "  .colab-df-quickchart:hover {\n",
              "    background-color: #E2EBFA;\n",
              "    box-shadow: 0px 1px 2px rgba(60, 64, 67, 0.3), 0px 1px 3px 1px rgba(60, 64, 67, 0.15);\n",
              "    fill: #174EA6;\n",
              "  }\n",
              "\n",
              "  [theme=dark] .colab-df-quickchart {\n",
              "    background-color: #3B4455;\n",
              "    fill: #D2E3FC;\n",
              "  }\n",
              "\n",
              "  [theme=dark] .colab-df-quickchart:hover {\n",
              "    background-color: #434B5C;\n",
              "    box-shadow: 0px 1px 3px 1px rgba(0, 0, 0, 0.15);\n",
              "    filter: drop-shadow(0px 1px 2px rgba(0, 0, 0, 0.3));\n",
              "    fill: #FFFFFF;\n",
              "  }\n",
              "</style>\n",
              "\n",
              "  <script>\n",
              "    async function quickchart(key) {\n",
              "      const charts = await google.colab.kernel.invokeFunction(\n",
              "          'suggestCharts', [key], {});\n",
              "    }\n",
              "    (() => {\n",
              "      let quickchartButtonEl =\n",
              "        document.querySelector('#df-ee39c30f-c348-4cd5-98a6-30bc236636cc button');\n",
              "      quickchartButtonEl.style.display =\n",
              "        google.colab.kernel.accessAllowed ? 'block' : 'none';\n",
              "    })();\n",
              "  </script>\n",
              "</div>\n",
              "    </div>\n",
              "  </div>\n"
            ]
          },
          "metadata": {},
          "execution_count": 58
        }
      ]
    },
    {
      "cell_type": "code",
      "source": [
        "df.shape"
      ],
      "metadata": {
        "colab": {
          "base_uri": "https://localhost:8080/"
        },
        "id": "lXTGoIWv112S",
        "outputId": "84a2a406-a8f6-4107-c61e-0cceaaed4570"
      },
      "execution_count": 59,
      "outputs": [
        {
          "output_type": "execute_result",
          "data": {
            "text/plain": [
              "(43824, 13)"
            ]
          },
          "metadata": {},
          "execution_count": 59
        }
      ]
    },
    {
      "cell_type": "markdown",
      "source": [
        "Removing first day where NA"
      ],
      "metadata": {
        "id": "-_B8dsViaHO_"
      }
    },
    {
      "cell_type": "code",
      "source": [
        "df=df[(df[\"pm2.5\"].notna()) & (df[\"day\"]!=1)]"
      ],
      "metadata": {
        "id": "mV8UpbiDZKom"
      },
      "execution_count": 60,
      "outputs": []
    },
    {
      "cell_type": "code",
      "source": [
        "df.shape"
      ],
      "metadata": {
        "colab": {
          "base_uri": "https://localhost:8080/"
        },
        "id": "D4tPssqQ15aK",
        "outputId": "1a7bb770-c28b-4162-8b0d-a723b430d2b3"
      },
      "execution_count": 61,
      "outputs": [
        {
          "output_type": "execute_result",
          "data": {
            "text/plain": [
              "(40415, 13)"
            ]
          },
          "metadata": {},
          "execution_count": 61
        }
      ]
    },
    {
      "cell_type": "code",
      "source": [
        "df.head()"
      ],
      "metadata": {
        "colab": {
          "base_uri": "https://localhost:8080/",
          "height": 206
        },
        "id": "9XSXv_LuVkmu",
        "outputId": "4123ee6e-c23f-4cc4-b84d-a9a2de6190f0"
      },
      "execution_count": 62,
      "outputs": [
        {
          "output_type": "execute_result",
          "data": {
            "text/plain": [
              "    No  year  month  day  hour  pm2.5  DEWP  TEMP    PRES cbwd   Iws  Is  Ir\n",
              "24  25  2010      1    2     0  129.0   -16  -4.0  1020.0   SE  1.79   0   0\n",
              "25  26  2010      1    2     1  148.0   -15  -4.0  1020.0   SE  2.68   0   0\n",
              "26  27  2010      1    2     2  159.0   -11  -5.0  1021.0   SE  3.57   0   0\n",
              "27  28  2010      1    2     3  181.0    -7  -5.0  1022.0   SE  5.36   1   0\n",
              "28  29  2010      1    2     4  138.0    -7  -5.0  1022.0   SE  6.25   2   0"
            ],
            "text/html": [
              "\n",
              "  <div id=\"df-322a1b2f-b2f6-4d5b-9045-599157166bb7\" class=\"colab-df-container\">\n",
              "    <div>\n",
              "<style scoped>\n",
              "    .dataframe tbody tr th:only-of-type {\n",
              "        vertical-align: middle;\n",
              "    }\n",
              "\n",
              "    .dataframe tbody tr th {\n",
              "        vertical-align: top;\n",
              "    }\n",
              "\n",
              "    .dataframe thead th {\n",
              "        text-align: right;\n",
              "    }\n",
              "</style>\n",
              "<table border=\"1\" class=\"dataframe\">\n",
              "  <thead>\n",
              "    <tr style=\"text-align: right;\">\n",
              "      <th></th>\n",
              "      <th>No</th>\n",
              "      <th>year</th>\n",
              "      <th>month</th>\n",
              "      <th>day</th>\n",
              "      <th>hour</th>\n",
              "      <th>pm2.5</th>\n",
              "      <th>DEWP</th>\n",
              "      <th>TEMP</th>\n",
              "      <th>PRES</th>\n",
              "      <th>cbwd</th>\n",
              "      <th>Iws</th>\n",
              "      <th>Is</th>\n",
              "      <th>Ir</th>\n",
              "    </tr>\n",
              "  </thead>\n",
              "  <tbody>\n",
              "    <tr>\n",
              "      <th>24</th>\n",
              "      <td>25</td>\n",
              "      <td>2010</td>\n",
              "      <td>1</td>\n",
              "      <td>2</td>\n",
              "      <td>0</td>\n",
              "      <td>129.0</td>\n",
              "      <td>-16</td>\n",
              "      <td>-4.0</td>\n",
              "      <td>1020.0</td>\n",
              "      <td>SE</td>\n",
              "      <td>1.79</td>\n",
              "      <td>0</td>\n",
              "      <td>0</td>\n",
              "    </tr>\n",
              "    <tr>\n",
              "      <th>25</th>\n",
              "      <td>26</td>\n",
              "      <td>2010</td>\n",
              "      <td>1</td>\n",
              "      <td>2</td>\n",
              "      <td>1</td>\n",
              "      <td>148.0</td>\n",
              "      <td>-15</td>\n",
              "      <td>-4.0</td>\n",
              "      <td>1020.0</td>\n",
              "      <td>SE</td>\n",
              "      <td>2.68</td>\n",
              "      <td>0</td>\n",
              "      <td>0</td>\n",
              "    </tr>\n",
              "    <tr>\n",
              "      <th>26</th>\n",
              "      <td>27</td>\n",
              "      <td>2010</td>\n",
              "      <td>1</td>\n",
              "      <td>2</td>\n",
              "      <td>2</td>\n",
              "      <td>159.0</td>\n",
              "      <td>-11</td>\n",
              "      <td>-5.0</td>\n",
              "      <td>1021.0</td>\n",
              "      <td>SE</td>\n",
              "      <td>3.57</td>\n",
              "      <td>0</td>\n",
              "      <td>0</td>\n",
              "    </tr>\n",
              "    <tr>\n",
              "      <th>27</th>\n",
              "      <td>28</td>\n",
              "      <td>2010</td>\n",
              "      <td>1</td>\n",
              "      <td>2</td>\n",
              "      <td>3</td>\n",
              "      <td>181.0</td>\n",
              "      <td>-7</td>\n",
              "      <td>-5.0</td>\n",
              "      <td>1022.0</td>\n",
              "      <td>SE</td>\n",
              "      <td>5.36</td>\n",
              "      <td>1</td>\n",
              "      <td>0</td>\n",
              "    </tr>\n",
              "    <tr>\n",
              "      <th>28</th>\n",
              "      <td>29</td>\n",
              "      <td>2010</td>\n",
              "      <td>1</td>\n",
              "      <td>2</td>\n",
              "      <td>4</td>\n",
              "      <td>138.0</td>\n",
              "      <td>-7</td>\n",
              "      <td>-5.0</td>\n",
              "      <td>1022.0</td>\n",
              "      <td>SE</td>\n",
              "      <td>6.25</td>\n",
              "      <td>2</td>\n",
              "      <td>0</td>\n",
              "    </tr>\n",
              "  </tbody>\n",
              "</table>\n",
              "</div>\n",
              "    <div class=\"colab-df-buttons\">\n",
              "\n",
              "  <div class=\"colab-df-container\">\n",
              "    <button class=\"colab-df-convert\" onclick=\"convertToInteractive('df-322a1b2f-b2f6-4d5b-9045-599157166bb7')\"\n",
              "            title=\"Convert this dataframe to an interactive table.\"\n",
              "            style=\"display:none;\">\n",
              "\n",
              "  <svg xmlns=\"http://www.w3.org/2000/svg\" height=\"24px\" viewBox=\"0 -960 960 960\">\n",
              "    <path d=\"M120-120v-720h720v720H120Zm60-500h600v-160H180v160Zm220 220h160v-160H400v160Zm0 220h160v-160H400v160ZM180-400h160v-160H180v160Zm440 0h160v-160H620v160ZM180-180h160v-160H180v160Zm440 0h160v-160H620v160Z\"/>\n",
              "  </svg>\n",
              "    </button>\n",
              "\n",
              "  <style>\n",
              "    .colab-df-container {\n",
              "      display:flex;\n",
              "      gap: 12px;\n",
              "    }\n",
              "\n",
              "    .colab-df-convert {\n",
              "      background-color: #E8F0FE;\n",
              "      border: none;\n",
              "      border-radius: 50%;\n",
              "      cursor: pointer;\n",
              "      display: none;\n",
              "      fill: #1967D2;\n",
              "      height: 32px;\n",
              "      padding: 0 0 0 0;\n",
              "      width: 32px;\n",
              "    }\n",
              "\n",
              "    .colab-df-convert:hover {\n",
              "      background-color: #E2EBFA;\n",
              "      box-shadow: 0px 1px 2px rgba(60, 64, 67, 0.3), 0px 1px 3px 1px rgba(60, 64, 67, 0.15);\n",
              "      fill: #174EA6;\n",
              "    }\n",
              "\n",
              "    .colab-df-buttons div {\n",
              "      margin-bottom: 4px;\n",
              "    }\n",
              "\n",
              "    [theme=dark] .colab-df-convert {\n",
              "      background-color: #3B4455;\n",
              "      fill: #D2E3FC;\n",
              "    }\n",
              "\n",
              "    [theme=dark] .colab-df-convert:hover {\n",
              "      background-color: #434B5C;\n",
              "      box-shadow: 0px 1px 3px 1px rgba(0, 0, 0, 0.15);\n",
              "      filter: drop-shadow(0px 1px 2px rgba(0, 0, 0, 0.3));\n",
              "      fill: #FFFFFF;\n",
              "    }\n",
              "  </style>\n",
              "\n",
              "    <script>\n",
              "      const buttonEl =\n",
              "        document.querySelector('#df-322a1b2f-b2f6-4d5b-9045-599157166bb7 button.colab-df-convert');\n",
              "      buttonEl.style.display =\n",
              "        google.colab.kernel.accessAllowed ? 'block' : 'none';\n",
              "\n",
              "      async function convertToInteractive(key) {\n",
              "        const element = document.querySelector('#df-322a1b2f-b2f6-4d5b-9045-599157166bb7');\n",
              "        const dataTable =\n",
              "          await google.colab.kernel.invokeFunction('convertToInteractive',\n",
              "                                                    [key], {});\n",
              "        if (!dataTable) return;\n",
              "\n",
              "        const docLinkHtml = 'Like what you see? Visit the ' +\n",
              "          '<a target=\"_blank\" href=https://colab.research.google.com/notebooks/data_table.ipynb>data table notebook</a>'\n",
              "          + ' to learn more about interactive tables.';\n",
              "        element.innerHTML = '';\n",
              "        dataTable['output_type'] = 'display_data';\n",
              "        await google.colab.output.renderOutput(dataTable, element);\n",
              "        const docLink = document.createElement('div');\n",
              "        docLink.innerHTML = docLinkHtml;\n",
              "        element.appendChild(docLink);\n",
              "      }\n",
              "    </script>\n",
              "  </div>\n",
              "\n",
              "\n",
              "<div id=\"df-9fd74f8f-09a0-4998-88e4-01ae12828a5b\">\n",
              "  <button class=\"colab-df-quickchart\" onclick=\"quickchart('df-9fd74f8f-09a0-4998-88e4-01ae12828a5b')\"\n",
              "            title=\"Suggest charts.\"\n",
              "            style=\"display:none;\">\n",
              "\n",
              "<svg xmlns=\"http://www.w3.org/2000/svg\" height=\"24px\"viewBox=\"0 0 24 24\"\n",
              "     width=\"24px\">\n",
              "    <g>\n",
              "        <path d=\"M19 3H5c-1.1 0-2 .9-2 2v14c0 1.1.9 2 2 2h14c1.1 0 2-.9 2-2V5c0-1.1-.9-2-2-2zM9 17H7v-7h2v7zm4 0h-2V7h2v10zm4 0h-2v-4h2v4z\"/>\n",
              "    </g>\n",
              "</svg>\n",
              "  </button>\n",
              "\n",
              "<style>\n",
              "  .colab-df-quickchart {\n",
              "    background-color: #E8F0FE;\n",
              "    border: none;\n",
              "    border-radius: 50%;\n",
              "    cursor: pointer;\n",
              "    display: none;\n",
              "    fill: #1967D2;\n",
              "    height: 32px;\n",
              "    padding: 0 0 0 0;\n",
              "    width: 32px;\n",
              "  }\n",
              "\n",
              "  .colab-df-quickchart:hover {\n",
              "    background-color: #E2EBFA;\n",
              "    box-shadow: 0px 1px 2px rgba(60, 64, 67, 0.3), 0px 1px 3px 1px rgba(60, 64, 67, 0.15);\n",
              "    fill: #174EA6;\n",
              "  }\n",
              "\n",
              "  [theme=dark] .colab-df-quickchart {\n",
              "    background-color: #3B4455;\n",
              "    fill: #D2E3FC;\n",
              "  }\n",
              "\n",
              "  [theme=dark] .colab-df-quickchart:hover {\n",
              "    background-color: #434B5C;\n",
              "    box-shadow: 0px 1px 3px 1px rgba(0, 0, 0, 0.15);\n",
              "    filter: drop-shadow(0px 1px 2px rgba(0, 0, 0, 0.3));\n",
              "    fill: #FFFFFF;\n",
              "  }\n",
              "</style>\n",
              "\n",
              "  <script>\n",
              "    async function quickchart(key) {\n",
              "      const charts = await google.colab.kernel.invokeFunction(\n",
              "          'suggestCharts', [key], {});\n",
              "    }\n",
              "    (() => {\n",
              "      let quickchartButtonEl =\n",
              "        document.querySelector('#df-9fd74f8f-09a0-4998-88e4-01ae12828a5b button');\n",
              "      quickchartButtonEl.style.display =\n",
              "        google.colab.kernel.accessAllowed ? 'block' : 'none';\n",
              "    })();\n",
              "  </script>\n",
              "</div>\n",
              "    </div>\n",
              "  </div>\n"
            ]
          },
          "metadata": {},
          "execution_count": 62
        }
      ]
    },
    {
      "cell_type": "code",
      "source": [
        "df.isna().sum()"
      ],
      "metadata": {
        "colab": {
          "base_uri": "https://localhost:8080/"
        },
        "id": "bcjXB3Pw_L3Y",
        "outputId": "adfe5ab4-5948-470a-82e8-466d6b7e5d32"
      },
      "execution_count": 63,
      "outputs": [
        {
          "output_type": "execute_result",
          "data": {
            "text/plain": [
              "No       0\n",
              "year     0\n",
              "month    0\n",
              "day      0\n",
              "hour     0\n",
              "pm2.5    0\n",
              "DEWP     0\n",
              "TEMP     0\n",
              "PRES     0\n",
              "cbwd     0\n",
              "Iws      0\n",
              "Is       0\n",
              "Ir       0\n",
              "dtype: int64"
            ]
          },
          "metadata": {},
          "execution_count": 63
        }
      ]
    },
    {
      "cell_type": "code",
      "source": [
        "df=df.drop('No',axis=1);\n",
        "df=df.drop('year',axis=1);\n",
        "df=df.drop('month',axis=1);\n",
        "df=df.drop('day',axis=1);\n",
        "df=df.drop('hour',axis=1);\n",
        "df.head();\n",
        "\n",
        "values=df.values;"
      ],
      "metadata": {
        "id": "9SSLOMG8cuU_"
      },
      "execution_count": 65,
      "outputs": []
    },
    {
      "cell_type": "code",
      "source": [
        "groups = [0, 1, 2, 3, 5, 6, 7]\n",
        "i = 1\n",
        "# plotting each column\n",
        "plt.figure()\n",
        "for group in groups:\n",
        "\tplt.subplot(len(groups), 1, i)\n",
        "\tplt.plot(values[:, group])\n",
        "\tplt.title(df.columns[group], y=0.5, loc='right')\n",
        "\ti += 1\n",
        "plt.show()"
      ],
      "metadata": {
        "colab": {
          "base_uri": "https://localhost:8080/",
          "height": 434
        },
        "id": "FAXpNuXNdDCK",
        "outputId": "f98b5618-c000-4dc4-8f63-5970accd839d"
      },
      "execution_count": 71,
      "outputs": [
        {
          "output_type": "display_data",
          "data": {
            "text/plain": [
              "<Figure size 640x480 with 7 Axes>"
            ],
            "image/png": "[encoded data removed]"
          },
          "metadata": {}
        }
      ]
    },
    {
      "cell_type": "markdown",
      "source": [
        "Dropping pressure as it's highly correlated with Temp and Dewp"
      ],
      "metadata": {
        "id": "gzxCClOA9VDL"
      }
    },
    {
      "cell_type": "markdown",
      "metadata": {
        "id": "VXli8fI_0ha-"
      },
      "source": [
        "###  **Data Visualization ( 2 points)**\n",
        "Create a quick plot of each series"
      ]
    },
    {
      "cell_type": "code",
      "source": [
        "encoder = LabelEncoder()\n",
        "values[:,4] = encoder.fit_transform(values[:,4])\n",
        "# ensure all data is float\n",
        "values = values.astype('float32')"
      ],
      "metadata": {
        "id": "5YynBUcbeXsa"
      },
      "execution_count": 72,
      "outputs": []
    },
    {
      "cell_type": "code",
      "source": [
        "scaler = MinMaxScaler(feature_range=(0, 1))\n",
        "scaled = scaler.fit_transform(values)"
      ],
      "metadata": {
        "id": "kuOYxo3jedBq"
      },
      "execution_count": 73,
      "outputs": []
    },
    {
      "cell_type": "markdown",
      "metadata": {
        "id": "mJCruDiW0hbB"
      },
      "source": [
        "### **Preparing Data for Time Series Prediction ( 2 points )**\n",
        "\n",
        "- The first step is to prepare the pollution dataset for the Time Series problem.\n",
        "\n",
        "- This involves framing the dataset as a supervised learning problem and normalizing the input variables.\n",
        "\n",
        "- We will frame the supervised learning problem as predicting the pollution at the current hour (t) given the pollution measurement and weather conditions at the prior time step. So, the input is features at time step(t-1) and output is pollution at time t.\n",
        "\n",
        "- We can transform the dataset using the series_to_supervised() function given in code\n",
        "- Series to supervised function:\n",
        "\n",
        "    - Intuition is in time series forecasting terminology the current time (t) and future times (t+1, t+n) are forecast times and past observations (t-1, t-n) are used to make forecasts.\n",
        "    - We can see how positive and negative shifts can be used to create a new DataFrame from a time series with sequences of input and output patterns for a supervised learning problem.\n",
        "    - This permits not only classical X -> y prediction, but also X -> Y where both input and output can be sequences.\n",
        "    - The function takes four arguments:\n",
        "\n",
        "        1. data: Sequence of observations as a list or 2D NumPy array. Required.\n",
        "        2. n_in: Number of lag observations as input (X). Values may be between [1..len(data)] Optional. Defaults to 1.\n",
        "        3. n_out: Number of observations as output (y). Values may be between [0..len(data)-1]. Optional. Defaults to 1.\n",
        "        4. dropnan: Boolean whether or not to drop rows with NaN values. Optional. Defaults to True.\n",
        "        5. The function returns Pandas DataFrame of series framed for supervised learning.\n",
        "\n",
        "\n",
        "\n",
        "\n",
        "        \n",
        "- Steps to convert the  Time Series to a Supervised Learning Problem are:\n",
        "    \n",
        "    1. Load the “pollution.csv” dataset\n",
        "    2. Label encoded (integer encoded) the wind speed feature\n",
        "    3. Normalize the Dataset\n",
        "    4. Transform the dataset into supervised learning problem by calling the function \"series_to_supervised\"\n",
        "    \n"
      ]
    },
    {
      "cell_type": "markdown",
      "metadata": {
        "id": "YLiAXWGLsJU_"
      },
      "source": [
        "#### Convert the series to supervised learning problem"
      ]
    },
    {
      "cell_type": "code",
      "source": [
        "def series_to_supervised(data, n_in=1, n_out=1, dropnan=True):\n",
        "\tn_vars = 1 if type(data) is list else data.shape[1]\n",
        "\tdf = DataFrame(data)\n",
        "\tcols, names = list(), list()\n",
        "\t# input sequence (t-n, ... t-1)\n",
        "\tfor i in range(n_in, 0, -1):\n",
        "\t\tcols.append(df.shift(i))\n",
        "\t\tnames += [('var%d(t-%d)' % (j+1, i)) for j in range(n_vars)]\n",
        "\t# forecast sequence (t, t+1, ... t+n)\n",
        "\tfor i in range(0, n_out):\n",
        "\t\tcols.append(df.shift(-i))\n",
        "\t\tif i == 0:\n",
        "\t\t\tnames += [('var%d(t)' % (j+1)) for j in range(n_vars)]\n",
        "\t\telse:\n",
        "\t\t\tnames += [('var%d(t+%d)' % (j+1, i)) for j in range(n_vars)]\n",
        "\t# put it all together\n",
        "\tagg = concat(cols, axis=1)\n",
        "\tagg.columns = names\n",
        "\t# drop rows with NaN values\n",
        "\tif dropnan:\n",
        "\t\tagg.dropna(inplace=True)\n",
        "\treturn agg"
      ],
      "metadata": {
        "id": "MDZwWAiBeqab"
      },
      "execution_count": 74,
      "outputs": []
    },
    {
      "cell_type": "code",
      "source": [
        "reframed = series_to_supervised(scaled, 1, 1)\n",
        "# drop columns we don't want to predict\n",
        "reframed.drop(reframed.columns[[9,10,11,12,13,14,15]], axis=1, inplace=True)\n",
        "print(reframed.head())"
      ],
      "metadata": {
        "colab": {
          "base_uri": "https://localhost:8080/"
        },
        "id": "cDocsFfse3tV",
        "outputId": "9823746a-2672-4448-f85f-ee187e69f123"
      },
      "execution_count": 75,
      "outputs": [
        {
          "output_type": "stream",
          "name": "stdout",
          "text": [
            "   var1(t-1)  var2(t-1)  var3(t-1)  var4(t-1)  var5(t-1)  var6(t-1)  \\\n",
            "1   0.129779   0.352941   0.245902   0.527273   0.666667   0.002372   \n",
            "2   0.148893   0.367647   0.245902   0.527273   0.666667   0.003947   \n",
            "3   0.159960   0.426471   0.229508   0.545454   0.666667   0.005522   \n",
            "4   0.182093   0.485294   0.229508   0.563637   0.666667   0.008690   \n",
            "5   0.138833   0.485294   0.229508   0.563637   0.666667   0.010265   \n",
            "\n",
            "   var7(t-1)  var8(t-1)   var1(t)  \n",
            "1   0.000000        0.0  0.148893  \n",
            "2   0.000000        0.0  0.159960  \n",
            "3   0.000000        0.0  0.182093  \n",
            "4   0.037037        0.0  0.138833  \n",
            "5   0.074074        0.0  0.109658  \n"
          ]
        }
      ]
    },
    {
      "cell_type": "markdown",
      "metadata": {
        "id": "FVvffdzX0hbH"
      },
      "source": [
        "### Split the Dataset into training and testing data\n",
        "\n",
        "\n",
        " Split data into prev 4 years data for training and 1 year of data for testing"
      ]
    },
    {
      "cell_type": "code",
      "source": [
        "values = reframed.values\n",
        "n_train_hours = 365 * 24*2\n",
        "train = values[:n_train_hours, :]\n",
        "test = values[n_train_hours:, :]\n",
        "# split into input and outputs\n",
        "train_X, train_y = train[:, :8], train[:, 8]\n",
        "test_X, test_y = test[:, :8], test[:, 8]"
      ],
      "metadata": {
        "id": "A23prcM-fA7C"
      },
      "execution_count": 76,
      "outputs": []
    },
    {
      "cell_type": "code",
      "source": [
        "train_X = train_X.reshape((train_X.shape[0], 1, train_X.shape[1]))\n",
        "test_X = test_X.reshape((test_X.shape[0], 1, test_X.shape[1]))\n",
        "print(train_X.shape, train_y.shape, test_X.shape, test_y.shape)"
      ],
      "metadata": {
        "colab": {
          "base_uri": "https://localhost:8080/"
        },
        "id": "m1uZACDDfFtG",
        "outputId": "2b98270d-3efc-4e39-c628-54411fe99927"
      },
      "execution_count": 77,
      "outputs": [
        {
          "output_type": "stream",
          "name": "stdout",
          "text": [
            "(17520, 1, 8) (17520,) (22894, 1, 8) (22894,)\n"
          ]
        }
      ]
    },
    {
      "cell_type": "markdown",
      "metadata": {
        "id": "d48hZWzA0hbP"
      },
      "source": [
        "## Time Series Prediction Techniques"
      ]
    },
    {
      "cell_type": "markdown",
      "metadata": {
        "id": "VY-taaXX4GXR"
      },
      "source": [
        "### **Build and compile an RNN/LSTM model ( 3 points )**"
      ]
    },
    {
      "cell_type": "code",
      "source": [
        "model = Sequential()\n",
        "model.add(LSTM(100, return_sequences = True, input_shape=(train_X.shape[1], train_X.shape[2])))\n",
        "model.add(Dropout(0.3))\n",
        "\n",
        "model.add(LSTM(units = 50, return_sequences = True))\n",
        "model.add(Dropout(0.2))\n",
        "\n",
        "model.add(LSTM(units = 50, return_sequences = True))\n",
        "model.add(Dropout(0.2))\n",
        "\n",
        "model.add(LSTM(units = 50))\n",
        "model.add(Dropout(0.2))\n",
        "\n",
        "model.add(Dense(1,activation='linear'))\n",
        "\n",
        "model.compile(loss='mse', optimizer='adam')"
      ],
      "metadata": {
        "id": "0ii0X2zOfRVs"
      },
      "execution_count": 78,
      "outputs": []
    },
    {
      "cell_type": "code",
      "source": [
        "model.summary()"
      ],
      "metadata": {
        "colab": {
          "base_uri": "https://localhost:8080/"
        },
        "id": "wAMFB0nQfWaQ",
        "outputId": "9cf2e6af-3c0f-4e02-fa06-1728f9a92141"
      },
      "execution_count": 79,
      "outputs": [
        {
          "output_type": "stream",
          "name": "stdout",
          "text": [
            "Model: \"sequential_3\"\n",
            "_________________________________________________________________\n",
            " Layer (type)                Output Shape              Param #   \n",
            "=================================================================\n",
            " lstm (LSTM)                 (None, 1, 100)            43600     \n",
            "                                                                 \n",
            " dropout (Dropout)           (None, 1, 100)            0         \n",
            "                                                                 \n",
            " lstm_1 (LSTM)               (None, 1, 50)             30200     \n",
            "                                                                 \n",
            " dropout_1 (Dropout)         (None, 1, 50)             0         \n",
            "                                                                 \n",
            " lstm_2 (LSTM)               (None, 1, 50)             20200     \n",
            "                                                                 \n",
            " dropout_2 (Dropout)         (None, 1, 50)             0         \n",
            "                                                                 \n",
            " lstm_3 (LSTM)               (None, 50)                20200     \n",
            "                                                                 \n",
            " dropout_3 (Dropout)         (None, 50)                0         \n",
            "                                                                 \n",
            " dense_2 (Dense)             (None, 1)                 51        \n",
            "                                                                 \n",
            "=================================================================\n",
            "Total params: 114,251\n",
            "Trainable params: 114,251\n",
            "Non-trainable params: 0\n",
            "_________________________________________________________________\n"
          ]
        }
      ]
    },
    {
      "cell_type": "markdown",
      "metadata": {
        "id": "PrPe9Dbal3_x"
      },
      "source": [
        "### **Training the RNN on Pollution dataset ( 1 points )**\n",
        "\n",
        "\n",
        "This is a regression problem. Hence we focus on the loss reduction, instead of accuracy measures to evaluate the model.\n"
      ]
    },
    {
      "cell_type": "code",
      "source": [
        "history = model.fit(train_X, train_y, epochs=50, batch_size=72, validation_data=(test_X, test_y), verbose=2, shuffle=False)"
      ],
      "metadata": {
        "colab": {
          "base_uri": "https://localhost:8080/"
        },
        "id": "GcwyYO98fg8l",
        "outputId": "c9ef16b9-deb1-42a3-e09f-efaa13865aa3"
      },
      "execution_count": 80,
      "outputs": [
        {
          "output_type": "stream",
          "name": "stdout",
          "text": [
            "Epoch 1/50\n",
            "244/244 - 13s - loss: 0.0076 - val_loss: 0.0050 - 13s/epoch - 55ms/step\n",
            "Epoch 2/50\n",
            "244/244 - 3s - loss: 0.0017 - val_loss: 0.0023 - 3s/epoch - 13ms/step\n",
            "Epoch 3/50\n",
            "244/244 - 3s - loss: 0.0012 - val_loss: 0.0012 - 3s/epoch - 11ms/step\n",
            "Epoch 4/50\n",
            "244/244 - 3s - loss: 0.0011 - val_loss: 7.9940e-04 - 3s/epoch - 11ms/step\n",
            "Epoch 5/50\n",
            "244/244 - 3s - loss: 0.0010 - val_loss: 6.8962e-04 - 3s/epoch - 14ms/step\n",
            "Epoch 6/50\n",
            "244/244 - 3s - loss: 9.6296e-04 - val_loss: 6.4146e-04 - 3s/epoch - 11ms/step\n",
            "Epoch 7/50\n",
            "244/244 - 3s - loss: 9.8694e-04 - val_loss: 6.2622e-04 - 3s/epoch - 13ms/step\n",
            "Epoch 8/50\n",
            "244/244 - 3s - loss: 9.3953e-04 - val_loss: 6.5649e-04 - 3s/epoch - 11ms/step\n",
            "Epoch 9/50\n",
            "244/244 - 3s - loss: 9.2394e-04 - val_loss: 6.5600e-04 - 3s/epoch - 14ms/step\n",
            "Epoch 10/50\n",
            "244/244 - 3s - loss: 9.5223e-04 - val_loss: 6.3299e-04 - 3s/epoch - 11ms/step\n",
            "Epoch 11/50\n",
            "244/244 - 3s - loss: 8.9728e-04 - val_loss: 6.1879e-04 - 3s/epoch - 13ms/step\n",
            "Epoch 12/50\n",
            "244/244 - 3s - loss: 9.4806e-04 - val_loss: 6.6126e-04 - 3s/epoch - 11ms/step\n",
            "Epoch 13/50\n",
            "244/244 - 3s - loss: 9.2095e-04 - val_loss: 6.8629e-04 - 3s/epoch - 12ms/step\n",
            "Epoch 14/50\n",
            "244/244 - 4s - loss: 9.1932e-04 - val_loss: 6.7242e-04 - 4s/epoch - 15ms/step\n",
            "Epoch 15/50\n",
            "244/244 - 4s - loss: 9.0059e-04 - val_loss: 6.7848e-04 - 4s/epoch - 16ms/step\n",
            "Epoch 16/50\n",
            "244/244 - 3s - loss: 9.1457e-04 - val_loss: 6.4510e-04 - 3s/epoch - 11ms/step\n",
            "Epoch 17/50\n",
            "244/244 - 3s - loss: 9.0620e-04 - val_loss: 6.8881e-04 - 3s/epoch - 12ms/step\n",
            "Epoch 18/50\n",
            "244/244 - 3s - loss: 9.0409e-04 - val_loss: 6.6096e-04 - 3s/epoch - 12ms/step\n",
            "Epoch 19/50\n",
            "244/244 - 3s - loss: 9.1160e-04 - val_loss: 6.9770e-04 - 3s/epoch - 11ms/step\n",
            "Epoch 20/50\n",
            "244/244 - 3s - loss: 9.1146e-04 - val_loss: 6.7457e-04 - 3s/epoch - 13ms/step\n",
            "Epoch 21/50\n",
            "244/244 - 3s - loss: 9.0000e-04 - val_loss: 7.1173e-04 - 3s/epoch - 13ms/step\n",
            "Epoch 22/50\n",
            "244/244 - 3s - loss: 9.1400e-04 - val_loss: 7.1401e-04 - 3s/epoch - 13ms/step\n",
            "Epoch 23/50\n",
            "244/244 - 3s - loss: 9.1656e-04 - val_loss: 7.9241e-04 - 3s/epoch - 11ms/step\n",
            "Epoch 24/50\n",
            "244/244 - 3s - loss: 9.1040e-04 - val_loss: 7.1058e-04 - 3s/epoch - 13ms/step\n",
            "Epoch 25/50\n",
            "244/244 - 3s - loss: 9.0424e-04 - val_loss: 7.0218e-04 - 3s/epoch - 13ms/step\n",
            "Epoch 26/50\n",
            "244/244 - 3s - loss: 9.0483e-04 - val_loss: 7.0589e-04 - 3s/epoch - 14ms/step\n",
            "Epoch 27/50\n",
            "244/244 - 3s - loss: 8.7727e-04 - val_loss: 7.1085e-04 - 3s/epoch - 11ms/step\n",
            "Epoch 28/50\n",
            "244/244 - 3s - loss: 8.6921e-04 - val_loss: 6.7724e-04 - 3s/epoch - 13ms/step\n",
            "Epoch 29/50\n",
            "244/244 - 3s - loss: 9.2626e-04 - val_loss: 7.1727e-04 - 3s/epoch - 11ms/step\n",
            "Epoch 30/50\n",
            "244/244 - 3s - loss: 9.0347e-04 - val_loss: 7.5141e-04 - 3s/epoch - 14ms/step\n",
            "Epoch 31/50\n",
            "244/244 - 3s - loss: 8.9263e-04 - val_loss: 7.0726e-04 - 3s/epoch - 11ms/step\n",
            "Epoch 32/50\n",
            "244/244 - 3s - loss: 8.9137e-04 - val_loss: 7.1683e-04 - 3s/epoch - 11ms/step\n",
            "Epoch 33/50\n",
            "244/244 - 3s - loss: 9.0128e-04 - val_loss: 7.1830e-04 - 3s/epoch - 13ms/step\n",
            "Epoch 34/50\n",
            "244/244 - 3s - loss: 8.9239e-04 - val_loss: 7.1531e-04 - 3s/epoch - 13ms/step\n",
            "Epoch 35/50\n",
            "244/244 - 3s - loss: 8.9286e-04 - val_loss: 7.2579e-04 - 3s/epoch - 12ms/step\n",
            "Epoch 36/50\n",
            "244/244 - 3s - loss: 8.9245e-04 - val_loss: 7.2303e-04 - 3s/epoch - 11ms/step\n",
            "Epoch 37/50\n",
            "244/244 - 3s - loss: 8.9261e-04 - val_loss: 7.2615e-04 - 3s/epoch - 11ms/step\n",
            "Epoch 38/50\n",
            "244/244 - 3s - loss: 9.0510e-04 - val_loss: 7.4864e-04 - 3s/epoch - 11ms/step\n",
            "Epoch 39/50\n",
            "244/244 - 4s - loss: 9.0185e-04 - val_loss: 7.8092e-04 - 4s/epoch - 14ms/step\n",
            "Epoch 40/50\n",
            "244/244 - 3s - loss: 8.7553e-04 - val_loss: 7.0867e-04 - 3s/epoch - 11ms/step\n",
            "Epoch 41/50\n",
            "244/244 - 3s - loss: 9.1694e-04 - val_loss: 7.7869e-04 - 3s/epoch - 11ms/step\n",
            "Epoch 42/50\n",
            "244/244 - 3s - loss: 8.9810e-04 - val_loss: 7.3376e-04 - 3s/epoch - 11ms/step\n",
            "Epoch 43/50\n",
            "244/244 - 3s - loss: 9.0212e-04 - val_loss: 8.4212e-04 - 3s/epoch - 13ms/step\n",
            "Epoch 44/50\n",
            "244/244 - 3s - loss: 8.9823e-04 - val_loss: 8.1416e-04 - 3s/epoch - 12ms/step\n",
            "Epoch 45/50\n",
            "244/244 - 3s - loss: 8.9177e-04 - val_loss: 7.9010e-04 - 3s/epoch - 13ms/step\n",
            "Epoch 46/50\n",
            "244/244 - 3s - loss: 8.8969e-04 - val_loss: 7.3511e-04 - 3s/epoch - 11ms/step\n",
            "Epoch 47/50\n",
            "244/244 - 3s - loss: 9.1114e-04 - val_loss: 8.1834e-04 - 3s/epoch - 12ms/step\n",
            "Epoch 48/50\n",
            "244/244 - 4s - loss: 8.7873e-04 - val_loss: 7.8709e-04 - 4s/epoch - 15ms/step\n",
            "Epoch 49/50\n",
            "244/244 - 3s - loss: 8.7830e-04 - val_loss: 7.9776e-04 - 3s/epoch - 11ms/step\n",
            "Epoch 50/50\n",
            "244/244 - 3s - loss: 8.7343e-04 - val_loss: 7.6044e-04 - 3s/epoch - 11ms/step\n"
          ]
        }
      ]
    },
    {
      "cell_type": "code",
      "source": [
        "plt.plot(history.history['loss'], label='train')\n",
        "plt.plot(history.history['val_loss'], label='test')\n",
        "plt.legend()\n",
        "plt.show()"
      ],
      "metadata": {
        "colab": {
          "base_uri": "https://localhost:8080/",
          "height": 430
        },
        "id": "kboiyNHVgPAQ",
        "outputId": "edd31752-12c3-4391-98ba-f64f3267f397"
      },
      "execution_count": 81,
      "outputs": [
        {
          "output_type": "display_data",
          "data": {
            "text/plain": [
              "<Figure size 640x480 with 1 Axes>"
            ],
            "image/png": "[encoded data removed]"
          },
          "metadata": {}
        }
      ]
    },
    {
      "cell_type": "markdown",
      "metadata": {
        "id": "k54nz6EP9Q7P"
      },
      "source": [
        "### **Testing the model(1 points)**"
      ]
    },
    {
      "cell_type": "code",
      "source": [
        "yhat = model.predict(test_X)\n",
        "test_X = test_X.reshape((test_X.shape[0], test_X.shape[2]))\n",
        "\n",
        "# invert scaling for forecast\n",
        "inv_yhat = concatenate((yhat, test_X[:, 1:]), axis=1)\n",
        "inv_yhat = scaler.inverse_transform(inv_yhat)\n",
        "inv_yhat = inv_yhat[:,0]\n",
        "\n",
        "# invert scaling for actual\n",
        "test_y = test_y.reshape((len(test_y), 1))\n",
        "inv_y = concatenate((test_y, test_X[:, 1:]), axis=1)\n",
        "inv_y = scaler.inverse_transform(inv_y)\n",
        "inv_y = inv_y[:,0]"
      ],
      "metadata": {
        "colab": {
          "base_uri": "https://localhost:8080/"
        },
        "id": "rX4N1r1HgZLf",
        "outputId": "bf07cb06-b74f-4301-8da0-a89b52b3c1d1"
      },
      "execution_count": 82,
      "outputs": [
        {
          "output_type": "stream",
          "name": "stdout",
          "text": [
            "716/716 [==============================] - 3s 2ms/step\n"
          ]
        }
      ]
    },
    {
      "cell_type": "code",
      "source": [
        "# calculate RMSE and MAE\n",
        "rmse = sqrt(mean_squared_error(inv_y, inv_yhat))\n",
        "print('Test RMSE: %.3f' % rmse)\n",
        "mae = (mean_absolute_error(inv_y, inv_yhat))\n",
        "print('Test MAE: %.3f' % mae)"
      ],
      "metadata": {
        "colab": {
          "base_uri": "https://localhost:8080/"
        },
        "id": "G4Xwb9CFgeqi",
        "outputId": "b8c07f21-7463-40ed-ffa9-aafab2c7b18f"
      },
      "execution_count": 83,
      "outputs": [
        {
          "output_type": "stream",
          "name": "stdout",
          "text": [
            "Test RMSE: 27.411\n",
            "Test MAE: 18.030\n"
          ]
        }
      ]
    },
    {
      "cell_type": "code",
      "source": [
        "print('Actual :', inv_y)\n",
        "print('Predicted:', inv_yhat)\n",
        "# plot history\n",
        "plt.plot(inv_y, label='Actual')\n",
        "plt.plot(inv_yhat, label='Predicted')\n",
        "plt.legend()\n",
        "plt.show()"
      ],
      "metadata": {
        "colab": {
          "base_uri": "https://localhost:8080/",
          "height": 465
        },
        "id": "BOPdUb7NgjI6",
        "outputId": "9f8473e4-29d8-4695-856d-9f0f7163339d"
      },
      "execution_count": 85,
      "outputs": [
        {
          "output_type": "stream",
          "name": "stdout",
          "text": [
            "Actual : [50. 68. 83. ... 10.  8. 12.]\n",
            "Predicted: [44.00359  54.749924 70.031204 ... 22.888857 22.898958 21.863394]\n"
          ]
        },
        {
          "output_type": "display_data",
          "data": {
            "text/plain": [
              "<Figure size 640x480 with 1 Axes>"
            ],
            "image/png": "[encoded data removed]"
          },
          "metadata": {}
        }
      ]
    }
  ]
}