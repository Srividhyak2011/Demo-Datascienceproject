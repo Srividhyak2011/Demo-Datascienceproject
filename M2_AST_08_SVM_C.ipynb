{
  "nbformat": 4,
  "nbformat_minor": 0,
  "metadata": {
    "colab": {
      "provenance": [],
      "include_colab_link": true
    },
    "kernelspec": {
      "name": "python3",
      "display_name": "Python 3"
    },
    "language_info": {
      "name": "python"
    }
  },
  "cells": [
    {
      "cell_type": "markdown",
      "metadata": {
        "id": "view-in-github",
        "colab_type": "text"
      },
      "source": [
        "<a href=\"https://colab.research.google.com/github/Srividhyak2011/Demo-Datascienceproject/blob/main/M2_AST_08_SVM_C.ipynb\" target=\"_parent\"><img src=\"https://colab.research.google.com/assets/colab-badge.svg\" alt=\"Open In Colab\"/></a>"
      ]
    },
    {
      "cell_type": "markdown",
      "metadata": {
        "id": "powered-thong"
      },
      "source": [
        "# Applied Data Science and Machine Intelligence\n",
        "## A program by IITM and TalentSprint\n",
        "### Assignment 08: Hard and Soft Margin and Kernel Support Vector Machines"
      ]
    },
    {
      "cell_type": "markdown",
      "metadata": {
        "id": "innocent-wiring"
      },
      "source": [
        "## Learning Objectives"
      ]
    },
    {
      "cell_type": "markdown",
      "metadata": {
        "id": "actual-tiger"
      },
      "source": [
        "At the end of the experiment, you will be able to\n",
        "\n",
        "* understand the basics of soft margin vs hard margin SVM\n",
        "* code a soft margin SVM.\n",
        "* code a hard margin SVM.\n",
        "* solve a problem using kernel ridge regression."
      ]
    },
    {
      "cell_type": "markdown",
      "metadata": {
        "id": "7KIL-FBcvmDB"
      },
      "source": [
        "### Setup Steps:"
      ]
    },
    {
      "cell_type": "code",
      "metadata": {
        "id": "xWMVQWk58aXm"
      },
      "source": [
        "#@title Please enter your registration id to start: { run: \"auto\", display-mode: \"form\" }\n",
        "Id = \"\" #@param {type:\"string\"}"
      ],
      "execution_count": null,
      "outputs": []
    },
    {
      "cell_type": "code",
      "metadata": {
        "id": "cwqosl928dBA"
      },
      "source": [
        "#@title Please enter your password (normally your phone number) to continue: { run: \"auto\", display-mode: \"form\" }\n",
        "password = \"\" #@param {type:\"string\"}"
      ],
      "execution_count": null,
      "outputs": []
    },
    {
      "cell_type": "code",
      "execution_count": null,
      "metadata": {
        "cellView": "form",
        "id": "8ptIQOnnbwbz"
      },
      "outputs": [],
      "source": [
        "#@title Run this cell to complete the setup for this Notebook\n",
        "from IPython import get_ipython\n",
        "\n",
        "ipython = get_ipython()\n",
        "  \n",
        "notebook= \"M2_AST_08_SVM_C\" #name of the notebook\n",
        "\n",
        "def setup():\n",
        "#  ipython.magic(\"sx pip3 install torch\")  \n",
        "\n",
        "    from IPython.display import HTML, display\n",
        "    ipython.magic(\"sx wget https://cdn.talentsprint.com/aiml/Experiment_related_data/Iris.csv\")\n",
        "    display(HTML('<script src=\"https://dashboard.talentsprint.com/aiml/record_ip.html?traineeId={0}&recordId={1}\"></script>'.format(getId(),submission_id)))\n",
        "    print(\"Setup completed successfully\")\n",
        "    return\n",
        "\n",
        "def submit_notebook():\n",
        "    ipython.magic(\"notebook -e \"+ notebook + \".ipynb\")\n",
        "    \n",
        "    import requests, json, base64, datetime\n",
        "\n",
        "    url = \"https://dashboard.talentsprint.com/xp/app/save_notebook_attempts\"\n",
        "    if not submission_id:\n",
        "      data = {\"id\" : getId(), \"notebook\" : notebook, \"mobile\" : getPassword()}\n",
        "      r = requests.post(url, data = data)\n",
        "      r = json.loads(r.text)\n",
        "\n",
        "      if r[\"status\"] == \"Success\":\n",
        "          return r[\"record_id\"]\n",
        "      elif \"err\" in r:        \n",
        "        print(r[\"err\"])\n",
        "        return None        \n",
        "      else:\n",
        "        print (\"Something is wrong, the notebook will not be submitted for grading\")\n",
        "        return None\n",
        "    \n",
        "    elif getAnswer() and getComplexity() and getAdditional() and getConcepts() and getComments() and getMentorSupport():\n",
        "      f = open(notebook + \".ipynb\", \"rb\")\n",
        "      file_hash = base64.b64encode(f.read())\n",
        "\n",
        "      data = {\"complexity\" : Complexity, \"additional\" :Additional, \n",
        "              \"concepts\" : Concepts, \"record_id\" : submission_id, \n",
        "              \"answer\" : Answer, \"id\" : Id, \"file_hash\" : file_hash,\n",
        "              \"notebook\" : notebook,\n",
        "              \"feedback_experiments_input\" : Comments,\n",
        "              \"feedback_mentor_support\": Mentor_support}\n",
        "      r = requests.post(url, data = data)\n",
        "      r = json.loads(r.text)\n",
        "      if \"err\" in r:        \n",
        "        print(r[\"err\"])\n",
        "        return None   \n",
        "      else:\n",
        "        print(\"Your submission is successful.\")\n",
        "        print(\"Ref Id:\", submission_id)\n",
        "        print(\"Date of submission: \", r[\"date\"])\n",
        "        print(\"Time of submission: \", r[\"time\"])\n",
        "        print(\"View your submissions: https://adsmi-iitm.talentsprint.com/notebook_submissions\")\n",
        "        #print(\"For any queries/discrepancies, please connect with mentors through the chat icon in LMS dashboard.\")\n",
        "        return submission_id\n",
        "    else: submission_id\n",
        "    \n",
        "\n",
        "def getAdditional():\n",
        "  try:\n",
        "    if not Additional: \n",
        "      raise NameError\n",
        "    else:\n",
        "      return Additional  \n",
        "  except NameError:\n",
        "    print (\"Please answer Additional Question\")\n",
        "    return None\n",
        "\n",
        "def getComplexity():\n",
        "  try:\n",
        "    if not Complexity:\n",
        "      raise NameError\n",
        "    else:\n",
        "      return Complexity\n",
        "  except NameError:\n",
        "    print (\"Please answer Complexity Question\")\n",
        "    return None\n",
        "  \n",
        "def getConcepts():\n",
        "  try:\n",
        "    if not Concepts:\n",
        "      raise NameError\n",
        "    else:\n",
        "      return Concepts\n",
        "  except NameError:\n",
        "    print (\"Please answer Concepts Question\")\n",
        "    return None\n",
        "  \n",
        "  \n",
        "# def getWalkthrough():\n",
        "#   try:\n",
        "#     if not Walkthrough:\n",
        "#       raise NameError\n",
        "#     else:\n",
        "#       return Walkthrough\n",
        "#   except NameError:\n",
        "#     print (\"Please answer Walkthrough Question\")\n",
        "#     return None\n",
        "  \n",
        "def getComments():\n",
        "  try:\n",
        "    if not Comments:\n",
        "      raise NameError\n",
        "    else:\n",
        "      return Comments\n",
        "  except NameError:\n",
        "    print (\"Please answer Comments Question\")\n",
        "    return None\n",
        "  \n",
        "\n",
        "def getMentorSupport():\n",
        "  try:\n",
        "    if not Mentor_support:\n",
        "      raise NameError\n",
        "    else:\n",
        "      return Mentor_support\n",
        "  except NameError:\n",
        "    print (\"Please answer Mentor support Question\")\n",
        "    return None\n",
        "\n",
        "def getAnswer():\n",
        "  try:\n",
        "    if not Answer:\n",
        "      raise NameError \n",
        "    else: \n",
        "      return Answer\n",
        "  except NameError:\n",
        "    print (\"Please answer Question\")\n",
        "    return None\n",
        "  \n",
        "\n",
        "def getId():\n",
        "  try: \n",
        "    return Id if Id else None\n",
        "  except NameError:\n",
        "    return None\n",
        "\n",
        "def getPassword():\n",
        "  try:\n",
        "    return password if password else None\n",
        "  except NameError:\n",
        "    return None\n",
        "\n",
        "submission_id = None\n",
        "### Setup \n",
        "if getPassword() and getId():\n",
        "  submission_id = submit_notebook()\n",
        "  if submission_id:\n",
        "    setup() \n",
        "else:\n",
        "  print (\"Please complete Id and Password cells before running setup\")\n",
        "\n"
      ]
    },
    {
      "cell_type": "markdown",
      "metadata": {
        "id": "i420LsRW8vWI"
      },
      "source": [
        "# Introduction to SVMs"
      ]
    },
    {
      "cell_type": "markdown",
      "metadata": {
        "id": "vVx8dO706ps4"
      },
      "source": [
        "**Support vector machines** are a set of supervised learning methods used for classification, regression, and outliers detection. \n",
        "\n",
        "A simple linear SVM classifier works by making a straight line between two classes. That means all of the data points on one side of the line will represent a category and the data points on the other side of the line will be put into a different category. This means there can be an infinite number of lines to choose from.\n",
        "\n",
        "**Hyperplanes** are decision boundaries that help classify the data points. Data points falling on either side of the hyperplane can be attributed to different classes.\n",
        " * The hyperplane with maximum margin is called the optimal hyperplane.\n",
        "\n",
        "**Support vectors** are data points that are closer to the hyperplane and influence the position and orientation of the hyperplane. \n",
        "\n",
        "**Margin** is the width that the boundary could be increased by before hitting a data point.\n",
        "\n",
        "![wget](https://cdn.talentsprint.com/aiml/aiml_2020_b14_hyd/experiment_details_backup/linear_data.png)\n",
        "\n",
        "\n",
        "\n",
        "\n"
      ]
    },
    {
      "cell_type": "markdown",
      "metadata": {
        "id": "3XpM1ZaBA65I"
      },
      "source": [
        "### Hard Margin vs Soft Margin SVM\n",
        "![image.png](data:image/png;base64,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)\n",
        "\n"
      ]
    },
    {
      "cell_type": "markdown",
      "metadata": {
        "id": "iX7H1I_cBuJf"
      },
      "source": [
        "In both the soft margin and hard margin case we maximize the margin between support vectors. In soft margin case, we let our model give some relaxation to few points, if we consider these points our margin might reduce significantly and our decision boundary will be poorer, so instead of considering them as support vectors we consider them as error points and give certain penalty for them which is proportional to the amount by which each data point is violating the hard constraint."
      ]
    },
    {
      "cell_type": "markdown",
      "metadata": {
        "id": "qib5tlPjDEdf"
      },
      "source": [
        "### Import libraries required for this assignment"
      ]
    },
    {
      "cell_type": "code",
      "metadata": {
        "id": "rnRg9SxPHOYt"
      },
      "source": [
        "#Importing libraries\n",
        "import numpy as np\n",
        "import random\n",
        "import matplotlib.pyplot as plt\n",
        "\n",
        "from cvxopt import matrix, solvers\n",
        "# from qpsolvers import solve_qp\n",
        "import copy\n",
        "\n",
        "# Kernel SVM and Kernel Ridge Regression\n",
        "from sklearn.datasets import make_circles\n",
        "from sklearn.svm import SVC\n",
        "from sklearn.kernel_ridge import KernelRidge"
      ],
      "execution_count": null,
      "outputs": []
    },
    {
      "cell_type": "markdown",
      "metadata": {
        "id": "u3f9Zh8RD0tw"
      },
      "source": [
        "We generate synthetic data to show the difference between soft and hard margin SVM. Our data will be kept linearly separable for showing the best effect."
      ]
    },
    {
      "cell_type": "code",
      "metadata": {
        "id": "jIIpPzuSH9YA"
      },
      "source": [
        "def gen_data(num_points=500):\n",
        "  \n",
        "  # Function to generate a linearly separable dataset.\n",
        "  # Generating the label = +1 data\n",
        "  # Our data will be 2-dimensional having a x and y coordinates\n",
        "  x_l = np.random.uniform(-10, 10, num_points)\n",
        "  y_l = 10*x_l + 3 + np.random.uniform(20, 30, num_points)\n",
        "  xl = list(x_l)\n",
        "  yl = list(y_l)\n",
        "\n",
        "  data = []\n",
        "  for i in range(num_points):\n",
        "    data.append([[1, xl[i], yl[i]], 1])\n",
        "\n",
        "  # Generating label = -1 dataset\n",
        "  x_r = np.random.uniform(-10, 10, num_points)\n",
        "  y_r = 10*x_r + 3 - np.random.uniform(20, 30, num_points)\n",
        "  xr = list(x_r)\n",
        "  yr = list(y_r)\n",
        "\n",
        "  for i in range(200):\n",
        "    data.append([[1, xr[i], yr[i]], -1])\n",
        "  \n",
        "  random.shuffle(data)\n",
        "  return data"
      ],
      "execution_count": null,
      "outputs": []
    },
    {
      "cell_type": "markdown",
      "metadata": {
        "id": "qee_PqMEES5I"
      },
      "source": [
        "Once the data is generated, we plot the data to show that it is linearly separable."
      ]
    },
    {
      "cell_type": "code",
      "metadata": {
        "id": "EM3u1XcuCAi-"
      },
      "source": [
        "# Generating linearly separable data\n",
        "data = gen_data()\n",
        "\n",
        "# using 75% of the data for training\n",
        "cut_point = int(len(data) * 0.75)\n",
        "train_data = data[:cut_point]\n",
        "\n",
        "# using remaining 25% of the data for testing\n",
        "test_data = data[cut_point:]\n",
        "\n",
        "\n",
        "# Plotting in green and red.\n",
        "# Label 1 will be plotted in green and -1 in red.\n",
        "x_green = []\n",
        "y_green = []\n",
        "\n",
        "x_red = []\n",
        "y_red = []\n",
        "\n",
        "# Plotting function\n",
        "for i in range(len(train_data)):\n",
        "\n",
        "    if(train_data[i][1]==1):\n",
        "        x_green.append(train_data[i][0][1])\n",
        "        y_green.append(train_data[i][0][2])\n",
        "\n",
        "    elif (train_data[i][1]==-1):\n",
        "        x_red.append(train_data[i][0][1])\n",
        "        y_red.append(train_data[i][0][2])\n",
        "\n",
        "# Plotting the data.    \n",
        "plt.scatter(x_green, y_green, color='green', s=2,label=\"output : 1\")\n",
        "plt.scatter(x_red, y_red, color='red', s=2,label=\"output : -1\")\n",
        "plt.xlabel('x')\n",
        "plt.ylabel('y')\n",
        "plt.legend()\n",
        "plt.show()"
      ],
      "execution_count": null,
      "outputs": []
    },
    {
      "cell_type": "markdown",
      "metadata": {
        "id": "oS7zhgv67Bv8"
      },
      "source": [
        "Linearly separable data generated can be visualized from the above plot."
      ]
    },
    {
      "cell_type": "markdown",
      "metadata": {
        "id": "fDnWNTko5HOk"
      },
      "source": [
        "### Implementing hard-margin SVM algorithm on the linearly separable data generated above\n",
        "\n",
        "Please go through the reference for quadatic equation and how to solve it.\n",
        " [link for quadatic equation and their solution](https://xavierbourretsicotte.github.io/SVM_implementation.html)"
      ]
    },
    {
      "cell_type": "code",
      "metadata": {
        "id": "i9NB7cfJGToo"
      },
      "source": [
        "# Solve the dual formulation for SVMs\n",
        "def svm(train_data):\n",
        "  # Length of the training data\n",
        "  N = len(train_data)\n",
        "  \n",
        "  # Multiplying step\n",
        "  # Xi * Xj  * Yi * Yj\n",
        "  P = []\n",
        "  for i in range(N):\n",
        "    for j in range(N):\n",
        "      P.append(train_data[j][1]*train_data[i][1]*(np.dot(train_data[j][0][1:],\n",
        "                                                         train_data[i][0][1:])))\n",
        "  \n",
        "  # Forming a matrix of N x N size.\n",
        "  # N is the length of data\n",
        "  P = matrix(P,(N,N))\n",
        "\n",
        "  # Q required for QP solver\n",
        "  q = np.ones((N,))*-1\n",
        "  q = matrix(q)\n",
        "\n",
        "  A = np.zeros((N,))\n",
        "\n",
        "  for i in range(N):\n",
        "    A[i]=(train_data[i][1])\n",
        "  \n",
        "  A = matrix(A,(1,N))\n",
        "\n",
        "\n",
        "  b = [0.0]\n",
        "  b = matrix(b)\n",
        "\n",
        "  G = np.identity(N)*-1\n",
        "  G = matrix(G)\n",
        "\n",
        "\n",
        "  h = np.zeros((N,))\n",
        "  h = matrix(h)\n",
        "\n",
        "  # Optimizing and finding the alpha i's.\n",
        "  alpha = solvers.qp(P, q, G, h, A, b)\n",
        "\n",
        "  a = []\n",
        "  for i in range(N):\n",
        "    a.append(alpha['x'][i])\n",
        "\n",
        "  weights = [0,0]\n",
        "\n",
        "  # Calculating the weights of the trained SVM\n",
        "  for i in range(N):\n",
        "    weights[0] += alpha['x'][i]*train_data[i][1]*train_data[i][0][1]\n",
        "    weights[1] += alpha['x'][i]*train_data[i][1]*train_data[i][0][2]\n",
        "\n",
        "  # Calculating the bias of the trained model\n",
        "  bias = (1/train_data[a.index(max(a))][1]) - (weights[0]*train_data[a.index(max(a))][0][1] + weights[1]*train_data[a.index(max(a))][0][2])\n",
        "  \n",
        "  return weights, bias\n",
        "\n",
        "\n",
        "weights_svm, bias = svm(train_data)"
      ],
      "execution_count": null,
      "outputs": []
    },
    {
      "cell_type": "markdown",
      "metadata": {
        "id": "fjX_pHXaO0Ar"
      },
      "source": [
        "### Visualizing the decision boundary generated by hard-margin SVM"
      ]
    },
    {
      "cell_type": "code",
      "metadata": {
        "id": "IKxm8W2hF9Q9"
      },
      "source": [
        "# plotting the decision boundary with training data points first.\n",
        "# The support vectors are the points which are the closest to the boundary.\n",
        "\n",
        "plt.scatter(x_green, y_green, color='green', s=2,label=\"output : 1\")\n",
        "plt.scatter(x_red, y_red, color='red', s=2,label=\"output : -1\")\n",
        "\n",
        "x_boundary_svm = np.linspace(-10,10,2)\n",
        "y_boundary_svm = (-weights_svm[0]/weights_svm[1])*x_boundary_svm +(-bias/weights_svm[1])\n",
        "\n",
        "plt.plot(x_boundary_svm, y_boundary_svm, color='blue', linewidth = 2, \n",
        "         marker='o', markerfacecolor='blue', markersize=0,\n",
        "         label=\"SVM decision boundary\")\n",
        "\n",
        "plt.xlabel('x')\n",
        "plt.ylabel('y')\n",
        "plt.legend()\n",
        "plt.show()"
      ],
      "execution_count": null,
      "outputs": []
    },
    {
      "cell_type": "markdown",
      "metadata": {
        "id": "oioPRnfYI0N6"
      },
      "source": [
        "The above plot shows the decision boundary generated by hard-margin SVM and the training data points."
      ]
    },
    {
      "cell_type": "code",
      "metadata": {
        "id": "gy0aQ_iheJVD"
      },
      "source": [
        "# Plotting the decision boundary with testing data points\n",
        "\n",
        "x_green_test = []\n",
        "y_green_test = []\n",
        "x_red_test = []\n",
        "y_red_test = []\n",
        "for i in range(len(test_data)):\n",
        "    if(test_data[i][1]==1):\n",
        "        x_green_test.append(test_data[i][0][1])\n",
        "        y_green_test.append(test_data[i][0][2])\n",
        "    elif (test_data[i][1]==-1):\n",
        "        x_red_test.append(test_data[i][0][1])\n",
        "        y_red_test.append(test_data[i][0][2])\n",
        "\n",
        "plt.scatter(x_green_test, y_green_test, color='green', s=2,label=\"output : 1\")\n",
        "plt.scatter(x_red_test, y_red_test, color='red', s=2,label=\"output : -1\")\n",
        "x_boundary_svm = np.linspace(-10,10,2)\n",
        "y_boundary_svm = (-weights_svm[0]/weights_svm[1])*x_boundary_svm +(-bias/weights_svm[1])\n",
        "\n",
        "plt.plot(x_boundary_svm, y_boundary_svm, color='blue', linewidth = 2, \n",
        "         marker='o', markerfacecolor='blue', markersize=0,\n",
        "         label=\"SVM decision boundary\")\n",
        "\n",
        "plt.xlabel('x')\n",
        "plt.ylabel('y')\n",
        "plt.legend()\n",
        "plt.show()"
      ],
      "execution_count": null,
      "outputs": []
    },
    {
      "cell_type": "markdown",
      "metadata": {
        "id": "q0x07eJJJAuW"
      },
      "source": [
        "The above plot shows the decision boundary generated by hard-margin SVM and the testing data points. \n",
        "\n",
        "As we can see the linearly separable data is nicely separated using a line. But what happens if there is some noise in the training data. How will we have some margin such that algorithm can be robust and not overfit on train data. Most importantly, how do we make this algorithm work on non-linearly separable data."
      ]
    },
    {
      "cell_type": "markdown",
      "metadata": {
        "id": "YdttKDb7K7-Y"
      },
      "source": [
        "### Implementing Soft Margin SVM on noisy data."
      ]
    },
    {
      "cell_type": "markdown",
      "metadata": {
        "id": "f0xtm9K4Rd_-"
      },
      "source": [
        "Creating noisy data first to make sure they are not fully linearly separable. The noisy items will cause the data to be slightly non-linear."
      ]
    },
    {
      "cell_type": "code",
      "metadata": {
        "id": "PHEj_1gdLu2_"
      },
      "source": [
        "# Function to add gaussian noise with mean=0 and standard deviation=sd in the data.\n",
        "def add_noise(data, sd):\n",
        "  ans = copy.deepcopy(data)\n",
        "  noise_x = np.random.normal(0, sd, (len(data),))\n",
        "  noise_y = np.random.normal(0, sd*10, (len(data),))\n",
        "  \n",
        "  for i in range(len(data)):\n",
        "    ans[i][0][1] += noise_x[i]\n",
        "    ans[i][0][2] += noise_y[i]\n",
        "    \n",
        "  return list(ans)\n"
      ],
      "execution_count": null,
      "outputs": []
    },
    {
      "cell_type": "code",
      "metadata": {
        "id": "6bYhGoJpnFvK"
      },
      "source": [
        "# Using the previously generated data to make it noisy.\n",
        "noisy_data = add_noise(data, 1)\n",
        "\n",
        "# using 75% of the data for training\n",
        "cut_point = int(len(noisy_data) * 0.75)\n",
        "train_data = noisy_data[:cut_point]\n",
        "\n",
        "# using remaining 25% of the data for testing\n",
        "test_data = noisy_data[cut_point:]\n",
        "\n",
        "\n",
        "# Plotting in green and red.\n",
        "# Label 1 will be plotted in green and -1 in red.\n",
        "x_green = []\n",
        "y_green = []\n",
        "\n",
        "x_red = []\n",
        "y_red = []\n",
        "\n",
        "# Plotting function\n",
        "for i in range(len(train_data)):\n",
        "\n",
        "    if(train_data[i][1]==1):\n",
        "        x_green.append(train_data[i][0][1])\n",
        "        y_green.append(train_data[i][0][2])\n",
        "\n",
        "    elif (train_data[i][1]==-1):\n",
        "        x_red.append(train_data[i][0][1])\n",
        "        y_red.append(train_data[i][0][2])\n",
        "\n",
        "# Plotting the data.    \n",
        "plt.scatter(x_green, y_green, color='green', s=2,label=\"output : 1\")\n",
        "plt.scatter(x_red, y_red, color='red', s=2,label=\"output : -1\")\n",
        "plt.xlabel('x')\n",
        "plt.ylabel('y')\n",
        "plt.legend()\n",
        "plt.show()"
      ],
      "execution_count": null,
      "outputs": []
    },
    {
      "cell_type": "markdown",
      "metadata": {
        "id": "PLLvB-oMn1m9"
      },
      "source": [
        "As you can see, the data is no longer linearly separable! Therefore, we need some chnages in the SVM formulation. Let us first train a hard margin SVM on this data."
      ]
    },
    {
      "cell_type": "code",
      "metadata": {
        "id": "PSKASHWRz5hr"
      },
      "source": [
        "# Solve the dual formulation for SVMs\n",
        "\n",
        "def svm(train_data):\n",
        "  # Length of the training data\n",
        "  N = len(train_data)\n",
        "  \n",
        "  # Multiplying step\n",
        "  # Xi * Xj  * Yi * Yj\n",
        "  P = []\n",
        "  for i in range(N):\n",
        "    for j in range(N):\n",
        "      P.append(train_data[j][1]*train_data[i][1]*(np.dot(train_data[j][0][1:],\n",
        "                                                         train_data[i][0][1:])))\n",
        "  \n",
        "  # Forming a matrix of N x N size.\n",
        "  # N is the length of data\n",
        "  P = matrix(P,(N,N))\n",
        "\n",
        "  # Q required for QP solver\n",
        "  q = np.ones((N,))*-1\n",
        "  q = matrix(q)\n",
        "\n",
        "  A = np.zeros((N,))\n",
        "\n",
        "  for i in range(N):\n",
        "    A[i]=(train_data[i][1])\n",
        "  \n",
        "  A = matrix(A,(1,N))\n",
        "\n",
        "\n",
        "  b = [0.0]\n",
        "  b = matrix(b)\n",
        "\n",
        "  G = np.identity(N)*-1\n",
        "  G = matrix(G)\n",
        "\n",
        "\n",
        "  h = np.zeros((N,))\n",
        "  h = matrix(h)\n",
        "\n",
        "  # Optimizing and finding the alpha i's.\n",
        "  alpha = solvers.qp(P, q, G, h, A, b)\n",
        "\n",
        "  a = []\n",
        "  for i in range(N):\n",
        "    a.append(alpha['x'][i])\n",
        "\n",
        "  weights = [0,0]\n",
        "\n",
        "  # Calculating the weights of the trained SVM\n",
        "  for i in range(N):\n",
        "    weights[0] += alpha['x'][i]*train_data[i][1]*train_data[i][0][1]\n",
        "    weights[1] += alpha['x'][i]*train_data[i][1]*train_data[i][0][2]\n",
        "\n",
        "  # Calculating the bias of the trained model\n",
        "  bias = (1/train_data[a.index(max(a))][1]) - (weights[0]*train_data[a.index(max(a))][0][1] + weights[1]*train_data[a.index(max(a))][0][2])\n",
        "  \n",
        "  return weights, bias\n",
        "\n",
        "\n",
        "weights_svm, bias = svm(train_data)"
      ],
      "execution_count": null,
      "outputs": []
    },
    {
      "cell_type": "code",
      "metadata": {
        "id": "RJMaYu310Pzi"
      },
      "source": [
        "# plotting the decision boundary with training data points first.\n",
        "# The support vectors are the points which are the closest to the boundary.\n",
        "\n",
        "plt.scatter(x_green, y_green, color='green', s=2,label=\"output : 1\")\n",
        "plt.scatter(x_red, y_red, color='red', s=2,label=\"output : -1\")\n",
        "\n",
        "x_boundary_svm = np.linspace(-10,10,2)\n",
        "y_boundary_svm = (-weights_svm[0]/weights_svm[1])*x_boundary_svm +(-bias/weights_svm[1])\n",
        "\n",
        "plt.plot(x_boundary_svm, y_boundary_svm, color='blue', linewidth = 2, \n",
        "         marker='o', markerfacecolor='blue', markersize=0,\n",
        "         label=\"SVM decision boundary\")\n",
        "\n",
        "plt.xlabel('x')\n",
        "plt.ylabel('y')\n",
        "plt.legend()\n",
        "plt.show()"
      ],
      "execution_count": null,
      "outputs": []
    },
    {
      "cell_type": "markdown",
      "metadata": {
        "id": "hOhNEP_y0Iyq"
      },
      "source": [
        "As we can see, the decision boundary is completely destroyed in this case! This is because the data is not linearly separable!! Thus the SVM can't find a decision boundary that can separate the data. Hence we reformulate the problem and add a paramter ``c``. \n",
        "This parameter allows for some additional tolerence into the formulation. Instead of finding the decision boundary that separates the classes maximally, we allow samples at  distance ``c`` from the maximal boundary to be misclassified. Overall, this increases the robustness of the algorithm as noise can be then accomodated into the picture. Below, we code a SVM with a soft margin!"
      ]
    },
    {
      "cell_type": "code",
      "metadata": {
        "id": "jyJmVkIYyt0D"
      },
      "source": [
        "def svm_soft(train_data, c):\n",
        "  \n",
        "  N = len(train_data)\n",
        "  P = []\n",
        "\n",
        "  for i in range(N):\n",
        "    for j in range(N):\n",
        "      P.append(train_data[j][1]*train_data[i][1]*(np.dot(train_data[j][0][1:],\n",
        "                                                         train_data[i][0][1:])))\n",
        "    \n",
        "  P = matrix(P,(N,N))\n",
        "\n",
        "  q = np.ones((N,))*-1\n",
        "  q = matrix(q)\n",
        "\n",
        "  A = np.zeros((N,))\n",
        "\n",
        "  for i in range(N):\n",
        "    A[i]=(train_data[i][1])\n",
        "  \n",
        "  A = matrix(A,(1,N))\n",
        "\n",
        "\n",
        "  b = [0.0]\n",
        "  b = matrix(b)\n",
        "\n",
        "\n",
        "  \n",
        "  G = matrix(np.vstack((np.eye(N)*-1,np.eye(N))))\n",
        "  h = matrix(np.hstack((np.zeros(N), np.ones(N) * c)))\n",
        "\n",
        "  alpha = solvers.qp(P, q, G, h, A, b)\n",
        "\n",
        "  a = []\n",
        "  for i in range(N):\n",
        "    a.append(alpha['x'][i])\n",
        "\n",
        "  weights = [0,0]\n",
        "\n",
        "  for i in range(N):\n",
        "    weights[0] += alpha['x'][i]*train_data[i][1]*train_data[i][0][1]\n",
        "    weights[1] += alpha['x'][i]*train_data[i][1]*train_data[i][0][2]\n",
        "\n",
        "  bias = (1/train_data[a.index(max(a))][1]) - (weights[0]*train_data[a.index(max(a))][0][1] + weights[1]*train_data[a.index(max(a))][0][2])\n",
        "  \n",
        "  return weights, bias"
      ],
      "execution_count": null,
      "outputs": []
    },
    {
      "cell_type": "markdown",
      "metadata": {
        "id": "EE7JhRJYzlPF"
      },
      "source": [
        "Now let us train the soft margin SVM with different values of ``c`` to understand how it changes. In this notebook, we have used only one value of c = 5, please continue to change this and check its effect."
      ]
    },
    {
      "cell_type": "code",
      "metadata": {
        "id": "neWIfGhG2tD8"
      },
      "source": [
        "# plotting the decision boundary with training data points first.\n",
        "# The support vectors are the points which are the closest to the boundary.\n",
        "weights_ssvm, bias_s = svm_soft(train_data, 5)\n",
        "\n",
        "plt.scatter(x_green, y_green, color='green', s=2,label=\"output : 1\")\n",
        "plt.scatter(x_red, y_red, color='red', s=2,label=\"output : -1\")\n",
        "\n",
        "x_boundary_svm = np.linspace(-10,10,2)\n",
        "y_boundary_svm = (-weights_ssvm[0]/weights_ssvm[1])*x_boundary_svm +(-bias_s/weights_ssvm[1])\n",
        "\n",
        "plt.plot(x_boundary_svm, y_boundary_svm, color='blue', linewidth = 2, \n",
        "         marker='o', markerfacecolor='blue', markersize=0,\n",
        "         label=\"SVM decision boundary\")\n",
        "\n",
        "plt.xlabel('x')\n",
        "plt.ylabel('y')\n",
        "plt.legend()\n",
        "plt.show()"
      ],
      "execution_count": null,
      "outputs": []
    },
    {
      "cell_type": "markdown",
      "metadata": {
        "id": "MdbJv5LmLkV6"
      },
      "source": [
        "### Ungraded Excercise\n",
        "Please change the value of ``c`` to understand its effect. You may also change the noise level that is added to the training data. And check how that affects the performance of hard margin and soft margin SVM. \n",
        "\n",
        "\n",
        "### Kernel SVMs\n",
        "\n",
        "Now let us move on to kernel SVMs which uses a kernel trick to introduce non linearity in the whole setting. The idea here is that, the data must be linearly separable at a higher dimensions. Kernel SVMs can potentially be extremely useful for non linear data, similar and more powerful than the one we handled using soft-margin SVM. While soft margin SVM simply adds some tolerence in the decision boundary to treat some samples as noise and thus allows misclassification, kernel SVMs can create decision boundaries which can be any curve (not restricted to lines!!) \n",
        "\n",
        "We check out on a circular dataset. A circular data is specifically designed to test non linear classification. As plotted below, a circular data can NEVER be classfied using a straight line. we will need a non linear classification method such as a kernel SVM for this."
      ]
    },
    {
      "cell_type": "code",
      "metadata": {
        "id": "a4C7DHS-O23m"
      },
      "source": [
        "# Create circles data\n",
        "X, y = make_circles()\n",
        "\n",
        "# Plot the circular data\n",
        "plt.scatter(X[:, 0], X[:, 1], c=y)\n",
        "\n",
        "\n"
      ],
      "execution_count": null,
      "outputs": []
    },
    {
      "cell_type": "code",
      "metadata": {
        "id": "giCOb6OnPydQ"
      },
      "source": [
        "# Define a train a kernel SVM!\n",
        "model = SVC(kernel=\"rbf\").fit(X, y)\n",
        "\n",
        "# Plot the hyperplane\n",
        "plt.figure(figsize=(12, 8))\n",
        "\n",
        "ax = plt.gca()\n",
        "\n",
        "# create grid to evaluate model\n",
        "xx = np.linspace(np.min(X[:, 0]) - 0.5, np.max(X[:, 0]) + 0.5, 100)\n",
        "yy = np.linspace(np.min(X[:, 1]) - 0.5, np.max(X[:, 1]) + 0.5, 100)\n",
        "\n",
        "YY, XX = np.meshgrid(yy, xx)\n",
        "\n",
        "xy = np.vstack([XX.ravel(), YY.ravel()]).T\n",
        "\n",
        "# Decide the value for each grid\n",
        "Z = model.decision_function(xy).reshape(XX.shape)\n",
        "\n",
        "# Plot the data\n",
        "plt.scatter(X[:, 0], X[:, 1], c=y)\n",
        "\n",
        "# plot decision boundary (take only z = 0)\n",
        "ax.contour(XX, YY, Z, colors='k', levels=[0], alpha=0.5,\n",
        "           linestyles=['-'])"
      ],
      "execution_count": null,
      "outputs": []
    },
    {
      "cell_type": "markdown",
      "metadata": {
        "id": "MylF5kMWQflc"
      },
      "source": [
        "### Kernel SVM with Soft Margin\n",
        "\n",
        "As shown in the linear SVM, even Kernel SVMs can have a soft margin. This can be used for the same purpose as done in the linear case: to add some regularization and tolerence. We show an example below."
      ]
    },
    {
      "cell_type": "code",
      "metadata": {
        "id": "OS7N3_3jQ15S"
      },
      "source": [
        "# Adding some noise to the data\n",
        "# Change the noise levels to understand the difference\n",
        "X, y = make_circles(noise=0.1)\n",
        "\n",
        "# Plot the circular data\n",
        "plt.scatter(X[:, 0], X[:, 1], c=y)\n",
        "\n",
        "# Define a train a kernel SVM!\n",
        "# Adding C=5\n",
        "# Change C to understand the difference\n",
        "model = SVC(kernel=\"rbf\", C=5).fit(X, y)\n",
        "\n",
        "# Plot the hyperplane\n",
        "plt.figure(figsize=(12, 8))\n",
        "\n",
        "ax = plt.gca()\n",
        "\n",
        "# create grid to evaluate model\n",
        "xx = np.linspace(np.min(X[:, 0]) - 0.5, np.max(X[:, 0]) + 0.5, 100)\n",
        "yy = np.linspace(np.min(X[:, 1]) - 0.5, np.max(X[:, 1]) + 0.5, 100)\n",
        "\n",
        "YY, XX = np.meshgrid(yy, xx)\n",
        "\n",
        "xy = np.vstack([XX.ravel(), YY.ravel()]).T\n",
        "\n",
        "# Decide the value for each grid\n",
        "Z = model.decision_function(xy).reshape(XX.shape)\n",
        "\n",
        "# Plot the data\n",
        "plt.scatter(X[:, 0], X[:, 1], c=y)\n",
        "\n",
        "# plot decision boundary (take only z = 0)\n",
        "ax.contour(XX, YY, Z, colors='k', levels=[0], alpha=0.5,\n",
        "           linestyles=['-'])"
      ],
      "execution_count": null,
      "outputs": []
    },
    {
      "cell_type": "markdown",
      "metadata": {
        "id": "XJnrAb1ANtKQ"
      },
      "source": [
        "### Kernel Ridge Regression\n"
      ]
    },
    {
      "cell_type": "markdown",
      "metadata": {
        "id": "O17j-MIERjXX"
      },
      "source": [
        "Linear regression can be thought as the line fitting problem where a straight line fits to a set of points. However what if the points are arranged in a non linear curve, like a circle!? Kernel ridge regression was designed to work in this exact situation. It is used to fit non linear curves to a set of points. The idea is again the same: at some higher dimension the data can be fitted with a linear curve and the kernel trick allows us to project the data into a higher dimension."
      ]
    },
    {
      "cell_type": "markdown",
      "metadata": {
        "id": "SvA2ZvXjUiXV"
      },
      "source": [
        "We first create a circular data for training the kernel ridge regression algorithm"
      ]
    },
    {
      "cell_type": "code",
      "metadata": {
        "id": "BiCApJU7SVeE"
      },
      "source": [
        "# Create circles data\n",
        "X, y = make_circles(noise=100)\n",
        "\n",
        "# Create data for only one class\n",
        "new_X = []\n",
        "\n",
        "for i in range(len(y)):\n",
        "  if y[i] == 0:\n",
        "    new_X.append(list(X[i]))\n",
        "\n",
        "new_X = np.array(new_X)\n",
        "\n",
        "# Plot the circular data\n",
        "plt.scatter(new_X[:, 0], new_X[:, 1])"
      ],
      "execution_count": null,
      "outputs": []
    },
    {
      "cell_type": "markdown",
      "metadata": {
        "id": "uBFa4yU6Ugc6"
      },
      "source": [
        "Now let us code the KRR algorithm"
      ]
    },
    {
      "cell_type": "code",
      "metadata": {
        "id": "oyyWb4gEUURG"
      },
      "source": [
        "krr = KernelRidge(alpha=1.0, kernel='rbf', degree=2)\n",
        "krr.fit(new_X[:, 0].reshape(-1, 1), new_X[:, 1].reshape(-1, 1))\n",
        "\n",
        "pred_x = krr.predict(new_X[:, 0].reshape(-1, 1))\n",
        "pred_x = pred_x.reshape(-1)\n",
        "\n",
        "# Plotting the points predicted\n",
        "# Plotting the original points too\n",
        "\n",
        "plt.scatter(new_X[:, 0], new_X[:, 1], color='green', label=\"Ground-truth samples\")\n",
        "plt.scatter(new_X[:, 0], pred_x, color='red', label=\"Predicted samples\")\n",
        "\n",
        "plt.legend()\n"
      ],
      "execution_count": null,
      "outputs": []
    },
    {
      "cell_type": "markdown",
      "metadata": {
        "id": "TAzgyiaefneo"
      },
      "source": [
        "## Ungraded Excercise\n",
        "\n",
        "1. Use Hard Margin Kernel SVM on noisy data and check the results. You can use code snippets given in this notebook.\n",
        "2. Use Hard Margin Kernel SVM, Soft Margin Kernel SVM, Hard Margin Linear SVM and Soft Margin Linear SVM to classify the MNIST dataset. The dataset loading is given in Assignment 3 in Module 2 of this course.\n",
        "3. Compare kernel ridge regression with Linear regression on the given circular dataset (used in this notebook).\n",
        "\n",
        "\n"
      ]
    },
    {
      "cell_type": "markdown",
      "metadata": {
        "id": "VHfHdGCP_n6Y"
      },
      "source": [
        "### Please answer the questions below to complete the experiment:\n",
        "\n",
        "\n"
      ]
    },
    {
      "cell_type": "code",
      "metadata": {
        "id": "VgSwVENIPcM6"
      },
      "source": [
        "# @title In SVM, the dimension of the hyperplane depends upon which one? { run: \"auto\", form-width: \"500px\", display-mode: \"form\" }\n",
        "Answer = \"\" #@param [\"\",\"Number of features in a sample\", \"Number of support vectors\", \"Number of samples\"]"
      ],
      "execution_count": null,
      "outputs": []
    },
    {
      "cell_type": "code",
      "metadata": {
        "id": "NMzKSbLIgFzQ"
      },
      "source": [
        "#@title How was the experiment? { run: \"auto\", form-width: \"500px\", display-mode: \"form\" }\n",
        "Complexity = \"\" #@param [\"\",\"Too Simple, I am wasting time\", \"Good, But Not Challenging for me\", \"Good and Challenging for me\", \"Was Tough, but I did it\", \"Too Difficult for me\"]\n"
      ],
      "execution_count": null,
      "outputs": []
    },
    {
      "cell_type": "code",
      "metadata": {
        "id": "DjcH1VWSFI2l"
      },
      "source": [
        "#@title If it was too easy, what more would you have liked to be added? If it was very difficult, what would you have liked to have been removed? { run: \"auto\", display-mode: \"form\" }\n",
        "Additional = \"\" #@param {type:\"string\"}\n"
      ],
      "execution_count": null,
      "outputs": []
    },
    {
      "cell_type": "code",
      "metadata": {
        "id": "4VBk_4VTAxCM"
      },
      "source": [
        "#@title Can you identify the concepts from the lecture which this experiment covered? { run: \"auto\", vertical-output: true, display-mode: \"form\" }\n",
        "Concepts = \"\" #@param [\"\",\"Yes\", \"No\"]\n"
      ],
      "execution_count": null,
      "outputs": []
    },
    {
      "cell_type": "code",
      "metadata": {
        "id": "XH91cL1JWH7m"
      },
      "source": [
        "#@title  Text and image description/explanation and code comments within the experiment: { run: \"auto\", vertical-output: true, display-mode: \"form\" }\n",
        "Comments = \"\" #@param [\"\",\"Very Useful\", \"Somewhat Useful\", \"Not Useful\", \"Didn't use\"]\n"
      ],
      "execution_count": null,
      "outputs": []
    },
    {
      "cell_type": "code",
      "metadata": {
        "id": "z8xLqj7VWIKW"
      },
      "source": [
        "#@title Mentor Support: { run: \"auto\", vertical-output: true, display-mode: \"form\" }\n",
        "Mentor_support = \"\" #@param [\"\",\"Very Useful\", \"Somewhat Useful\", \"Not Useful\", \"Didn't use\"]\n"
      ],
      "execution_count": null,
      "outputs": []
    },
    {
      "cell_type": "code",
      "metadata": {
        "id": "FzAZHt1zw-Y-",
        "cellView": "form"
      },
      "source": [
        "#@title Run this cell to submit your notebook for grading { vertical-output: true }\n",
        "try:\n",
        "  if submission_id:\n",
        "      return_id = submit_notebook()\n",
        "      if return_id : submission_id = return_id\n",
        "  else:\n",
        "      print(\"Please complete the setup first.\")\n",
        "except NameError:\n",
        "  print (\"Please complete the setup first.\")"
      ],
      "execution_count": null,
      "outputs": []
    }
  ]
}