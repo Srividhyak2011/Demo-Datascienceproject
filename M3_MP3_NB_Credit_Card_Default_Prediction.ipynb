{
  "cells": [
    {
      "cell_type": "markdown",
      "metadata": {
        "id": "view-in-github",
        "colab_type": "text"
      },
      "source": [
        "<a href=\"https://colab.research.google.com/github/Srividhyak2011/Demo-Datascienceproject/blob/main/M3_MP3_NB_Credit_Card_Default_Prediction.ipynb\" target=\"_parent\"><img src=\"https://colab.research.google.com/assets/colab-badge.svg\" alt=\"Open In Colab\"/></a>"
      ]
    },
    {
      "cell_type": "markdown",
      "metadata": {
        "id": "powered-thong"
      },
      "source": [
        "# Applied Data Science and Machine Intelligence\n",
        "## A program by IIT Madras and TalentSprint\n",
        "### Mini Project 03 : Credit Card Default Risk Analysis"
      ]
    },
    {
      "cell_type": "markdown",
      "metadata": {
        "id": "1nK0fzdQzk0g"
      },
      "source": [
        "## Learning Objectives\n",
        "\n",
        "At the end of the mini project, you will be able to\n",
        "\n",
        "* understand the application of machine learning in finacial sector\n",
        "* use a real world dataset.\n",
        "* compare between different types of classification methods and their pros and cons."
      ]
    },
    {
      "cell_type": "markdown",
      "metadata": {
        "id": "hungry-accident"
      },
      "source": [
        "**Packages used:**  \n",
        "* `Pandas` for data frames and easy to read csv files  \n",
        "* `Numpy` for array and matrix mathematics functions  \n",
        "* `Matplotlib` and `Seaborn` for visualization\n",
        "*  `sklearn` for the metrics and pre-processing\n",
        "\n"
      ]
    },
    {
      "cell_type": "markdown",
      "metadata": {
        "id": "AClW5O_SI7cL"
      },
      "source": [
        "### Dataset Description\n",
        "\n",
        "The dataset chosen for this mini project is [default of credit card clients Data Set](https://archive.ics.uci.edu/ml/datasets/default+of+credit+card+clients) with 30000 instances each having 24 attributes.\n",
        "\n"
      ]
    },
    {
      "cell_type": "code",
      "execution_count": null,
      "metadata": {
        "_cell_guid": "79c7e3d0-c299-4dcb-8224-4455121ee9b0",
        "_uuid": "d629ff2d2480ee46fbb7e2d37f6b5fab8052498a",
        "execution": {
          "iopub.execute_input": "2020-12-05T22:24:16.523522Z",
          "iopub.status.busy": "2020-12-05T22:24:16.522759Z",
          "iopub.status.idle": "2020-12-05T22:24:17.920125Z",
          "shell.execute_reply": "2020-12-05T22:24:17.918933Z"
        },
        "papermill": {
          "duration": 1.421007,
          "end_time": "2020-12-05T22:24:17.920272",
          "exception": false,
          "start_time": "2020-12-05T22:24:16.499265",
          "status": "completed"
        },
        "tags": [],
        "id": "PjDTpmCTHBo9"
      },
      "outputs": [],
      "source": [
        "# Import the libraries used for machine learning\n",
        "import numpy as np\n",
        "import pandas as pd\n",
        "import scipy.optimize as opt\n",
        "\n",
        "import matplotlib.pyplot as plt\n",
        "import seaborn as sns\n",
        "from pandas import set_option\n",
        "from pandas_profiling import ProfileReport\n",
        "plt.style.use('ggplot')\n",
        "\n",
        "\n",
        "from sklearn.preprocessing import StandardScaler\n",
        "from sklearn.model_selection import train_test_split\n",
        "\n",
        "from sklearn.linear_model import LogisticRegression\n",
        "from sklearn.svm import SVC\n",
        "from sklearn.neural_network import MLPClassifier\n",
        "from sklearn.model_selection import KFold \n",
        "from sklearn.ensemble import RandomForestClassifier\n",
        "import xgboost as xgb\n",
        "from xgboost import XGBClassifier\n",
        "from sklearn.model_selection import cross_val_score\n",
        "from sklearn.metrics import classification_report\n",
        "from sklearn.metrics import confusion_matrix\n",
        "from sklearn.metrics import roc_curve\n",
        "\n",
        "import os"
      ]
    },
    {
      "cell_type": "code",
      "source": [
        "#@title Download Dataset\n",
        "!wget https://cdn.extras.talentsprint.com/ADSMI/Datasets/default_of_credit_card_clients.zip\n",
        "!unzip \"default_of_credit_card_clients.zip\""
      ],
      "metadata": {
        "cellView": "form",
        "id": "j6q2YuUoGMfY"
      },
      "execution_count": null,
      "outputs": []
    },
    {
      "cell_type": "markdown",
      "source": [
        "### **Exercise 1**: Load the data show the top few rows of the dataframe.  (1 point)"
      ],
      "metadata": {
        "id": "NcrPoZuecj4F"
      }
    },
    {
      "cell_type": "code",
      "execution_count": null,
      "metadata": {
        "execution": {
          "iopub.execute_input": "2020-12-05T22:24:17.968982Z",
          "iopub.status.busy": "2020-12-05T22:24:17.968148Z",
          "iopub.status.idle": "2020-12-05T22:24:18.149989Z",
          "shell.execute_reply": "2020-12-05T22:24:18.149238Z"
        },
        "papermill": {
          "duration": 0.212996,
          "end_time": "2020-12-05T22:24:18.150129",
          "exception": false,
          "start_time": "2020-12-05T22:24:17.937133",
          "status": "completed"
        },
        "tags": [],
        "id": "ebO2P6SPHBo_"
      },
      "outputs": [],
      "source": [
        "# Load the dataset \n",
        "# YOUR CODE HERE"
      ]
    },
    {
      "cell_type": "markdown",
      "source": [
        "### **Exercise 2**: Perform the following\n",
        "\n",
        "- Exploratory Data Analysis (2 points)\n",
        "- Preprocessing (1 point)"
      ],
      "metadata": {
        "id": "29Oq9udac60t"
      }
    },
    {
      "cell_type": "markdown",
      "source": [
        "## Exploratory data analysis\n",
        "\n",
        "there are total 23 explanatory variables and one response variable. Some variable need to be converted to categories. such as.\n",
        "\n",
        "* __Gender(X2)__\n",
        "1 = Male, 2 = Female\n",
        "\n",
        "* __EDUCATION(X3)__\n",
        "1 = graduate school; 2 = university; 3 = high school; 4 = others\n",
        "* __Marital status(X4)__\n",
        "1 = married; 2 = single; 3 = others\n",
        "* __Repayment status(X6-X11)__\n",
        "   -2= no consumption, -1= pay duly, 1 = payment delay for one month, 2 = payment delay for two months, ...,8 = payment delay for eight months,9 = payment delay for nine months and above\n",
        "\n",
        "   these variables should be converted to categorical variable\n"
      ],
      "metadata": {
        "id": "PVtUB23odCz_"
      }
    },
    {
      "cell_type": "code",
      "execution_count": null,
      "metadata": {
        "execution": {
          "iopub.execute_input": "2020-12-05T22:24:18.306512Z",
          "iopub.status.busy": "2020-12-05T22:24:18.305276Z",
          "iopub.status.idle": "2020-12-05T22:24:18.322984Z",
          "shell.execute_reply": "2020-12-05T22:24:18.322225Z"
        },
        "papermill": {
          "duration": 0.040835,
          "end_time": "2020-12-05T22:24:18.323112",
          "exception": false,
          "start_time": "2020-12-05T22:24:18.282277",
          "status": "completed"
        },
        "tags": [],
        "id": "NAwfynJcHBpC"
      },
      "outputs": [],
      "source": [
        "# drop column \"ID\"\n",
        "# YOUR CODE HERE "
      ]
    },
    {
      "cell_type": "markdown",
      "source": [
        "### Statistics\n",
        "The detail statistics of the dataset of various columns of dataset"
      ],
      "metadata": {
        "id": "M6OUV5kGdJ9q"
      }
    },
    {
      "cell_type": "code",
      "source": [
        "# Print Summary of the dataset\n",
        "# YOUR CODE HERE"
      ],
      "metadata": {
        "id": "ng6HO4Ofdho_"
      },
      "execution_count": null,
      "outputs": []
    },
    {
      "cell_type": "code",
      "source": [
        "# male, female counts\n",
        "# YOUR CODE HERE"
      ],
      "metadata": {
        "id": "7AWT1X3FHyy1"
      },
      "execution_count": null,
      "outputs": []
    },
    {
      "cell_type": "code",
      "source": [
        "#Education categories\n",
        "# YOUR CODE HERE"
      ],
      "metadata": {
        "id": "ZIJ8AKdwIADM"
      },
      "execution_count": null,
      "outputs": []
    },
    {
      "cell_type": "code",
      "source": [
        "# Marriage catagories\n",
        "# YOUR CODE HERE"
      ],
      "metadata": {
        "id": "7bAXh64QITt7"
      },
      "execution_count": null,
      "outputs": []
    },
    {
      "cell_type": "markdown",
      "metadata": {
        "papermill": {
          "duration": 0.017445,
          "end_time": "2020-12-05T22:24:18.358487",
          "exception": false,
          "start_time": "2020-12-05T22:24:18.341042",
          "status": "completed"
        },
        "tags": [],
        "id": "gmATdL80HBpC"
      },
      "source": [
        "### Visualization"
      ]
    },
    {
      "cell_type": "code",
      "source": [
        "# plot the frequency of defaults\n",
        "# YOUR CODE HERE"
      ],
      "metadata": {
        "id": "BQC0pJa9oKoR"
      },
      "execution_count": null,
      "outputs": []
    },
    {
      "cell_type": "code",
      "source": [
        "# Plot distribution of age and limit balance\n",
        "\n",
        "# YOUR CODE HERE"
      ],
      "metadata": {
        "id": "f8dsT4QODJG3"
      },
      "execution_count": null,
      "outputs": []
    },
    {
      "cell_type": "code",
      "execution_count": null,
      "metadata": {
        "execution": {
          "iopub.execute_input": "2020-12-05T22:24:18.402978Z",
          "iopub.status.busy": "2020-12-05T22:24:18.402162Z",
          "iopub.status.idle": "2020-12-05T22:24:21.168368Z",
          "shell.execute_reply": "2020-12-05T22:24:21.168998Z"
        },
        "papermill": {
          "duration": 2.792902,
          "end_time": "2020-12-05T22:24:21.169161",
          "exception": false,
          "start_time": "2020-12-05T22:24:18.376259",
          "status": "completed"
        },
        "tags": [],
        "id": "3BvwbuYHHBpD"
      },
      "outputs": [],
      "source": [
        "#Plot the defaulter(Y), marriage(X4) vs age(X5) use seborn library\n",
        "                                          \n",
        "# YOUR CODE HERE"
      ]
    },
    {
      "cell_type": "code",
      "source": [
        "# plot the defaulter(Y), sex(X2) vs age(X5)\n",
        "# YOUR CODE HERE"
      ],
      "metadata": {
        "id": "TnHBw3sujsgW"
      },
      "execution_count": null,
      "outputs": []
    },
    {
      "cell_type": "markdown",
      "metadata": {
        "papermill": {
          "duration": 0.024364,
          "end_time": "2020-12-05T22:24:21.218423",
          "exception": false,
          "start_time": "2020-12-05T22:24:21.194059",
          "status": "completed"
        },
        "tags": [],
        "id": "6lhtBgTgHBpD"
      },
      "source": [
        "# Preprocessing"
      ]
    },
    {
      "cell_type": "code",
      "execution_count": null,
      "metadata": {
        "execution": {
          "iopub.execute_input": "2020-12-05T22:24:21.337696Z",
          "iopub.status.busy": "2020-12-05T22:24:21.336904Z",
          "iopub.status.idle": "2020-12-05T22:24:21.340647Z",
          "shell.execute_reply": "2020-12-05T22:24:21.339998Z"
        },
        "papermill": {
          "duration": 0.036888,
          "end_time": "2020-12-05T22:24:21.340804",
          "exception": false,
          "start_time": "2020-12-05T22:24:21.303916",
          "status": "completed"
        },
        "tags": [],
        "id": "_w4MGj3gHBpE"
      },
      "outputs": [],
      "source": [
        "# One hot encoding for columns with nominal categorical values\n",
        "\n",
        "# YOUR CODE HERE"
      ]
    },
    {
      "cell_type": "code",
      "execution_count": null,
      "metadata": {
        "execution": {
          "iopub.execute_input": "2020-12-05T22:24:21.461508Z",
          "iopub.status.busy": "2020-12-05T22:24:21.460705Z",
          "iopub.status.idle": "2020-12-05T22:24:21.542328Z",
          "shell.execute_reply": "2020-12-05T22:24:21.541580Z"
        },
        "papermill": {
          "duration": 0.112126,
          "end_time": "2020-12-05T22:24:21.542458",
          "exception": false,
          "start_time": "2020-12-05T22:24:21.430332",
          "status": "completed"
        },
        "tags": [],
        "id": "vhONP_PSHBpF"
      },
      "outputs": [],
      "source": [
        "# Split the data into  X (input features) and Y (output features)\n",
        "# YOUR CODE HERE"
      ]
    },
    {
      "cell_type": "markdown",
      "source": [
        "### **Exercise 3** (4 Points)\n",
        "\n",
        "Train the model using the 4 ML models:\n",
        "\n",
        "- Logistic Regression\n",
        "- Perceptron\n",
        "- SVM\n",
        "- Random Forest"
      ],
      "metadata": {
        "id": "rxNRFvaydjoz"
      }
    },
    {
      "cell_type": "markdown",
      "metadata": {
        "papermill": {
          "duration": 0.028445,
          "end_time": "2020-12-05T22:24:21.843465",
          "exception": false,
          "start_time": "2020-12-05T22:24:21.815020",
          "status": "completed"
        },
        "tags": [],
        "id": "Oju_dNgMQk5T"
      },
      "source": [
        "## Training\n",
        "\n",
        "Application of machine learning models, such as\n",
        "\n",
        "### Logistic Regression\n",
        "Logistic regression is named for the function used at the core of the method, the logistic function.\n",
        "\n",
        "The logistic function, more popularly called the sigmoid function was to describe properties of population growth in ecology, rising quickly and maxing out at the carrying capacity of the environment. \n",
        "\n",
        "It’s an S-shaped curve that can take any real-valued number and map it into a value between 0 and 1, but never exactly at those limits.\n",
        "\n",
        "$\\frac{1}{ (1 + e^{-value})}$\n",
        "\n",
        "Where $e$ is the base of the natural logarithms and value is the actual numerical value that you want to transform. Below is a plot of the numbers between $-5$ and $5$ transformed into the range $0$ and $1$ using the logistic function.\n",
        "\n",
        "\n",
        "\n"
      ]
    },
    {
      "cell_type": "markdown",
      "metadata": {
        "id": "KBkkBAD8UNmD"
      },
      "source": [
        "### The Perceptron\n",
        "\n",
        "The Perceptron is one of the simplest ANN architectures, invented in 1957 by Frank Rosenblatt. It is based on a slightly different artificial neuron (shown in the figure below) called a **threshold logic unit (TLU)**. The inputs and the output are numbers (instead of binary on/off values), and each input connection is associated with a weight. The TLU computes a weighted sum of its inputs $$(z = w_1 x_1 + w_2 x_2 + ⋯ + w_n x_n = x^⊺ w)$$, then applies a step function to that sum and outputs the result: $$h_w(x) = step(z)$$, where $z = x^⊺ w$.\n",
        "<br><br>\n",
        "\n",
        "The most common step function used in Perceptrons is the Heaviside step function. Sometimes the sign function is used instead.\n",
        "\n",
        "$$heaviside (z) = \\begin{equation}\n",
        "\\left\\{ \n",
        "  \\begin{aligned}\n",
        "    &0&  if\\ \\  z < 0\\\\ \n",
        "    &1&  if\\ \\  z \\ge 0\\\\ \n",
        "  \\end{aligned}\n",
        "  \\right.\n",
        "\\end{equation}\n",
        "$$\n",
        "\n",
        "$$sgn (z) = \\begin{equation}\n",
        "\\left\\{ \n",
        "  \\begin{aligned}\n",
        "    &-1&  if\\ \\  z < 0\\\\ \n",
        "    &0&  if\\ \\  z = 0\\\\\n",
        "    &1&  if\\ \\  z > 0\\\\ \n",
        "  \\end{aligned}\n",
        "  \\right.\n",
        "\\end{equation}\n",
        "$$\n",
        "\n",
        "A single TLU can be used for simple linear binary classification. It computes a linear combination of the inputs, and if the result exceeds a threshold, it outputs the positive class. Otherwise, it outputs the negative class. \n",
        "\n",
        "\n",
        "\n",
        "The decision boundary of each output neuron is linear, so Perceptrons are incapable of learning complex patterns (just like Logistic Regression classifiers). However, if the training instances are linearly separable, Rosenblatt demonstrated that this algorithm would converge to a solution. This is called the Perceptron convergence theorem.\n",
        "\n",
        "### Support Vector Machines: Maximizing the Margin\n",
        "\n",
        "Support vector machines offer one way to improve on this. The intuition is this: rather than simply drawing a zero-width line between the classes, we can draw around each line a margin of some width, up to the nearest point. \n",
        "\n",
        "### Random Forests\n",
        "\n",
        "A random forest is a collection of decision trees whose results are aggregated into one final result. Random Forest  is a supervised classification algorithm. There is a direct relationship between the number of trees in the forest and the results it can get: the larger the number of trees, the more accurate the result. But here creating the forest is not the same as constructing the decision tree with the information gain or gain index approach.\n",
        "\n",
        "The difference between the Random Forest algorithm and the decision tree algorithm is that in Random Forest, the process of finding the root node and splitting the feature nodes will run randomly."
      ]
    },
    {
      "cell_type": "code",
      "execution_count": null,
      "metadata": {
        "execution": {
          "iopub.execute_input": "2020-12-05T22:24:21.990019Z",
          "iopub.status.busy": "2020-12-05T22:24:21.988642Z",
          "iopub.status.idle": "2020-12-05T22:25:11.139623Z",
          "shell.execute_reply": "2020-12-05T22:25:11.140397Z"
        },
        "papermill": {
          "duration": 49.189936,
          "end_time": "2020-12-05T22:25:11.140585",
          "exception": false,
          "start_time": "2020-12-05T22:24:21.950649",
          "status": "completed"
        },
        "tags": [],
        "id": "zlbsCyPpHBpI"
      },
      "outputs": [],
      "source": [
        "# Apply vaious classification machine learning algorithms\n",
        "# YOUR CODE HERE"
      ]
    },
    {
      "cell_type": "markdown",
      "source": [
        "### **Exercise 4**\n",
        "\n",
        "Evaluate the models and display the results ( 2 points)"
      ],
      "metadata": {
        "id": "qHgNIvrvd6wu"
      }
    },
    {
      "cell_type": "markdown",
      "source": [
        "### Model Evaluation \n",
        "\n",
        "To evaluate the performance of a classification model, the following metrics are used:\n",
        "\n",
        "* Confusion matrix\n",
        "  * Accuracy\n",
        "  * Precision\n",
        "  * Recall\n",
        "  * F1-Score"
      ],
      "metadata": {
        "id": "sw4YsYjK9Ova"
      }
    },
    {
      "cell_type": "code",
      "execution_count": null,
      "metadata": {
        "execution": {
          "iopub.execute_input": "2020-12-05T22:25:11.212376Z",
          "iopub.status.busy": "2020-12-05T22:25:11.211215Z",
          "iopub.status.idle": "2020-12-05T22:25:16.702880Z",
          "shell.execute_reply": "2020-12-05T22:25:16.703505Z"
        },
        "papermill": {
          "duration": 5.531104,
          "end_time": "2020-12-05T22:25:16.703687",
          "exception": false,
          "start_time": "2020-12-05T22:25:11.172583",
          "status": "completed"
        },
        "tags": [],
        "id": "Obj43wF2HBpI"
      },
      "outputs": [],
      "source": [
        "# Display performance metrics and confusion matrix as infographic\n",
        "# YOUR CODE HERE"
      ]
    }
  ],
  "metadata": {
    "kernelspec": {
      "display_name": "Python 3",
      "language": "python",
      "name": "python3"
    },
    "language_info": {
      "codemirror_mode": {
        "name": "ipython",
        "version": 3
      },
      "file_extension": ".py",
      "mimetype": "text/x-python",
      "name": "python",
      "nbconvert_exporter": "python",
      "pygments_lexer": "ipython3",
      "version": "3.7.6"
    },
    "papermill": {
      "duration": 65.818299,
      "end_time": "2020-12-05T22:25:16.902366",
      "environment_variables": {},
      "exception": null,
      "input_path": "__notebook__.ipynb",
      "output_path": "__notebook__.ipynb",
      "parameters": {},
      "start_time": "2020-12-05T22:24:11.084067",
      "version": "2.1.0"
    },
    "colab": {
      "provenance": [],
      "include_colab_link": true
    }
  },
  "nbformat": 4,
  "nbformat_minor": 0
}